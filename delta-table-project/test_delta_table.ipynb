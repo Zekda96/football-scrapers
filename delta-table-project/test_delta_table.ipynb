{
 "cells": [
  {
   "cell_type": "code",
   "execution_count": 1,
   "metadata": {},
   "outputs": [
    {
     "data": {
      "text/html": [
       "\n",
       "            <div>\n",
       "                <p><b>SparkSession - in-memory</b></p>\n",
       "                \n",
       "        <div>\n",
       "            <p><b>SparkContext</b></p>\n",
       "\n",
       "            <p><a href=\"http://Ryzen5-PC.mshome.net:4040\">Spark UI</a></p>\n",
       "\n",
       "            <dl>\n",
       "              <dt>Version</dt>\n",
       "                <dd><code>v3.5.4</code></dd>\n",
       "              <dt>Master</dt>\n",
       "                <dd><code>local[*]</code></dd>\n",
       "              <dt>AppName</dt>\n",
       "                <dd><code>MyApp</code></dd>\n",
       "            </dl>\n",
       "        </div>\n",
       "        \n",
       "            </div>\n",
       "        "
      ],
      "text/plain": [
       "<pyspark.sql.session.SparkSession at 0x21fc693ec50>"
      ]
     },
     "execution_count": 1,
     "metadata": {},
     "output_type": "execute_result"
    }
   ],
   "source": [
    "from pyspark.sql import SparkSession, Row\n",
    "from delta import *\n",
    "\n",
    "table_path = \"./tmp/delta-table\"\n",
    "\n",
    "builder = SparkSession.builder.appName(\"MyApp\") \\\n",
    "    .config(\"spark.sql.extensions\", \"io.delta.sql.DeltaSparkSessionExtension\") \\\n",
    "    .config(\"spark.sql.catalog.spark_catalog\", \"org.apache.spark.sql.delta.catalog.DeltaCatalog\")\n",
    "\n",
    "spark = configure_spark_with_delta_pip(builder).getOrCreate()\n",
    "\n",
    "spark"
   ]
  },
  {
   "cell_type": "code",
   "execution_count": 4,
   "metadata": {},
   "outputs": [
    {
     "name": "stdout",
     "output_type": "stream",
     "text": [
      "+---+---+-------+----------+-------------------+\n",
      "|  a|  b|      c|         d|                  e|\n",
      "+---+---+-------+----------+-------------------+\n",
      "|  1|2.0|string1|2000-01-01|2000-01-01 12:00:00|\n",
      "|  2|3.0|string2|2000-02-01|2000-01-02 12:00:00|\n",
      "|  4|5.0|string3|2000-03-01|2000-01-03 12:00:00|\n",
      "+---+---+-------+----------+-------------------+\n",
      "\n"
     ]
    }
   ],
   "source": [
    "from datetime import datetime, date\n",
    "\n",
    "df = spark.createDataFrame([\n",
    "    Row(a=1, b=2., c='string1', d=date(2000, 1, 1), e=datetime(2000, 1, 1, 12, 0)),\n",
    "    Row(a=2, b=3., c='string2', d=date(2000, 2, 1), e=datetime(2000, 1, 2, 12, 0)),\n",
    "    Row(a=4, b=5., c='string3', d=date(2000, 3, 1), e=datetime(2000, 1, 3, 12, 0))\n",
    "])\n",
    "\n",
    "df.show()"
   ]
  },
  {
   "cell_type": "markdown",
   "metadata": {},
   "source": [
    "Create a table"
   ]
  },
  {
   "cell_type": "code",
   "execution_count": 6,
   "metadata": {},
   "outputs": [
    {
     "name": "stdout",
     "output_type": "stream",
     "text": [
      "+--------+--------+------+------+---------+------+-------+-------+-------+\n",
      "|event_id|is_touch|minute|period|player_id|second|team_id|is_shot|is_goal|\n",
      "+--------+--------+------+------+---------+------+-------+-------+-------+\n",
      "|       1|    true|     5|     1|      101|    23|      1|  false|  false|\n",
      "|       2|    true|    15|     1|      102|    45|      2|  false|  false|\n",
      "|       3|    true|    30|     1|      101|    10|      1|   true|  false|\n",
      "|       4|    true|    40|     2|      103|     5|      1|   true|   true|\n",
      "|       5|    true|    50|     2|      104|    32|      2|   true|  false|\n",
      "|       6|    true|    55|     2|      101|    10|      1|  false|  false|\n",
      "+--------+--------+------+------+---------+------+-------+-------+-------+\n",
      "\n"
     ]
    }
   ],
   "source": [
    "\n",
    "# Sample soccer event data\n",
    "df = spark.createDataFrame([\n",
    "    Row(event_id=1, is_touch=True, minute=5, period=1, player_id=101, second=23, team_id=1, is_shot=False, is_goal=False),\n",
    "    Row(event_id=2, is_touch=True, minute=15, period=1, player_id=102, second=45, team_id=2, is_shot=False, is_goal=False),\n",
    "    Row(event_id=3, is_touch=True, minute=30, period=1, player_id=101, second=10, team_id=1, is_shot=True, is_goal=False),\n",
    "    Row(event_id=4, is_touch=True, minute=40, period=2, player_id=103, second=5, team_id=1, is_shot=True, is_goal=True),\n",
    "    Row(event_id=5, is_touch=True, minute=50, period=2, player_id=104, second=32, team_id=2, is_shot=True, is_goal=False),\n",
    "    Row(event_id=6, is_touch=True, minute=55, period=2, player_id=101, second=10, team_id=1, is_shot=False, is_goal=False)\n",
    "])\n",
    "\n",
    "# Create DataFrame\n",
    "delta_path = \"./tmp/soccer_events_delta\"\n",
    "\n",
    "df.write.format(\"delta\").save(delta_path)\n",
    "\n",
    "df.show()\n"
   ]
  },
  {
   "cell_type": "code",
   "execution_count": null,
   "metadata": {},
   "outputs": [
    {
     "name": "stdout",
     "output_type": "stream",
     "text": [
      "+--------+--------+------+------+---------+------+-------+-------+-------+\n",
      "|event_id|is_touch|minute|period|player_id|second|team_id|is_shot|is_goal|\n",
      "+--------+--------+------+------+---------+------+-------+-------+-------+\n",
      "|       4|    true|    40|     2|      103|     5|      1|   true|   true|\n",
      "|       2|    true|    15|     1|      102|    45|      2|  false|  false|\n",
      "|       1|    true|     5|     1|      101|    23|      1|  false|  false|\n",
      "|       5|    true|    50|     2|      104|    32|      2|   true|  false|\n",
      "|       6|    true|    55|     2|      101|    10|      1|  false|  false|\n",
      "|       3|    true|    30|     1|      101|    10|      1|   true|  false|\n",
      "+--------+--------+------+------+---------+------+-------+-------+-------+\n",
      "\n"
     ]
    }
   ],
   "source": [
    "# Read Data\n",
    "df = spark.read.format(\"delta\").load(delta_path)\n",
    "df.show()"
   ]
  },
  {
   "cell_type": "markdown",
   "metadata": {},
   "source": [
    "Overwrite"
   ]
  },
  {
   "cell_type": "code",
   "execution_count": 10,
   "metadata": {},
   "outputs": [
    {
     "name": "stdout",
     "output_type": "stream",
     "text": [
      "+--------+--------+------+------+---------+------+-------+-------+-------+\n",
      "|event_id|is_touch|minute|period|player_id|second|team_id|is_shot|is_goal|\n",
      "+--------+--------+------+------+---------+------+-------+-------+-------+\n",
      "|       1|    true|     5|     1|      101|    23|      1|  false|  false|\n",
      "|       2|    true|    15|     1|      102|    45|      2|  false|  false|\n",
      "|       3|    true|    30|     1|      101|    10|      1|   true|  false|\n",
      "|       4|    true|    40|     2|      103|     5|      1|   true|   true|\n",
      "|       5|   false|    50|     2|      104|    32|      2|   true|  false|\n",
      "|       6|   false|    55|     2|      101|    10|      1|   true|   true|\n",
      "+--------+--------+------+------+---------+------+-------+-------+-------+\n",
      "\n"
     ]
    }
   ],
   "source": [
    "df = spark.createDataFrame([\n",
    "    Row(event_id=1, is_touch=True, minute=5, period=1, player_id=101, second=23, team_id=1, is_shot=False, is_goal=False),\n",
    "    Row(event_id=2, is_touch=True, minute=15, period=1, player_id=102, second=45, team_id=2, is_shot=False, is_goal=False),\n",
    "    Row(event_id=3, is_touch=True, minute=30, period=1, player_id=101, second=10, team_id=1, is_shot=True, is_goal=False),\n",
    "    Row(event_id=4, is_touch=True, minute=40, period=2, player_id=103, second=5, team_id=1, is_shot=True, is_goal=True),\n",
    "    Row(event_id=5, is_touch=False, minute=50, period=2, player_id=104, second=32, team_id=2, is_shot=True, is_goal=False),\n",
    "    Row(event_id=6, is_touch=False, minute=55, period=2, player_id=101, second=10, team_id=1, is_shot=True, is_goal=True)\n",
    "])\n",
    "\n",
    "df.show()\n",
    "\n",
    "df.write.format(\"delta\").mode(\"overwrite\").save(delta_path)\n"
   ]
  },
  {
   "cell_type": "code",
   "execution_count": null,
   "metadata": {},
   "outputs": [
    {
     "name": "stdout",
     "output_type": "stream",
     "text": [
      "+--------+--------+------+------+---------+------+-------+-------+-------+\n",
      "|event_id|is_touch|minute|period|player_id|second|team_id|is_shot|is_goal|\n",
      "+--------+--------+------+------+---------+------+-------+-------+-------+\n",
      "|       2|    true|    15|     1|      102|    45|      2|  false|  false|\n",
      "|       1|    true|     5|     1|      101|    23|      1|  false|  false|\n",
      "|       4|    true|    40|     2|      103|     5|      1|   true|   true|\n",
      "|       5|   false|    50|     2|      104|    32|      2|   true|  false|\n",
      "|       6|   false|    55|     2|      101|    10|      1|   true|   true|\n",
      "|       3|    true|    30|     1|      101|    10|      1|   true|  false|\n",
      "+--------+--------+------+------+---------+------+-------+-------+-------+\n",
      "\n"
     ]
    }
   ],
   "source": [
    "# Read Data\n",
    "df = spark.read.format(\"delta\").load(delta_path)\n",
    "df.show()"
   ]
  },
  {
   "cell_type": "markdown",
   "metadata": {},
   "source": [
    "Conditional update without overwrite"
   ]
  },
  {
   "cell_type": "code",
   "execution_count": 16,
   "metadata": {},
   "outputs": [
    {
     "name": "stdout",
     "output_type": "stream",
     "text": [
      "+--------+--------+------+------+---------+------+-------+-------+-------+\n",
      "|event_id|is_touch|minute|period|player_id|second|team_id|is_shot|is_goal|\n",
      "+--------+--------+------+------+---------+------+-------+-------+-------+\n",
      "|       2|    true|    15|     1|      102|    45|      2|  false|  false|\n",
      "|       1|    true|     5|     1|      101|    23|      1|  false|   true|\n",
      "|       4|    true|    40|     2|      103|     5|      1|   true|   true|\n",
      "|       5|   false|    50|     2|      104|    32|      2|   true|  false|\n",
      "|       6|   false|    55|     2|      101|    10|      1|   true|   true|\n",
      "|       3|    true|    30|     1|      101|    10|      1|   true|  false|\n",
      "+--------+--------+------+------+---------+------+-------+-------+-------+\n",
      "\n"
     ]
    },
    {
     "data": {
      "text/plain": [
       "DataFrame[event_id: bigint, is_touch: boolean, minute: bigint, period: bigint, player_id: bigint, second: bigint, team_id: bigint, is_shot: boolean, is_goal: boolean]"
      ]
     },
     "execution_count": 16,
     "metadata": {},
     "output_type": "execute_result"
    }
   ],
   "source": [
    "from delta.tables import *\n",
    "from pyspark.sql.functions import expr\n",
    "\n",
    "deltaTable = DeltaTable.forPath(spark, delta_path)\n",
    "\n",
    "# Update every even value by adding 100 to it\n",
    "deltaTable.update(\n",
    "  condition = expr(\"minute < 10\"),\n",
    "  set = { \"is_goal\": expr(\"True\") })\n",
    "\n",
    "# # Delete every even value\n",
    "# deltaTable.delete(condition = expr(\"id % 2 == 0\"))\n",
    "\n",
    "# # Upsert (merge) new data\n",
    "# newData = spark.range(0, 20)\n",
    "\n",
    "# deltaTable.alias(\"oldData\") \\\n",
    "#   .merge(\n",
    "#     newData.alias(\"newData\"),\n",
    "#     \"oldData.id = newData.id\") \\\n",
    "#   .whenMatchedUpdate(set = { \"id\": col(\"newData.id\") }) \\\n",
    "#   .whenNotMatchedInsert(values = { \"id\": col(\"newData.id\") }) \\\n",
    "#   .execute()\n",
    "\n",
    "df = deltaTable.toDF()\n",
    "df.show()\n",
    "df"
   ]
  },
  {
   "cell_type": "markdown",
   "metadata": {},
   "source": [
    "Read older versions of data using time travel"
   ]
  },
  {
   "cell_type": "code",
   "execution_count": 18,
   "metadata": {},
   "outputs": [
    {
     "name": "stdout",
     "output_type": "stream",
     "text": [
      "+--------+--------+------+------+---------+------+-------+-------+-------+\n",
      "|event_id|is_touch|minute|period|player_id|second|team_id|is_shot|is_goal|\n",
      "+--------+--------+------+------+---------+------+-------+-------+-------+\n",
      "|       5|   false|    50|     2|      104|    32|      2|   true|  false|\n",
      "|       6|   false|    55|     2|      101|    10|      1|   true|   true|\n",
      "+--------+--------+------+------+---------+------+-------+-------+-------+\n",
      "\n"
     ]
    }
   ],
   "source": [
    "df = spark.read.format(\"delta\") \\\n",
    "  .option(\"versionAsOf\", 1) \\\n",
    "  .load(delta_path)\n",
    "\n",
    "df.show()"
   ]
  }
 ],
 "metadata": {
  "kernelspec": {
   "display_name": "venv",
   "language": "python",
   "name": "python3"
  },
  "language_info": {
   "codemirror_mode": {
    "name": "ipython",
    "version": 3
   },
   "file_extension": ".py",
   "mimetype": "text/x-python",
   "name": "python",
   "nbconvert_exporter": "python",
   "pygments_lexer": "ipython3",
   "version": "3.10.11"
  }
 },
 "nbformat": 4,
 "nbformat_minor": 2
}
