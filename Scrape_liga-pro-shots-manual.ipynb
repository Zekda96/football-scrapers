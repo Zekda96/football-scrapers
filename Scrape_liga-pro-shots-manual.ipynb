{
 "cells": [
  {
   "cell_type": "code",
   "execution_count": 3,
   "id": "cb1512d2-d690-4502-bf4e-a7d84a90d437",
   "metadata": {
    "tags": []
   },
   "outputs": [],
   "source": [
    "import requests\n",
    "import json\n",
    "import time\n",
    "\n",
    "headers = {\n",
    "  'authority': 'api.sofascore.com',\n",
    "  'accept': '*/*',\n",
    "  'accept-language': 'en-GB,en-US;q=0.9,en;q=0.8,es;q=0.7',\n",
    "  'cache-control': 'max-age=0',\n",
    "  'origin': 'https://www.sofascore.com',\n",
    "  'referer': 'https://www.sofascore.com/',\n",
    "  'sec-ch-ua': '\"Chromium\";v=\"122\", \"Not(A:Brand\";v=\"24\", \"Google Chrome\";v=\"122\"',\n",
    "  'sec-ch-ua-mobile': '?0',\n",
    "  'sec-ch-ua-platform': '\"macOS\"',\n",
    "  'sec-fetch-dest': 'empty',\n",
    "  'sec-fetch-mode': 'cors',\n",
    "  'sec-fetch-site': 'same-site',\n",
    "  'user-agent': 'Mozilla/5.0 (Macintosh; Intel Mac OS X 10_12_6) AppleWebKit/537.36 (KHTML, like Gecko) Chrome/103.0.0.0 Safari/537.3'\n",
    "  }"
   ]
  },
  {
   "cell_type": "markdown",
   "id": "31b172d6-0920-477a-b7f6-fa6657d61375",
   "metadata": {},
   "source": [
    "Elegir tipo de data"
   ]
  },
  {
   "cell_type": "code",
   "execution_count": 7,
   "id": "a9a1227f-6506-4cdc-9ffd-ab4c6b52ce9d",
   "metadata": {
    "tags": []
   },
   "outputs": [],
   "source": [
    "# data = 'statistics'\n",
    "data = 'shotmap'\n",
    "# data = 'lineups'"
   ]
  },
  {
   "cell_type": "code",
   "execution_count": null,
   "id": "44c9817a-7753-4306-afb6-b0a5be9826da",
   "metadata": {},
   "outputs": [],
   "source": [
    "# macara\n",
    "# libertad\n",
    "# independiente\n",
    "# cumbaya\n",
    "\n",
    "# mushuc-runa\n",
    "# imbabura\n",
    "# liga\n",
    "# aucas\n",
    "\n",
    "# barcelona\n",
    "# orense\n",
    "# catolica\n",
    "# cuenca\n",
    "\n",
    "# delfin\n",
    "# tecnico\n",
    "# nacional\n",
    "# emelec"
   ]
  },
  {
   "cell_type": "markdown",
   "id": "0e0fe79f-080f-42ff-bf23-9acf280f9012",
   "metadata": {
    "tags": []
   },
   "source": [
    "## Fechas"
   ]
  },
  {
   "cell_type": "markdown",
   "id": "0b3c66fd-8e1d-43dd-8c0c-50c5154dd1d2",
   "metadata": {},
   "source": [
    "Fecha 3"
   ]
  },
  {
   "cell_type": "code",
   "execution_count": null,
   "id": "217bb381-6d52-4689-ac28-74bccedf551f",
   "metadata": {
    "tags": []
   },
   "outputs": [],
   "source": [
    "matches_fecha3 = [\n",
    "    {'match_id': '12013997', 'local': 'macara', 'visitante': 'libertad'},\n",
    "    {'match_id': '12014004', 'local': 'independiente', 'visitante': 'cumbaya'},\n",
    "    {'match_id': '12014001', 'local': 'mushuc-runa', 'visitante': 'imbabura'},\n",
    "    {'match_id': '12013995', 'local': 'liga', 'visitante': 'aucas'},\n",
    "    {'match_id': '12013998', 'local': 'barcelona', 'visitante': 'orense'},\n",
    "    {'match_id': '12014002', 'local': 'catolica', 'visitante': 'cuenca'},\n",
    "    {'match_id': '12013996', 'local': 'delfin', 'visitante': 'tecnico'},\n",
    "    {'match_id': '12013999', 'local': 'nacional', 'visitante': 'emelec'},\n",
    "]"
   ]
  },
  {
   "cell_type": "markdown",
   "id": "c08e695d-6f87-4b27-bc4b-df1a7b5aaa70",
   "metadata": {},
   "source": [
    "Fecha 5"
   ]
  },
  {
   "cell_type": "code",
   "execution_count": 3,
   "id": "b4e8fd48",
   "metadata": {
    "tags": []
   },
   "outputs": [],
   "source": [
    "matches_fecha5 = [\n",
    "    # {'match_id': '12013992', 'local': 'imbabura', 'visitante': 'cumbaya'},\n",
    "    # {'match_id': '12013966', 'local': 'nacional', 'visitante': 'cuenca'},\n",
    "    # {'match_id': '12014000', 'local': 'tecnico', 'visitante': 'macara'},\n",
    "    # {'match_id': '12013991', 'local': 'independiente', 'visitante': 'aucas'},\n",
    "\n",
    "    {'match_id': '12013976', 'local': 'delfin', 'visitante': 'libertad'},\n",
    "    {'match_id': '12013990', 'local': 'orense', 'visitante': 'emelec'},\n",
    "    # {'match_id': 'suspendido', 'local': 'mushuc-runa', 'visitante': 'catolica'},\n",
    "    # {'match_id': 'suspendido', 'local': 'barcelona', 'visitante': 'liga'},\n",
    "]"
   ]
  },
  {
   "cell_type": "markdown",
   "id": "a9a97146-df2f-4d6a-88cd-17edcdfd9f83",
   "metadata": {
    "tags": []
   },
   "source": [
    "## Scrape"
   ]
  },
  {
   "cell_type": "code",
   "execution_count": 8,
   "id": "a5c658da-7cbf-40f7-a9d0-a571c8055e8e",
   "metadata": {
    "tags": []
   },
   "outputs": [
    {
     "name": "stdout",
     "output_type": "stream",
     "text": [
      "Match 1: Saved delfin_libertad_shotmap.json\n",
      "0h 40m 16s\n",
      "Match 2: Saved orense_emelec_shotmap.json\n",
      "0h 40m 46s\n"
     ]
    }
   ],
   "source": [
    "matches = matches_fecha5\n",
    "for i, event in enumerate(matches):\n",
    "\n",
    "    response = requests.get(f'https://api.sofascore.com/api/v1/event/{event[\"match_id\"]}/{data}', headers=headers)\n",
    "\n",
    "    fp = f'{event[\"local\"]}_{event[\"visitante\"]}_{data}.json'\n",
    "\n",
    "    with open(fp, 'w') as f:\n",
    "      json.dump(response.json(), f)\n",
    "\n",
    "    print(f'Match {i+1}: Saved {fp}')\n",
    "    print(f'{time.localtime().tm_hour}h {time.localtime().tm_min}m {time.localtime().tm_sec}s')\n",
    "    \n",
    "    # After last match has been saved, stop waiting\n",
    "    if i < len(matches)-1:\n",
    "        time.sleep(30)"
   ]
  },
  {
   "cell_type": "markdown",
   "id": "4350e4c7-2c26-438b-97d9-ee4e42e5eec6",
   "metadata": {},
   "source": [
    "Let's scrape matches id from rounds"
   ]
  },
  {
   "cell_type": "code",
   "execution_count": 25,
   "id": "308870d4-3553-421e-b165-17d18cc226a5",
   "metadata": {},
   "outputs": [],
   "source": [
    "import requests\n",
    "url = f'https://api.sofascore.com/api/v1/unique-tournament/240/season/58043/rounds'\n",
    "response = requests.get(url, headers=headers)\n",
    "current_mw = response.json()['currentRound']['round']"
   ]
  },
  {
   "cell_type": "code",
   "execution_count": 26,
   "id": "6cf73740-cb4f-4f3c-8a97-0bae19cddd14",
   "metadata": {},
   "outputs": [],
   "source": [
    "mw = current_mw\n",
    "# mw = 1\n",
    "url = f'https://api.sofascore.com/api/v1/unique-tournament/240/season/58043/events/round/{mw}'\n",
    "response = requests.get(url, headers=headers)"
   ]
  },
  {
   "cell_type": "code",
   "execution_count": 27,
   "id": "8a6dd6c0-1128-4729-91a3-5f7221a03c13",
   "metadata": {
    "scrolled": true
   },
   "outputs": [
    {
     "name": "stdout",
     "output_type": "stream",
     "text": [
      "12013970 orense mushuc-runa\n",
      "12013965 aucas cumbaya\n",
      "12013978 nacional liga\n",
      "12013969 barcelona cuenca\n",
      "12013973 independiente libertad\n",
      "12013959 delfin catolica\n",
      "12013979 tecnico emelec\n"
     ]
    },
    {
     "data": {
      "text/plain": [
       "[{'match_id': 12013970, 'local': 'orense', 'visitante': 'mushuc-runa'},\n",
       " {'match_id': 12013965, 'local': 'aucas', 'visitante': 'cumbaya'},\n",
       " {'match_id': 12013978, 'local': 'nacional', 'visitante': 'liga'},\n",
       " {'match_id': 12013969, 'local': 'barcelona', 'visitante': 'cuenca'},\n",
       " {'match_id': 12013973, 'local': 'independiente', 'visitante': 'libertad'},\n",
       " {'match_id': 12013959, 'local': 'delfin', 'visitante': 'catolica'},\n",
       " {'match_id': 12013979, 'local': 'tecnico', 'visitante': 'emelec'}]"
      ]
     },
     "execution_count": 27,
     "metadata": {},
     "output_type": "execute_result"
    }
   ],
   "source": [
    "equipos = {\n",
    "    'Aucas': 'aucas',\n",
    "    'Barcelona SC': 'barcelona',\n",
    "    'Cuenca': 'cuenca',\n",
    "    'Cumbayá FC': 'cumbaya',\n",
    "    'Delfín': 'delfin',\n",
    "    'El Nacional': 'nacional',\n",
    "    'Emelec': 'emelec',\n",
    "    'Imbabura': 'imbabura',\n",
    "    'Independiente del Valle': 'independiente',\n",
    "    'LDU': 'liga',\n",
    "    'Libertad': 'libertad',\n",
    "    'Macará': 'macara',\n",
    "    'Mushuc Runa':'mushuc-runa',\n",
    "    'Orense': 'orense',\n",
    "    'Universidad Católica': 'catolica',\n",
    "    'Técnico': 'tecnico',\n",
    "    \n",
    "}\n",
    "\n",
    "matches = []\n",
    "for match in response.json()['events']:\n",
    "    if match['status']['description'] == 'Ended':\n",
    "        id = match['id']\n",
    "        local = equipos[match['homeTeam']['shortName']]\n",
    "        visitante = equipos[match['awayTeam']['shortName']]\n",
    "        print(id, local, visitante)\n",
    "        matches.append({'match_id': id, 'local': local, 'visitante': visitante})\n",
    "matches\n",
    "\n",
    "# for i, event in enumerate(matches):\n",
    "#     response = requests.get(f'https://api.sofascore.com/api/v1/event/{event[\"match_id\"]}/{data}', headers=headers)\n",
    "    \n",
    "#     fp = f'{event[\"local\"]}_{event[\"visitante\"]}_{data}.json'\n",
    "    \n",
    "#     with open(fp, 'w') as f:\n",
    "#       json.dump(response.json(), f)\n",
    "    \n",
    "#     print(f'Match {i+1}: Saved {fp}')\n",
    "#     print(f'{time.localtime().tm_hour}h {time.localtime().tm_min}m {time.localtime().tm_sec}s')\n",
    "    \n",
    "#     # After last match has been saved, stop waiting\n",
    "#     if i < len(matches)-1:\n",
    "#         time.sleep(30)"
   ]
  },
  {
   "cell_type": "code",
   "execution_count": 28,
   "id": "7b947d70-8e1b-4879-90ee-d9dd3ecfaba0",
   "metadata": {},
   "outputs": [
    {
     "data": {
      "text/plain": [
       "7"
      ]
     },
     "execution_count": 28,
     "metadata": {},
     "output_type": "execute_result"
    }
   ],
   "source": [
    "current_mw"
   ]
  },
  {
   "cell_type": "code",
   "execution_count": null,
   "id": "df19aa3c-42c6-4a2c-9774-20256554d739",
   "metadata": {},
   "outputs": [],
   "source": []
  }
 ],
 "metadata": {
  "kernelspec": {
   "display_name": "Python 3 (ipykernel)",
   "language": "python",
   "name": "python3"
  },
  "language_info": {
   "codemirror_mode": {
    "name": "ipython",
    "version": 3
   },
   "file_extension": ".py",
   "mimetype": "text/x-python",
   "name": "python",
   "nbconvert_exporter": "python",
   "pygments_lexer": "ipython3",
   "version": "3.12.2"
  }
 },
 "nbformat": 4,
 "nbformat_minor": 5
}
