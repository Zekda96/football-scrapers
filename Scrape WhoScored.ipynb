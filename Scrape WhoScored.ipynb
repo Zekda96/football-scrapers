{
 "cells": [
  {
   "cell_type": "code",
   "execution_count": 1,
   "id": "f77491a7",
   "metadata": {},
   "outputs": [
    {
     "name": "stdout",
     "output_type": "stream",
     "text": [
      "Collecting soccerdata\n",
      "  Downloading soccerdata-1.8.7-py3-none-any.whl.metadata (5.6 kB)\n",
      "Collecting PySocks<2.0.0,>=1.7.1 (from soccerdata)\n",
      "  Using cached PySocks-1.7.1-py3-none-any.whl.metadata (13 kB)\n",
      "Collecting Unidecode<2.0.0,>=1.2.0 (from soccerdata)\n",
      "  Using cached Unidecode-1.3.8-py3-none-any.whl.metadata (13 kB)\n",
      "Collecting cloudscraper<2.0.0,>=1.2.71 (from soccerdata)\n",
      "  Downloading cloudscraper-1.2.71-py2.py3-none-any.whl.metadata (19 kB)\n",
      "Collecting html5lib<2.0,>=1.1 (from soccerdata)\n",
      "  Downloading html5lib-1.1-py2.py3-none-any.whl.metadata (16 kB)\n",
      "Collecting lxml<5.0.0,>=4.9.3 (from soccerdata)\n",
      "  Downloading lxml-4.9.4-cp310-cp310-win_amd64.whl.metadata (3.8 kB)\n",
      "Requirement already satisfied: packaging<25.0,>=24.1 in c:\\users\\user\\documents\\git projects\\football-scrapers\\.venv\\lib\\site-packages (from soccerdata) (24.2)\n",
      "Collecting pandas!=2.1.0,<3.0.0,>=2.0.0 (from soccerdata)\n",
      "  Using cached pandas-2.2.3-cp310-cp310-win_amd64.whl.metadata (19 kB)\n",
      "Collecting requests<3.0,>=2.23 (from soccerdata)\n",
      "  Using cached requests-2.32.3-py3-none-any.whl.metadata (4.6 kB)\n",
      "Collecting rich<14.0.0,>=13.0.0 (from soccerdata)\n",
      "  Downloading rich-13.9.4-py3-none-any.whl.metadata (18 kB)\n",
      "Collecting undetected-chromedriver<4.0.0,>=3.5.0 (from soccerdata)\n",
      "  Downloading undetected-chromedriver-3.5.5.tar.gz (65 kB)\n",
      "  Installing build dependencies: started\n",
      "  Installing build dependencies: finished with status 'done'\n",
      "  Getting requirements to build wheel: started\n",
      "  Getting requirements to build wheel: finished with status 'done'\n",
      "  Preparing metadata (pyproject.toml): started\n",
      "  Preparing metadata (pyproject.toml): finished with status 'done'\n",
      "Collecting unicode<3.0,>=2.7 (from soccerdata)\n",
      "  Downloading unicode-2.9-py2.py3-none-any.whl.metadata (1.1 kB)\n",
      "Collecting pyparsing>=2.4.7 (from cloudscraper<2.0.0,>=1.2.71->soccerdata)\n",
      "  Downloading pyparsing-3.2.1-py3-none-any.whl.metadata (5.0 kB)\n",
      "Collecting requests-toolbelt>=0.9.1 (from cloudscraper<2.0.0,>=1.2.71->soccerdata)\n",
      "  Downloading requests_toolbelt-1.0.0-py2.py3-none-any.whl.metadata (14 kB)\n",
      "Requirement already satisfied: six>=1.9 in c:\\users\\user\\documents\\git projects\\football-scrapers\\.venv\\lib\\site-packages (from html5lib<2.0,>=1.1->soccerdata) (1.17.0)\n",
      "Collecting webencodings (from html5lib<2.0,>=1.1->soccerdata)\n",
      "  Downloading webencodings-0.5.1-py2.py3-none-any.whl.metadata (2.1 kB)\n",
      "Collecting numpy>=1.22.4 (from pandas!=2.1.0,<3.0.0,>=2.0.0->soccerdata)\n",
      "  Downloading numpy-2.2.3-cp310-cp310-win_amd64.whl.metadata (60 kB)\n",
      "Requirement already satisfied: python-dateutil>=2.8.2 in c:\\users\\user\\documents\\git projects\\football-scrapers\\.venv\\lib\\site-packages (from pandas!=2.1.0,<3.0.0,>=2.0.0->soccerdata) (2.9.0.post0)\n",
      "Collecting pytz>=2020.1 (from pandas!=2.1.0,<3.0.0,>=2.0.0->soccerdata)\n",
      "  Using cached pytz-2025.1-py2.py3-none-any.whl.metadata (22 kB)\n",
      "Collecting tzdata>=2022.7 (from pandas!=2.1.0,<3.0.0,>=2.0.0->soccerdata)\n",
      "  Using cached tzdata-2025.1-py2.py3-none-any.whl.metadata (1.4 kB)\n",
      "Collecting charset-normalizer<4,>=2 (from requests<3.0,>=2.23->soccerdata)\n",
      "  Downloading charset_normalizer-3.4.1-cp310-cp310-win_amd64.whl.metadata (36 kB)\n",
      "Requirement already satisfied: idna<4,>=2.5 in c:\\users\\user\\documents\\git projects\\football-scrapers\\.venv\\lib\\site-packages (from requests<3.0,>=2.23->soccerdata) (3.10)\n",
      "Collecting urllib3<3,>=1.21.1 (from requests<3.0,>=2.23->soccerdata)\n",
      "  Downloading urllib3-2.3.0-py3-none-any.whl.metadata (6.5 kB)\n",
      "Requirement already satisfied: certifi>=2017.4.17 in c:\\users\\user\\documents\\git projects\\football-scrapers\\.venv\\lib\\site-packages (from requests<3.0,>=2.23->soccerdata) (2025.1.31)\n",
      "Collecting markdown-it-py>=2.2.0 (from rich<14.0.0,>=13.0.0->soccerdata)\n",
      "  Using cached markdown_it_py-3.0.0-py3-none-any.whl.metadata (6.9 kB)\n",
      "Requirement already satisfied: pygments<3.0.0,>=2.13.0 in c:\\users\\user\\documents\\git projects\\football-scrapers\\.venv\\lib\\site-packages (from rich<14.0.0,>=13.0.0->soccerdata) (2.19.1)\n",
      "Requirement already satisfied: typing-extensions<5.0,>=4.0.0 in c:\\users\\user\\documents\\git projects\\football-scrapers\\.venv\\lib\\site-packages (from rich<14.0.0,>=13.0.0->soccerdata) (4.12.2)\n",
      "Collecting selenium>=4.9.0 (from undetected-chromedriver<4.0.0,>=3.5.0->soccerdata)\n",
      "  Downloading selenium-4.28.1-py3-none-any.whl.metadata (7.1 kB)\n",
      "Requirement already satisfied: websockets in c:\\users\\user\\documents\\git projects\\football-scrapers\\.venv\\lib\\site-packages (from undetected-chromedriver<4.0.0,>=3.5.0->soccerdata) (14.2)\n",
      "Collecting mdurl~=0.1 (from markdown-it-py>=2.2.0->rich<14.0.0,>=13.0.0->soccerdata)\n",
      "  Downloading mdurl-0.1.2-py3-none-any.whl.metadata (1.6 kB)\n",
      "Collecting trio~=0.17 (from selenium>=4.9.0->undetected-chromedriver<4.0.0,>=3.5.0->soccerdata)\n",
      "  Downloading trio-0.29.0-py3-none-any.whl.metadata (8.5 kB)\n",
      "Collecting trio-websocket~=0.9 (from selenium>=4.9.0->undetected-chromedriver<4.0.0,>=3.5.0->soccerdata)\n",
      "  Downloading trio_websocket-0.12.1-py3-none-any.whl.metadata (5.1 kB)\n",
      "Collecting websocket-client~=1.8 (from selenium>=4.9.0->undetected-chromedriver<4.0.0,>=3.5.0->soccerdata)\n",
      "  Using cached websocket_client-1.8.0-py3-none-any.whl.metadata (8.0 kB)\n",
      "Requirement already satisfied: attrs>=23.2.0 in c:\\users\\user\\documents\\git projects\\football-scrapers\\.venv\\lib\\site-packages (from trio~=0.17->selenium>=4.9.0->undetected-chromedriver<4.0.0,>=3.5.0->soccerdata) (25.1.0)\n",
      "Collecting sortedcontainers (from trio~=0.17->selenium>=4.9.0->undetected-chromedriver<4.0.0,>=3.5.0->soccerdata)\n",
      "  Using cached sortedcontainers-2.4.0-py2.py3-none-any.whl.metadata (10 kB)\n",
      "Collecting outcome (from trio~=0.17->selenium>=4.9.0->undetected-chromedriver<4.0.0,>=3.5.0->soccerdata)\n",
      "  Using cached outcome-1.3.0.post0-py2.py3-none-any.whl.metadata (2.6 kB)\n",
      "Requirement already satisfied: sniffio>=1.3.0 in c:\\users\\user\\documents\\git projects\\football-scrapers\\.venv\\lib\\site-packages (from trio~=0.17->selenium>=4.9.0->undetected-chromedriver<4.0.0,>=3.5.0->soccerdata) (1.3.1)\n",
      "Collecting cffi>=1.14 (from trio~=0.17->selenium>=4.9.0->undetected-chromedriver<4.0.0,>=3.5.0->soccerdata)\n",
      "  Downloading cffi-1.17.1-cp310-cp310-win_amd64.whl.metadata (1.6 kB)\n",
      "Requirement already satisfied: exceptiongroup in c:\\users\\user\\documents\\git projects\\football-scrapers\\.venv\\lib\\site-packages (from trio~=0.17->selenium>=4.9.0->undetected-chromedriver<4.0.0,>=3.5.0->soccerdata) (1.2.2)\n",
      "Collecting wsproto>=0.14 (from trio-websocket~=0.9->selenium>=4.9.0->undetected-chromedriver<4.0.0,>=3.5.0->soccerdata)\n",
      "  Using cached wsproto-1.2.0-py3-none-any.whl.metadata (5.6 kB)\n",
      "Collecting pycparser (from cffi>=1.14->trio~=0.17->selenium>=4.9.0->undetected-chromedriver<4.0.0,>=3.5.0->soccerdata)\n",
      "  Using cached pycparser-2.22-py3-none-any.whl.metadata (943 bytes)\n",
      "Requirement already satisfied: h11<1,>=0.9.0 in c:\\users\\user\\documents\\git projects\\football-scrapers\\.venv\\lib\\site-packages (from wsproto>=0.14->trio-websocket~=0.9->selenium>=4.9.0->undetected-chromedriver<4.0.0,>=3.5.0->soccerdata) (0.14.0)\n",
      "Downloading soccerdata-1.8.7-py3-none-any.whl (58 kB)\n",
      "Downloading cloudscraper-1.2.71-py2.py3-none-any.whl (99 kB)\n",
      "Using cached html5lib-1.1-py2.py3-none-any.whl (112 kB)\n",
      "Downloading lxml-4.9.4-cp310-cp310-win_amd64.whl (3.8 MB)\n",
      "   ---------------------------------------- 0.0/3.8 MB ? eta -:--:--\n",
      "   -- ------------------------------------- 0.3/3.8 MB ? eta -:--:--\n",
      "   -------- ------------------------------- 0.8/3.8 MB 1.9 MB/s eta 0:00:02\n",
      "   ---------------------- ----------------- 2.1/3.8 MB 3.6 MB/s eta 0:00:01\n",
      "   --------------------------------- ------ 3.1/3.8 MB 3.9 MB/s eta 0:00:01\n",
      "   ---------------------------------------- 3.8/3.8 MB 4.2 MB/s eta 0:00:00\n",
      "Using cached pandas-2.2.3-cp310-cp310-win_amd64.whl (11.6 MB)\n",
      "Using cached PySocks-1.7.1-py3-none-any.whl (16 kB)\n",
      "Using cached requests-2.32.3-py3-none-any.whl (64 kB)\n",
      "Downloading rich-13.9.4-py3-none-any.whl (242 kB)\n",
      "Using cached unicode-2.9-py2.py3-none-any.whl (14 kB)\n",
      "Using cached Unidecode-1.3.8-py3-none-any.whl (235 kB)\n",
      "Downloading charset_normalizer-3.4.1-cp310-cp310-win_amd64.whl (102 kB)\n",
      "Using cached markdown_it_py-3.0.0-py3-none-any.whl (87 kB)\n",
      "Downloading numpy-2.2.3-cp310-cp310-win_amd64.whl (12.9 MB)\n",
      "   ---------------------------------------- 0.0/12.9 MB ? eta -:--:--\n",
      "   ---- ----------------------------------- 1.6/12.9 MB 8.4 MB/s eta 0:00:02\n",
      "   ---------- ----------------------------- 3.4/12.9 MB 8.4 MB/s eta 0:00:02\n",
      "   -------------- ------------------------- 4.7/12.9 MB 7.7 MB/s eta 0:00:02\n",
      "   -------------------- ------------------- 6.6/12.9 MB 8.1 MB/s eta 0:00:01\n",
      "   ------------------------- -------------- 8.4/12.9 MB 8.1 MB/s eta 0:00:01\n",
      "   -------------------------------- ------- 10.5/12.9 MB 8.5 MB/s eta 0:00:01\n",
      "   -------------------------------------- - 12.3/12.9 MB 8.6 MB/s eta 0:00:01\n",
      "   ---------------------------------------  12.8/12.9 MB 8.6 MB/s eta 0:00:01\n",
      "   ---------------------------------------- 12.9/12.9 MB 7.5 MB/s eta 0:00:00\n",
      "Downloading pyparsing-3.2.1-py3-none-any.whl (107 kB)\n",
      "Using cached pytz-2025.1-py2.py3-none-any.whl (507 kB)\n",
      "Downloading requests_toolbelt-1.0.0-py2.py3-none-any.whl (54 kB)\n",
      "Downloading selenium-4.28.1-py3-none-any.whl (9.5 MB)\n",
      "   ---------------------------------------- 0.0/9.5 MB ? eta -:--:--\n",
      "   ------- -------------------------------- 1.8/9.5 MB 10.1 MB/s eta 0:00:01\n",
      "   --------------- ------------------------ 3.7/9.5 MB 9.1 MB/s eta 0:00:01\n",
      "   ------------------------ --------------- 5.8/9.5 MB 9.5 MB/s eta 0:00:01\n",
      "   ------------------------------- -------- 7.6/9.5 MB 9.4 MB/s eta 0:00:01\n",
      "   ---------------------------------------  9.4/9.5 MB 9.3 MB/s eta 0:00:01\n",
      "   ---------------------------------------- 9.5/9.5 MB 7.8 MB/s eta 0:00:00\n",
      "Using cached tzdata-2025.1-py2.py3-none-any.whl (346 kB)\n",
      "Downloading urllib3-2.3.0-py3-none-any.whl (128 kB)\n",
      "Using cached webencodings-0.5.1-py2.py3-none-any.whl (11 kB)\n",
      "Using cached mdurl-0.1.2-py3-none-any.whl (10.0 kB)\n",
      "Downloading trio-0.29.0-py3-none-any.whl (492 kB)\n",
      "Downloading trio_websocket-0.12.1-py3-none-any.whl (21 kB)\n",
      "Using cached websocket_client-1.8.0-py3-none-any.whl (58 kB)\n",
      "Downloading cffi-1.17.1-cp310-cp310-win_amd64.whl (181 kB)\n",
      "Using cached outcome-1.3.0.post0-py2.py3-none-any.whl (10 kB)\n",
      "Using cached wsproto-1.2.0-py3-none-any.whl (24 kB)\n",
      "Using cached sortedcontainers-2.4.0-py2.py3-none-any.whl (29 kB)\n",
      "Using cached pycparser-2.22-py3-none-any.whl (117 kB)\n",
      "Building wheels for collected packages: undetected-chromedriver\n",
      "  Building wheel for undetected-chromedriver (pyproject.toml): started\n",
      "  Building wheel for undetected-chromedriver (pyproject.toml): finished with status 'done'\n",
      "  Created wheel for undetected-chromedriver: filename=undetected_chromedriver-3.5.5-py3-none-any.whl size=47184 sha256=68bdfd3366eaf48efc4497395a1ce2c32683d16fab6016a54b3adf7add6aaca5\n",
      "  Stored in directory: c:\\users\\user\\appdata\\local\\pip\\cache\\wheels\\cf\\a1\\db\\e1275b6f7259aacd6b045f8bfcb1fcbc93827a3916ba55d5b7\n",
      "Successfully built undetected-chromedriver\n",
      "Installing collected packages: webencodings, unicode, sortedcontainers, pytz, wsproto, websocket-client, urllib3, Unidecode, tzdata, PySocks, pyparsing, pycparser, outcome, numpy, mdurl, lxml, html5lib, charset-normalizer, requests, pandas, markdown-it-py, cffi, trio, rich, requests-toolbelt, trio-websocket, cloudscraper, selenium, undetected-chromedriver, soccerdata\n",
      "Successfully installed PySocks-1.7.1 Unidecode-1.3.8 cffi-1.17.1 charset-normalizer-3.4.1 cloudscraper-1.2.71 html5lib-1.1 lxml-4.9.4 markdown-it-py-3.0.0 mdurl-0.1.2 numpy-2.2.3 outcome-1.3.0.post0 pandas-2.2.3 pycparser-2.22 pyparsing-3.2.1 pytz-2025.1 requests-2.32.3 requests-toolbelt-1.0.0 rich-13.9.4 selenium-4.28.1 soccerdata-1.8.7 sortedcontainers-2.4.0 trio-0.29.0 trio-websocket-0.12.1 tzdata-2025.1 undetected-chromedriver-3.5.5 unicode-2.9 urllib3-2.3.0 webencodings-0.5.1 websocket-client-1.8.0 wsproto-1.2.0\n",
      "Note: you may need to restart the kernel to use updated packages.\n"
     ]
    },
    {
     "name": "stderr",
     "output_type": "stream",
     "text": [
      "\n",
      "[notice] A new release of pip is available: 25.0 -> 25.0.1\n",
      "[notice] To update, run: python.exe -m pip install --upgrade pip\n"
     ]
    }
   ],
   "source": [
    "pip install soccerdata"
   ]
  },
  {
   "cell_type": "markdown",
   "id": "293eecc7",
   "metadata": {},
   "source": [
    "Edit match id"
   ]
  },
  {
   "cell_type": "code",
   "execution_count": 7,
   "id": "55d76329",
   "metadata": {},
   "outputs": [],
   "source": [
    "# leagues = \"ESP-La Liga\"\n",
    "#leagues = 'ENG-Premier League'\n",
    "leagues = 'ESP-La Liga'\n",
    "# leagues = 'FRA-Ligue 1'\n",
    "# leagues = 'GER-Bundesliga'\n",
    "# leagues = \"INT-Women's World Cup\"\n",
    "# leagues = 'INT-World Cup'\n",
    "# leagues = 'ITA-Serie A'\n",
    "seasons = '23-24'\n",
    "match_id = 1729401"
   ]
  },
  {
   "cell_type": "code",
   "execution_count": 8,
   "id": "5427727b",
   "metadata": {},
   "outputs": [
    {
     "data": {
      "text/html": [
       "<pre style=\"white-space:pre;overflow-x:auto;line-height:normal;font-family:Menlo,'DejaVu Sans Mono',consolas,'Courier New',monospace\"><span style=\"color: #7fbfbf; text-decoration-color: #7fbfbf\">[02/18/25 15:58:23] </span><span style=\"color: #000080; text-decoration-color: #000080\">INFO    </span> No custom team name replacements found. You can configure these in       <span style=\"color: #7f7f7f; text-decoration-color: #7f7f7f\">_config.py:91</span>\n",
       "<span style=\"color: #7fbfbf; text-decoration-color: #7fbfbf\">                    </span>         C:\\Users\\USER\\soccerdata\\config\\teamname_replacements.json.              <span style=\"color: #7f7f7f; text-decoration-color: #7f7f7f\">             </span>\n",
       "</pre>\n"
      ],
      "text/plain": [
       "\u001b[2;36m[02/18/25 15:58:23]\u001b[0m\u001b[2;36m \u001b[0m\u001b[34mINFO    \u001b[0m No custom team name replacements found. You can configure these in       \u001b[2m_config.py\u001b[0m\u001b[2m:\u001b[0m\u001b[2m91\u001b[0m\n",
       "\u001b[2;36m                    \u001b[0m         C:\\Users\\USER\\soccerdata\\config\\teamname_replacements.json.              \u001b[2m             \u001b[0m\n"
      ]
     },
     "metadata": {},
     "output_type": "display_data"
    },
    {
     "data": {
      "text/html": [
       "<pre style=\"white-space:pre;overflow-x:auto;line-height:normal;font-family:Menlo,'DejaVu Sans Mono',consolas,'Courier New',monospace\"><span style=\"color: #7fbfbf; text-decoration-color: #7fbfbf\">                    </span><span style=\"color: #000080; text-decoration-color: #000080\">INFO    </span> No custom league dict found. You can configure additional leagues in    <span style=\"color: #7f7f7f; text-decoration-color: #7f7f7f\">_config.py:197</span>\n",
       "<span style=\"color: #7fbfbf; text-decoration-color: #7fbfbf\">                    </span>         C:\\Users\\USER\\soccerdata\\config\\league_dict.json.                       <span style=\"color: #7f7f7f; text-decoration-color: #7f7f7f\">              </span>\n",
       "</pre>\n"
      ],
      "text/plain": [
       "\u001b[2;36m                   \u001b[0m\u001b[2;36m \u001b[0m\u001b[34mINFO    \u001b[0m No custom league dict found. You can configure additional leagues in    \u001b[2m_config.py\u001b[0m\u001b[2m:\u001b[0m\u001b[2m197\u001b[0m\n",
       "\u001b[2;36m                    \u001b[0m         C:\\Users\\USER\\soccerdata\\config\\league_dict.json.                       \u001b[2m              \u001b[0m\n"
      ]
     },
     "metadata": {},
     "output_type": "display_data"
    },
    {
     "data": {
      "text/html": [
       "<pre style=\"white-space:pre;overflow-x:auto;line-height:normal;font-family:Menlo,'DejaVu Sans Mono',consolas,'Courier New',monospace\"><span style=\"color: #7fbfbf; text-decoration-color: #7fbfbf\">                    </span><span style=\"color: #000080; text-decoration-color: #000080\">INFO    </span> Saving cached data to C:\\Users\\USER\\soccerdata\\data\\WhoScored           <span style=\"color: #7f7f7f; text-decoration-color: #7f7f7f\">_common.py:263</span>\n",
       "</pre>\n"
      ],
      "text/plain": [
       "\u001b[2;36m                   \u001b[0m\u001b[2;36m \u001b[0m\u001b[34mINFO    \u001b[0m Saving cached data to C:\\Users\\USER\\soccerdata\\data\\WhoScored           \u001b[2m_common.py\u001b[0m\u001b[2m:\u001b[0m\u001b[2m263\u001b[0m\n"
      ]
     },
     "metadata": {},
     "output_type": "display_data"
    },
    {
     "data": {
      "text/html": [
       "<pre style=\"white-space:pre;overflow-x:auto;line-height:normal;font-family:Menlo,'DejaVu Sans Mono',consolas,'Courier New',monospace\"><span style=\"color: #7fbfbf; text-decoration-color: #7fbfbf\">[02/18/25 15:58:24] </span><span style=\"color: #000080; text-decoration-color: #000080\">INFO    </span> patching driver executable                                              <span style=\"color: #7f7f7f; text-decoration-color: #7f7f7f\">patcher.py:346</span>\n",
       "<span style=\"color: #7fbfbf; text-decoration-color: #7fbfbf\">                    </span>         C:\\Users\\USER\\appdata\\roaming\\undetected_chromedriver\\undetected_chrome <span style=\"color: #7f7f7f; text-decoration-color: #7f7f7f\">              </span>\n",
       "<span style=\"color: #7fbfbf; text-decoration-color: #7fbfbf\">                    </span>         driver.exe                                                              <span style=\"color: #7f7f7f; text-decoration-color: #7f7f7f\">              </span>\n",
       "</pre>\n"
      ],
      "text/plain": [
       "\u001b[2;36m[02/18/25 15:58:24]\u001b[0m\u001b[2;36m \u001b[0m\u001b[34mINFO    \u001b[0m patching driver executable                                              \u001b[2mpatcher.py\u001b[0m\u001b[2m:\u001b[0m\u001b[2m346\u001b[0m\n",
       "\u001b[2;36m                    \u001b[0m         C:\\Users\\USER\\appdata\\roaming\\undetected_chromedriver\\undetected_chrome \u001b[2m              \u001b[0m\n",
       "\u001b[2;36m                    \u001b[0m         driver.exe                                                              \u001b[2m              \u001b[0m\n"
      ]
     },
     "metadata": {},
     "output_type": "display_data"
    }
   ],
   "source": [
    "import soccerdata as sd\n",
    "import pandas as pd\n",
    "from datetime import date\n",
    "\n",
    "\n",
    "ws = sd.WhoScored(leagues=leagues, seasons=seasons)"
   ]
  },
  {
   "cell_type": "markdown",
   "id": "32e8a617",
   "metadata": {},
   "source": [
    "Explore matches not in cache"
   ]
  },
  {
   "cell_type": "code",
   "execution_count": 9,
   "id": "76cac828",
   "metadata": {},
   "outputs": [
    {
     "data": {
      "text/html": [
       "<pre style=\"white-space:pre;overflow-x:auto;line-height:normal;font-family:Menlo,'DejaVu Sans Mono',consolas,'Courier New',monospace\"><span style=\"color: #7fbfbf; text-decoration-color: #7fbfbf\">[02/18/25 15:58:25] </span><span style=\"color: #000080; text-decoration-color: #000080\">INFO    </span> Retrieving calendar for ESP-La Liga <span style=\"color: #008080; text-decoration-color: #008080; font-weight: bold\">2324</span>                              <span style=\"color: #7f7f7f; text-decoration-color: #7f7f7f\">whoscored.py:374</span>\n",
       "</pre>\n"
      ],
      "text/plain": [
       "\u001b[2;36m[02/18/25 15:58:25]\u001b[0m\u001b[2;36m \u001b[0m\u001b[34mINFO    \u001b[0m Retrieving calendar for ESP-La Liga \u001b[1;36m2324\u001b[0m                              \u001b[2mwhoscored.py\u001b[0m\u001b[2m:\u001b[0m\u001b[2m374\u001b[0m\n"
      ]
     },
     "metadata": {},
     "output_type": "display_data"
    },
    {
     "data": {
      "text/html": [
       "<pre style=\"white-space:pre;overflow-x:auto;line-height:normal;font-family:Menlo,'DejaVu Sans Mono',consolas,'Courier New',monospace\"><span style=\"color: #7fbfbf; text-decoration-color: #7fbfbf\">                    </span><span style=\"color: #000080; text-decoration-color: #000080\">INFO    </span> <span style=\"font-weight: bold\">[</span><span style=\"color: #008080; text-decoration-color: #008080; font-weight: bold\">1</span>/<span style=\"color: #008080; text-decoration-color: #008080; font-weight: bold\">10</span><span style=\"font-weight: bold\">]</span> Retrieving fixtures for ESP-La Liga <span style=\"color: #008080; text-decoration-color: #008080; font-weight: bold\">2324</span>                       <span style=\"color: #7f7f7f; text-decoration-color: #7f7f7f\">whoscored.py:403</span>\n",
       "</pre>\n"
      ],
      "text/plain": [
       "\u001b[2;36m                   \u001b[0m\u001b[2;36m \u001b[0m\u001b[34mINFO    \u001b[0m \u001b[1m[\u001b[0m\u001b[1;36m1\u001b[0m/\u001b[1;36m10\u001b[0m\u001b[1m]\u001b[0m Retrieving fixtures for ESP-La Liga \u001b[1;36m2324\u001b[0m                       \u001b[2mwhoscored.py\u001b[0m\u001b[2m:\u001b[0m\u001b[2m403\u001b[0m\n"
      ]
     },
     "metadata": {},
     "output_type": "display_data"
    },
    {
     "data": {
      "text/html": [
       "<pre style=\"white-space:pre;overflow-x:auto;line-height:normal;font-family:Menlo,'DejaVu Sans Mono',consolas,'Courier New',monospace\"><span style=\"color: #7fbfbf; text-decoration-color: #7fbfbf\">                    </span><span style=\"color: #000080; text-decoration-color: #000080\">INFO    </span> <span style=\"font-weight: bold\">[</span><span style=\"color: #008080; text-decoration-color: #008080; font-weight: bold\">2</span>/<span style=\"color: #008080; text-decoration-color: #008080; font-weight: bold\">10</span><span style=\"font-weight: bold\">]</span> Retrieving fixtures for ESP-La Liga <span style=\"color: #008080; text-decoration-color: #008080; font-weight: bold\">2324</span>                       <span style=\"color: #7f7f7f; text-decoration-color: #7f7f7f\">whoscored.py:403</span>\n",
       "</pre>\n"
      ],
      "text/plain": [
       "\u001b[2;36m                   \u001b[0m\u001b[2;36m \u001b[0m\u001b[34mINFO    \u001b[0m \u001b[1m[\u001b[0m\u001b[1;36m2\u001b[0m/\u001b[1;36m10\u001b[0m\u001b[1m]\u001b[0m Retrieving fixtures for ESP-La Liga \u001b[1;36m2324\u001b[0m                       \u001b[2mwhoscored.py\u001b[0m\u001b[2m:\u001b[0m\u001b[2m403\u001b[0m\n"
      ]
     },
     "metadata": {},
     "output_type": "display_data"
    },
    {
     "data": {
      "text/html": [
       "<pre style=\"white-space:pre;overflow-x:auto;line-height:normal;font-family:Menlo,'DejaVu Sans Mono',consolas,'Courier New',monospace\"><span style=\"color: #7fbfbf; text-decoration-color: #7fbfbf\">                    </span><span style=\"color: #000080; text-decoration-color: #000080\">INFO    </span> <span style=\"font-weight: bold\">[</span><span style=\"color: #008080; text-decoration-color: #008080; font-weight: bold\">3</span>/<span style=\"color: #008080; text-decoration-color: #008080; font-weight: bold\">10</span><span style=\"font-weight: bold\">]</span> Retrieving fixtures for ESP-La Liga <span style=\"color: #008080; text-decoration-color: #008080; font-weight: bold\">2324</span>                       <span style=\"color: #7f7f7f; text-decoration-color: #7f7f7f\">whoscored.py:403</span>\n",
       "</pre>\n"
      ],
      "text/plain": [
       "\u001b[2;36m                   \u001b[0m\u001b[2;36m \u001b[0m\u001b[34mINFO    \u001b[0m \u001b[1m[\u001b[0m\u001b[1;36m3\u001b[0m/\u001b[1;36m10\u001b[0m\u001b[1m]\u001b[0m Retrieving fixtures for ESP-La Liga \u001b[1;36m2324\u001b[0m                       \u001b[2mwhoscored.py\u001b[0m\u001b[2m:\u001b[0m\u001b[2m403\u001b[0m\n"
      ]
     },
     "metadata": {},
     "output_type": "display_data"
    },
    {
     "data": {
      "text/html": [
       "<pre style=\"white-space:pre;overflow-x:auto;line-height:normal;font-family:Menlo,'DejaVu Sans Mono',consolas,'Courier New',monospace\"><span style=\"color: #7fbfbf; text-decoration-color: #7fbfbf\">                    </span><span style=\"color: #000080; text-decoration-color: #000080\">INFO    </span> <span style=\"font-weight: bold\">[</span><span style=\"color: #008080; text-decoration-color: #008080; font-weight: bold\">4</span>/<span style=\"color: #008080; text-decoration-color: #008080; font-weight: bold\">10</span><span style=\"font-weight: bold\">]</span> Retrieving fixtures for ESP-La Liga <span style=\"color: #008080; text-decoration-color: #008080; font-weight: bold\">2324</span>                       <span style=\"color: #7f7f7f; text-decoration-color: #7f7f7f\">whoscored.py:403</span>\n",
       "</pre>\n"
      ],
      "text/plain": [
       "\u001b[2;36m                   \u001b[0m\u001b[2;36m \u001b[0m\u001b[34mINFO    \u001b[0m \u001b[1m[\u001b[0m\u001b[1;36m4\u001b[0m/\u001b[1;36m10\u001b[0m\u001b[1m]\u001b[0m Retrieving fixtures for ESP-La Liga \u001b[1;36m2324\u001b[0m                       \u001b[2mwhoscored.py\u001b[0m\u001b[2m:\u001b[0m\u001b[2m403\u001b[0m\n"
      ]
     },
     "metadata": {},
     "output_type": "display_data"
    },
    {
     "data": {
      "text/html": [
       "<pre style=\"white-space:pre;overflow-x:auto;line-height:normal;font-family:Menlo,'DejaVu Sans Mono',consolas,'Courier New',monospace\"><span style=\"color: #7fbfbf; text-decoration-color: #7fbfbf\">                    </span><span style=\"color: #000080; text-decoration-color: #000080\">INFO    </span> <span style=\"font-weight: bold\">[</span><span style=\"color: #008080; text-decoration-color: #008080; font-weight: bold\">5</span>/<span style=\"color: #008080; text-decoration-color: #008080; font-weight: bold\">10</span><span style=\"font-weight: bold\">]</span> Retrieving fixtures for ESP-La Liga <span style=\"color: #008080; text-decoration-color: #008080; font-weight: bold\">2324</span>                       <span style=\"color: #7f7f7f; text-decoration-color: #7f7f7f\">whoscored.py:403</span>\n",
       "</pre>\n"
      ],
      "text/plain": [
       "\u001b[2;36m                   \u001b[0m\u001b[2;36m \u001b[0m\u001b[34mINFO    \u001b[0m \u001b[1m[\u001b[0m\u001b[1;36m5\u001b[0m/\u001b[1;36m10\u001b[0m\u001b[1m]\u001b[0m Retrieving fixtures for ESP-La Liga \u001b[1;36m2324\u001b[0m                       \u001b[2mwhoscored.py\u001b[0m\u001b[2m:\u001b[0m\u001b[2m403\u001b[0m\n"
      ]
     },
     "metadata": {},
     "output_type": "display_data"
    },
    {
     "data": {
      "text/html": [
       "<pre style=\"white-space:pre;overflow-x:auto;line-height:normal;font-family:Menlo,'DejaVu Sans Mono',consolas,'Courier New',monospace\"><span style=\"color: #7fbfbf; text-decoration-color: #7fbfbf\">                    </span><span style=\"color: #000080; text-decoration-color: #000080\">INFO    </span> <span style=\"font-weight: bold\">[</span><span style=\"color: #008080; text-decoration-color: #008080; font-weight: bold\">6</span>/<span style=\"color: #008080; text-decoration-color: #008080; font-weight: bold\">10</span><span style=\"font-weight: bold\">]</span> Retrieving fixtures for ESP-La Liga <span style=\"color: #008080; text-decoration-color: #008080; font-weight: bold\">2324</span>                       <span style=\"color: #7f7f7f; text-decoration-color: #7f7f7f\">whoscored.py:403</span>\n",
       "</pre>\n"
      ],
      "text/plain": [
       "\u001b[2;36m                   \u001b[0m\u001b[2;36m \u001b[0m\u001b[34mINFO    \u001b[0m \u001b[1m[\u001b[0m\u001b[1;36m6\u001b[0m/\u001b[1;36m10\u001b[0m\u001b[1m]\u001b[0m Retrieving fixtures for ESP-La Liga \u001b[1;36m2324\u001b[0m                       \u001b[2mwhoscored.py\u001b[0m\u001b[2m:\u001b[0m\u001b[2m403\u001b[0m\n"
      ]
     },
     "metadata": {},
     "output_type": "display_data"
    },
    {
     "data": {
      "text/html": [
       "<pre style=\"white-space:pre;overflow-x:auto;line-height:normal;font-family:Menlo,'DejaVu Sans Mono',consolas,'Courier New',monospace\"><span style=\"color: #7fbfbf; text-decoration-color: #7fbfbf\">                    </span><span style=\"color: #000080; text-decoration-color: #000080\">INFO    </span> <span style=\"font-weight: bold\">[</span><span style=\"color: #008080; text-decoration-color: #008080; font-weight: bold\">7</span>/<span style=\"color: #008080; text-decoration-color: #008080; font-weight: bold\">10</span><span style=\"font-weight: bold\">]</span> Retrieving fixtures for ESP-La Liga <span style=\"color: #008080; text-decoration-color: #008080; font-weight: bold\">2324</span>                       <span style=\"color: #7f7f7f; text-decoration-color: #7f7f7f\">whoscored.py:403</span>\n",
       "</pre>\n"
      ],
      "text/plain": [
       "\u001b[2;36m                   \u001b[0m\u001b[2;36m \u001b[0m\u001b[34mINFO    \u001b[0m \u001b[1m[\u001b[0m\u001b[1;36m7\u001b[0m/\u001b[1;36m10\u001b[0m\u001b[1m]\u001b[0m Retrieving fixtures for ESP-La Liga \u001b[1;36m2324\u001b[0m                       \u001b[2mwhoscored.py\u001b[0m\u001b[2m:\u001b[0m\u001b[2m403\u001b[0m\n"
      ]
     },
     "metadata": {},
     "output_type": "display_data"
    },
    {
     "data": {
      "text/html": [
       "<pre style=\"white-space:pre;overflow-x:auto;line-height:normal;font-family:Menlo,'DejaVu Sans Mono',consolas,'Courier New',monospace\"><span style=\"color: #7fbfbf; text-decoration-color: #7fbfbf\">                    </span><span style=\"color: #000080; text-decoration-color: #000080\">INFO    </span> <span style=\"font-weight: bold\">[</span><span style=\"color: #008080; text-decoration-color: #008080; font-weight: bold\">8</span>/<span style=\"color: #008080; text-decoration-color: #008080; font-weight: bold\">10</span><span style=\"font-weight: bold\">]</span> Retrieving fixtures for ESP-La Liga <span style=\"color: #008080; text-decoration-color: #008080; font-weight: bold\">2324</span>                       <span style=\"color: #7f7f7f; text-decoration-color: #7f7f7f\">whoscored.py:403</span>\n",
       "</pre>\n"
      ],
      "text/plain": [
       "\u001b[2;36m                   \u001b[0m\u001b[2;36m \u001b[0m\u001b[34mINFO    \u001b[0m \u001b[1m[\u001b[0m\u001b[1;36m8\u001b[0m/\u001b[1;36m10\u001b[0m\u001b[1m]\u001b[0m Retrieving fixtures for ESP-La Liga \u001b[1;36m2324\u001b[0m                       \u001b[2mwhoscored.py\u001b[0m\u001b[2m:\u001b[0m\u001b[2m403\u001b[0m\n"
      ]
     },
     "metadata": {},
     "output_type": "display_data"
    },
    {
     "data": {
      "text/html": [
       "<pre style=\"white-space:pre;overflow-x:auto;line-height:normal;font-family:Menlo,'DejaVu Sans Mono',consolas,'Courier New',monospace\"><span style=\"color: #7fbfbf; text-decoration-color: #7fbfbf\">                    </span><span style=\"color: #000080; text-decoration-color: #000080\">INFO    </span> <span style=\"font-weight: bold\">[</span><span style=\"color: #008080; text-decoration-color: #008080; font-weight: bold\">9</span>/<span style=\"color: #008080; text-decoration-color: #008080; font-weight: bold\">10</span><span style=\"font-weight: bold\">]</span> Retrieving fixtures for ESP-La Liga <span style=\"color: #008080; text-decoration-color: #008080; font-weight: bold\">2324</span>                       <span style=\"color: #7f7f7f; text-decoration-color: #7f7f7f\">whoscored.py:403</span>\n",
       "</pre>\n"
      ],
      "text/plain": [
       "\u001b[2;36m                   \u001b[0m\u001b[2;36m \u001b[0m\u001b[34mINFO    \u001b[0m \u001b[1m[\u001b[0m\u001b[1;36m9\u001b[0m/\u001b[1;36m10\u001b[0m\u001b[1m]\u001b[0m Retrieving fixtures for ESP-La Liga \u001b[1;36m2324\u001b[0m                       \u001b[2mwhoscored.py\u001b[0m\u001b[2m:\u001b[0m\u001b[2m403\u001b[0m\n"
      ]
     },
     "metadata": {},
     "output_type": "display_data"
    },
    {
     "data": {
      "text/html": [
       "<pre style=\"white-space:pre;overflow-x:auto;line-height:normal;font-family:Menlo,'DejaVu Sans Mono',consolas,'Courier New',monospace\"><span style=\"color: #7fbfbf; text-decoration-color: #7fbfbf\">                    </span><span style=\"color: #000080; text-decoration-color: #000080\">INFO    </span> <span style=\"font-weight: bold\">[</span><span style=\"color: #008080; text-decoration-color: #008080; font-weight: bold\">10</span>/<span style=\"color: #008080; text-decoration-color: #008080; font-weight: bold\">10</span><span style=\"font-weight: bold\">]</span> Retrieving fixtures for ESP-La Liga <span style=\"color: #008080; text-decoration-color: #008080; font-weight: bold\">2324</span>                      <span style=\"color: #7f7f7f; text-decoration-color: #7f7f7f\">whoscored.py:403</span>\n",
       "</pre>\n"
      ],
      "text/plain": [
       "\u001b[2;36m                   \u001b[0m\u001b[2;36m \u001b[0m\u001b[34mINFO    \u001b[0m \u001b[1m[\u001b[0m\u001b[1;36m10\u001b[0m/\u001b[1;36m10\u001b[0m\u001b[1m]\u001b[0m Retrieving fixtures for ESP-La Liga \u001b[1;36m2324\u001b[0m                      \u001b[2mwhoscored.py\u001b[0m\u001b[2m:\u001b[0m\u001b[2m403\u001b[0m\n"
      ]
     },
     "metadata": {},
     "output_type": "display_data"
    }
   ],
   "source": [
    "schedule = ws.read_schedule(force_cache=True)\n",
    "available_games = schedule['game_id'].values.tolist()\n"
   ]
  },
  {
   "cell_type": "markdown",
   "id": "3766c959",
   "metadata": {},
   "source": [
    "This is the looped version"
   ]
  },
  {
   "cell_type": "code",
   "execution_count": null,
   "id": "e3b34c9e",
   "metadata": {},
   "outputs": [
    {
     "name": "stdout",
     "output_type": "stream",
     "text": [
      "Starting at 2025-02-18T15:58:31.093648\n",
      "Games in calendar: 380\n",
      "Games in cache: 59\n",
      "Games missing: 321\n",
      "Match id to scrape: 1734726\n"
     ]
    },
    {
     "data": {
      "text/html": [
       "<pre style=\"white-space:pre;overflow-x:auto;line-height:normal;font-family:Menlo,'DejaVu Sans Mono',consolas,'Courier New',monospace\"><span style=\"color: #7fbfbf; text-decoration-color: #7fbfbf\">[02/18/25 15:58:31] </span><span style=\"color: #000080; text-decoration-color: #000080\">INFO    </span> Retrieving calendar for ESP-La Liga <span style=\"color: #008080; text-decoration-color: #008080; font-weight: bold\">2324</span>                              <span style=\"color: #7f7f7f; text-decoration-color: #7f7f7f\">whoscored.py:374</span>\n",
       "</pre>\n"
      ],
      "text/plain": [
       "\u001b[2;36m[02/18/25 15:58:31]\u001b[0m\u001b[2;36m \u001b[0m\u001b[34mINFO    \u001b[0m Retrieving calendar for ESP-La Liga \u001b[1;36m2324\u001b[0m                              \u001b[2mwhoscored.py\u001b[0m\u001b[2m:\u001b[0m\u001b[2m374\u001b[0m\n"
      ]
     },
     "metadata": {},
     "output_type": "display_data"
    },
    {
     "data": {
      "text/html": [
       "<pre style=\"white-space:pre;overflow-x:auto;line-height:normal;font-family:Menlo,'DejaVu Sans Mono',consolas,'Courier New',monospace\"><span style=\"color: #7fbfbf; text-decoration-color: #7fbfbf\">                    </span><span style=\"color: #000080; text-decoration-color: #000080\">INFO    </span> <span style=\"font-weight: bold\">[</span><span style=\"color: #008080; text-decoration-color: #008080; font-weight: bold\">1</span>/<span style=\"color: #008080; text-decoration-color: #008080; font-weight: bold\">10</span><span style=\"font-weight: bold\">]</span> Retrieving fixtures for ESP-La Liga <span style=\"color: #008080; text-decoration-color: #008080; font-weight: bold\">2324</span>                       <span style=\"color: #7f7f7f; text-decoration-color: #7f7f7f\">whoscored.py:403</span>\n",
       "</pre>\n"
      ],
      "text/plain": [
       "\u001b[2;36m                   \u001b[0m\u001b[2;36m \u001b[0m\u001b[34mINFO    \u001b[0m \u001b[1m[\u001b[0m\u001b[1;36m1\u001b[0m/\u001b[1;36m10\u001b[0m\u001b[1m]\u001b[0m Retrieving fixtures for ESP-La Liga \u001b[1;36m2324\u001b[0m                       \u001b[2mwhoscored.py\u001b[0m\u001b[2m:\u001b[0m\u001b[2m403\u001b[0m\n"
      ]
     },
     "metadata": {},
     "output_type": "display_data"
    },
    {
     "data": {
      "text/html": [
       "<pre style=\"white-space:pre;overflow-x:auto;line-height:normal;font-family:Menlo,'DejaVu Sans Mono',consolas,'Courier New',monospace\"><span style=\"color: #7fbfbf; text-decoration-color: #7fbfbf\">                    </span><span style=\"color: #000080; text-decoration-color: #000080\">INFO    </span> <span style=\"font-weight: bold\">[</span><span style=\"color: #008080; text-decoration-color: #008080; font-weight: bold\">2</span>/<span style=\"color: #008080; text-decoration-color: #008080; font-weight: bold\">10</span><span style=\"font-weight: bold\">]</span> Retrieving fixtures for ESP-La Liga <span style=\"color: #008080; text-decoration-color: #008080; font-weight: bold\">2324</span>                       <span style=\"color: #7f7f7f; text-decoration-color: #7f7f7f\">whoscored.py:403</span>\n",
       "</pre>\n"
      ],
      "text/plain": [
       "\u001b[2;36m                   \u001b[0m\u001b[2;36m \u001b[0m\u001b[34mINFO    \u001b[0m \u001b[1m[\u001b[0m\u001b[1;36m2\u001b[0m/\u001b[1;36m10\u001b[0m\u001b[1m]\u001b[0m Retrieving fixtures for ESP-La Liga \u001b[1;36m2324\u001b[0m                       \u001b[2mwhoscored.py\u001b[0m\u001b[2m:\u001b[0m\u001b[2m403\u001b[0m\n"
      ]
     },
     "metadata": {},
     "output_type": "display_data"
    },
    {
     "data": {
      "text/html": [
       "<pre style=\"white-space:pre;overflow-x:auto;line-height:normal;font-family:Menlo,'DejaVu Sans Mono',consolas,'Courier New',monospace\"><span style=\"color: #7fbfbf; text-decoration-color: #7fbfbf\">                    </span><span style=\"color: #000080; text-decoration-color: #000080\">INFO    </span> <span style=\"font-weight: bold\">[</span><span style=\"color: #008080; text-decoration-color: #008080; font-weight: bold\">3</span>/<span style=\"color: #008080; text-decoration-color: #008080; font-weight: bold\">10</span><span style=\"font-weight: bold\">]</span> Retrieving fixtures for ESP-La Liga <span style=\"color: #008080; text-decoration-color: #008080; font-weight: bold\">2324</span>                       <span style=\"color: #7f7f7f; text-decoration-color: #7f7f7f\">whoscored.py:403</span>\n",
       "</pre>\n"
      ],
      "text/plain": [
       "\u001b[2;36m                   \u001b[0m\u001b[2;36m \u001b[0m\u001b[34mINFO    \u001b[0m \u001b[1m[\u001b[0m\u001b[1;36m3\u001b[0m/\u001b[1;36m10\u001b[0m\u001b[1m]\u001b[0m Retrieving fixtures for ESP-La Liga \u001b[1;36m2324\u001b[0m                       \u001b[2mwhoscored.py\u001b[0m\u001b[2m:\u001b[0m\u001b[2m403\u001b[0m\n"
      ]
     },
     "metadata": {},
     "output_type": "display_data"
    },
    {
     "data": {
      "text/html": [
       "<pre style=\"white-space:pre;overflow-x:auto;line-height:normal;font-family:Menlo,'DejaVu Sans Mono',consolas,'Courier New',monospace\"><span style=\"color: #7fbfbf; text-decoration-color: #7fbfbf\">                    </span><span style=\"color: #000080; text-decoration-color: #000080\">INFO    </span> <span style=\"font-weight: bold\">[</span><span style=\"color: #008080; text-decoration-color: #008080; font-weight: bold\">4</span>/<span style=\"color: #008080; text-decoration-color: #008080; font-weight: bold\">10</span><span style=\"font-weight: bold\">]</span> Retrieving fixtures for ESP-La Liga <span style=\"color: #008080; text-decoration-color: #008080; font-weight: bold\">2324</span>                       <span style=\"color: #7f7f7f; text-decoration-color: #7f7f7f\">whoscored.py:403</span>\n",
       "</pre>\n"
      ],
      "text/plain": [
       "\u001b[2;36m                   \u001b[0m\u001b[2;36m \u001b[0m\u001b[34mINFO    \u001b[0m \u001b[1m[\u001b[0m\u001b[1;36m4\u001b[0m/\u001b[1;36m10\u001b[0m\u001b[1m]\u001b[0m Retrieving fixtures for ESP-La Liga \u001b[1;36m2324\u001b[0m                       \u001b[2mwhoscored.py\u001b[0m\u001b[2m:\u001b[0m\u001b[2m403\u001b[0m\n"
      ]
     },
     "metadata": {},
     "output_type": "display_data"
    },
    {
     "data": {
      "text/html": [
       "<pre style=\"white-space:pre;overflow-x:auto;line-height:normal;font-family:Menlo,'DejaVu Sans Mono',consolas,'Courier New',monospace\"><span style=\"color: #7fbfbf; text-decoration-color: #7fbfbf\">                    </span><span style=\"color: #000080; text-decoration-color: #000080\">INFO    </span> <span style=\"font-weight: bold\">[</span><span style=\"color: #008080; text-decoration-color: #008080; font-weight: bold\">5</span>/<span style=\"color: #008080; text-decoration-color: #008080; font-weight: bold\">10</span><span style=\"font-weight: bold\">]</span> Retrieving fixtures for ESP-La Liga <span style=\"color: #008080; text-decoration-color: #008080; font-weight: bold\">2324</span>                       <span style=\"color: #7f7f7f; text-decoration-color: #7f7f7f\">whoscored.py:403</span>\n",
       "</pre>\n"
      ],
      "text/plain": [
       "\u001b[2;36m                   \u001b[0m\u001b[2;36m \u001b[0m\u001b[34mINFO    \u001b[0m \u001b[1m[\u001b[0m\u001b[1;36m5\u001b[0m/\u001b[1;36m10\u001b[0m\u001b[1m]\u001b[0m Retrieving fixtures for ESP-La Liga \u001b[1;36m2324\u001b[0m                       \u001b[2mwhoscored.py\u001b[0m\u001b[2m:\u001b[0m\u001b[2m403\u001b[0m\n"
      ]
     },
     "metadata": {},
     "output_type": "display_data"
    },
    {
     "data": {
      "text/html": [
       "<pre style=\"white-space:pre;overflow-x:auto;line-height:normal;font-family:Menlo,'DejaVu Sans Mono',consolas,'Courier New',monospace\"><span style=\"color: #7fbfbf; text-decoration-color: #7fbfbf\">                    </span><span style=\"color: #000080; text-decoration-color: #000080\">INFO    </span> <span style=\"font-weight: bold\">[</span><span style=\"color: #008080; text-decoration-color: #008080; font-weight: bold\">6</span>/<span style=\"color: #008080; text-decoration-color: #008080; font-weight: bold\">10</span><span style=\"font-weight: bold\">]</span> Retrieving fixtures for ESP-La Liga <span style=\"color: #008080; text-decoration-color: #008080; font-weight: bold\">2324</span>                       <span style=\"color: #7f7f7f; text-decoration-color: #7f7f7f\">whoscored.py:403</span>\n",
       "</pre>\n"
      ],
      "text/plain": [
       "\u001b[2;36m                   \u001b[0m\u001b[2;36m \u001b[0m\u001b[34mINFO    \u001b[0m \u001b[1m[\u001b[0m\u001b[1;36m6\u001b[0m/\u001b[1;36m10\u001b[0m\u001b[1m]\u001b[0m Retrieving fixtures for ESP-La Liga \u001b[1;36m2324\u001b[0m                       \u001b[2mwhoscored.py\u001b[0m\u001b[2m:\u001b[0m\u001b[2m403\u001b[0m\n"
      ]
     },
     "metadata": {},
     "output_type": "display_data"
    },
    {
     "data": {
      "text/html": [
       "<pre style=\"white-space:pre;overflow-x:auto;line-height:normal;font-family:Menlo,'DejaVu Sans Mono',consolas,'Courier New',monospace\"><span style=\"color: #7fbfbf; text-decoration-color: #7fbfbf\">                    </span><span style=\"color: #000080; text-decoration-color: #000080\">INFO    </span> <span style=\"font-weight: bold\">[</span><span style=\"color: #008080; text-decoration-color: #008080; font-weight: bold\">7</span>/<span style=\"color: #008080; text-decoration-color: #008080; font-weight: bold\">10</span><span style=\"font-weight: bold\">]</span> Retrieving fixtures for ESP-La Liga <span style=\"color: #008080; text-decoration-color: #008080; font-weight: bold\">2324</span>                       <span style=\"color: #7f7f7f; text-decoration-color: #7f7f7f\">whoscored.py:403</span>\n",
       "</pre>\n"
      ],
      "text/plain": [
       "\u001b[2;36m                   \u001b[0m\u001b[2;36m \u001b[0m\u001b[34mINFO    \u001b[0m \u001b[1m[\u001b[0m\u001b[1;36m7\u001b[0m/\u001b[1;36m10\u001b[0m\u001b[1m]\u001b[0m Retrieving fixtures for ESP-La Liga \u001b[1;36m2324\u001b[0m                       \u001b[2mwhoscored.py\u001b[0m\u001b[2m:\u001b[0m\u001b[2m403\u001b[0m\n"
      ]
     },
     "metadata": {},
     "output_type": "display_data"
    },
    {
     "data": {
      "text/html": [
       "<pre style=\"white-space:pre;overflow-x:auto;line-height:normal;font-family:Menlo,'DejaVu Sans Mono',consolas,'Courier New',monospace\"><span style=\"color: #7fbfbf; text-decoration-color: #7fbfbf\">                    </span><span style=\"color: #000080; text-decoration-color: #000080\">INFO    </span> <span style=\"font-weight: bold\">[</span><span style=\"color: #008080; text-decoration-color: #008080; font-weight: bold\">8</span>/<span style=\"color: #008080; text-decoration-color: #008080; font-weight: bold\">10</span><span style=\"font-weight: bold\">]</span> Retrieving fixtures for ESP-La Liga <span style=\"color: #008080; text-decoration-color: #008080; font-weight: bold\">2324</span>                       <span style=\"color: #7f7f7f; text-decoration-color: #7f7f7f\">whoscored.py:403</span>\n",
       "</pre>\n"
      ],
      "text/plain": [
       "\u001b[2;36m                   \u001b[0m\u001b[2;36m \u001b[0m\u001b[34mINFO    \u001b[0m \u001b[1m[\u001b[0m\u001b[1;36m8\u001b[0m/\u001b[1;36m10\u001b[0m\u001b[1m]\u001b[0m Retrieving fixtures for ESP-La Liga \u001b[1;36m2324\u001b[0m                       \u001b[2mwhoscored.py\u001b[0m\u001b[2m:\u001b[0m\u001b[2m403\u001b[0m\n"
      ]
     },
     "metadata": {},
     "output_type": "display_data"
    },
    {
     "data": {
      "text/html": [
       "<pre style=\"white-space:pre;overflow-x:auto;line-height:normal;font-family:Menlo,'DejaVu Sans Mono',consolas,'Courier New',monospace\"><span style=\"color: #7fbfbf; text-decoration-color: #7fbfbf\">                    </span><span style=\"color: #000080; text-decoration-color: #000080\">INFO    </span> <span style=\"font-weight: bold\">[</span><span style=\"color: #008080; text-decoration-color: #008080; font-weight: bold\">9</span>/<span style=\"color: #008080; text-decoration-color: #008080; font-weight: bold\">10</span><span style=\"font-weight: bold\">]</span> Retrieving fixtures for ESP-La Liga <span style=\"color: #008080; text-decoration-color: #008080; font-weight: bold\">2324</span>                       <span style=\"color: #7f7f7f; text-decoration-color: #7f7f7f\">whoscored.py:403</span>\n",
       "</pre>\n"
      ],
      "text/plain": [
       "\u001b[2;36m                   \u001b[0m\u001b[2;36m \u001b[0m\u001b[34mINFO    \u001b[0m \u001b[1m[\u001b[0m\u001b[1;36m9\u001b[0m/\u001b[1;36m10\u001b[0m\u001b[1m]\u001b[0m Retrieving fixtures for ESP-La Liga \u001b[1;36m2324\u001b[0m                       \u001b[2mwhoscored.py\u001b[0m\u001b[2m:\u001b[0m\u001b[2m403\u001b[0m\n"
      ]
     },
     "metadata": {},
     "output_type": "display_data"
    },
    {
     "data": {
      "text/html": [
       "<pre style=\"white-space:pre;overflow-x:auto;line-height:normal;font-family:Menlo,'DejaVu Sans Mono',consolas,'Courier New',monospace\"><span style=\"color: #7fbfbf; text-decoration-color: #7fbfbf\">                    </span><span style=\"color: #000080; text-decoration-color: #000080\">INFO    </span> <span style=\"font-weight: bold\">[</span><span style=\"color: #008080; text-decoration-color: #008080; font-weight: bold\">10</span>/<span style=\"color: #008080; text-decoration-color: #008080; font-weight: bold\">10</span><span style=\"font-weight: bold\">]</span> Retrieving fixtures for ESP-La Liga <span style=\"color: #008080; text-decoration-color: #008080; font-weight: bold\">2324</span>                      <span style=\"color: #7f7f7f; text-decoration-color: #7f7f7f\">whoscored.py:403</span>\n",
       "</pre>\n"
      ],
      "text/plain": [
       "\u001b[2;36m                   \u001b[0m\u001b[2;36m \u001b[0m\u001b[34mINFO    \u001b[0m \u001b[1m[\u001b[0m\u001b[1;36m10\u001b[0m/\u001b[1;36m10\u001b[0m\u001b[1m]\u001b[0m Retrieving fixtures for ESP-La Liga \u001b[1;36m2324\u001b[0m                      \u001b[2mwhoscored.py\u001b[0m\u001b[2m:\u001b[0m\u001b[2m403\u001b[0m\n"
      ]
     },
     "metadata": {},
     "output_type": "display_data"
    },
    {
     "data": {
      "text/html": [
       "<pre style=\"white-space:pre;overflow-x:auto;line-height:normal;font-family:Menlo,'DejaVu Sans Mono',consolas,'Courier New',monospace\"><span style=\"color: #7fbfbf; text-decoration-color: #7fbfbf\">                    </span><span style=\"color: #000080; text-decoration-color: #000080\">INFO    </span> <span style=\"font-weight: bold\">[</span><span style=\"color: #008080; text-decoration-color: #008080; font-weight: bold\">1</span>/<span style=\"color: #008080; text-decoration-color: #008080; font-weight: bold\">1</span><span style=\"font-weight: bold\">]</span> Retrieving game with <span style=\"color: #808000; text-decoration-color: #808000\">id</span>=<span style=\"color: #008080; text-decoration-color: #008080; font-weight: bold\">1734726</span>                                 <span style=\"color: #7f7f7f; text-decoration-color: #7f7f7f\">whoscored.py:695</span>\n",
       "</pre>\n"
      ],
      "text/plain": [
       "\u001b[2;36m                   \u001b[0m\u001b[2;36m \u001b[0m\u001b[34mINFO    \u001b[0m \u001b[1m[\u001b[0m\u001b[1;36m1\u001b[0m/\u001b[1;36m1\u001b[0m\u001b[1m]\u001b[0m Retrieving game with \u001b[33mid\u001b[0m=\u001b[1;36m1734726\u001b[0m                                 \u001b[2mwhoscored.py\u001b[0m\u001b[2m:\u001b[0m\u001b[2m695\u001b[0m\n"
      ]
     },
     "metadata": {},
     "output_type": "display_data"
    },
    {
     "data": {
      "text/html": [
       "<div>\n",
       "<style scoped>\n",
       "    .dataframe tbody tr th:only-of-type {\n",
       "        vertical-align: middle;\n",
       "    }\n",
       "\n",
       "    .dataframe tbody tr th {\n",
       "        vertical-align: top;\n",
       "    }\n",
       "\n",
       "    .dataframe thead th {\n",
       "        text-align: right;\n",
       "    }\n",
       "</style>\n",
       "<table border=\"1\" class=\"dataframe\">\n",
       "  <thead>\n",
       "    <tr style=\"text-align: right;\">\n",
       "      <th></th>\n",
       "      <th></th>\n",
       "      <th></th>\n",
       "      <th>game_id</th>\n",
       "      <th>period</th>\n",
       "      <th>minute</th>\n",
       "      <th>second</th>\n",
       "      <th>expanded_minute</th>\n",
       "      <th>type</th>\n",
       "      <th>outcome_type</th>\n",
       "      <th>team_id</th>\n",
       "      <th>team</th>\n",
       "      <th>player_id</th>\n",
       "      <th>...</th>\n",
       "      <th>goal_mouth_z</th>\n",
       "      <th>blocked_x</th>\n",
       "      <th>blocked_y</th>\n",
       "      <th>qualifiers</th>\n",
       "      <th>is_touch</th>\n",
       "      <th>is_shot</th>\n",
       "      <th>is_goal</th>\n",
       "      <th>card_type</th>\n",
       "      <th>related_event_id</th>\n",
       "      <th>related_player_id</th>\n",
       "    </tr>\n",
       "    <tr>\n",
       "      <th>league</th>\n",
       "      <th>season</th>\n",
       "      <th>game</th>\n",
       "      <th></th>\n",
       "      <th></th>\n",
       "      <th></th>\n",
       "      <th></th>\n",
       "      <th></th>\n",
       "      <th></th>\n",
       "      <th></th>\n",
       "      <th></th>\n",
       "      <th></th>\n",
       "      <th></th>\n",
       "      <th></th>\n",
       "      <th></th>\n",
       "      <th></th>\n",
       "      <th></th>\n",
       "      <th></th>\n",
       "      <th></th>\n",
       "      <th></th>\n",
       "      <th></th>\n",
       "      <th></th>\n",
       "      <th></th>\n",
       "      <th></th>\n",
       "    </tr>\n",
       "  </thead>\n",
       "  <tbody>\n",
       "    <tr>\n",
       "      <th rowspan=\"5\" valign=\"top\">ESP-La Liga</th>\n",
       "      <th rowspan=\"5\" valign=\"top\">2324</th>\n",
       "      <th>2023-09-26 Mallorca-Barcelona</th>\n",
       "      <td>1734726</td>\n",
       "      <td>FirstHalf</td>\n",
       "      <td>0</td>\n",
       "      <td>0.0</td>\n",
       "      <td>0</td>\n",
       "      <td>Start</td>\n",
       "      <td>Successful</td>\n",
       "      <td>51</td>\n",
       "      <td>Mallorca</td>\n",
       "      <td>NaN</td>\n",
       "      <td>...</td>\n",
       "      <td>NaN</td>\n",
       "      <td>NaN</td>\n",
       "      <td>NaN</td>\n",
       "      <td>[]</td>\n",
       "      <td>False</td>\n",
       "      <td>NaN</td>\n",
       "      <td>NaN</td>\n",
       "      <td>NaN</td>\n",
       "      <td>NaN</td>\n",
       "      <td>NaN</td>\n",
       "    </tr>\n",
       "    <tr>\n",
       "      <th>2023-09-26 Mallorca-Barcelona</th>\n",
       "      <td>1734726</td>\n",
       "      <td>FirstHalf</td>\n",
       "      <td>0</td>\n",
       "      <td>0.0</td>\n",
       "      <td>0</td>\n",
       "      <td>Start</td>\n",
       "      <td>Successful</td>\n",
       "      <td>65</td>\n",
       "      <td>Barcelona</td>\n",
       "      <td>NaN</td>\n",
       "      <td>...</td>\n",
       "      <td>NaN</td>\n",
       "      <td>NaN</td>\n",
       "      <td>NaN</td>\n",
       "      <td>[]</td>\n",
       "      <td>False</td>\n",
       "      <td>NaN</td>\n",
       "      <td>NaN</td>\n",
       "      <td>NaN</td>\n",
       "      <td>NaN</td>\n",
       "      <td>NaN</td>\n",
       "    </tr>\n",
       "    <tr>\n",
       "      <th>2023-09-26 Mallorca-Barcelona</th>\n",
       "      <td>1734726</td>\n",
       "      <td>FirstHalf</td>\n",
       "      <td>0</td>\n",
       "      <td>0.0</td>\n",
       "      <td>0</td>\n",
       "      <td>Pass</td>\n",
       "      <td>Successful</td>\n",
       "      <td>65</td>\n",
       "      <td>Barcelona</td>\n",
       "      <td>77464.0</td>\n",
       "      <td>...</td>\n",
       "      <td>NaN</td>\n",
       "      <td>NaN</td>\n",
       "      <td>NaN</td>\n",
       "      <td>[{'type': {'displayName': 'Angle', 'value': 21...</td>\n",
       "      <td>True</td>\n",
       "      <td>NaN</td>\n",
       "      <td>NaN</td>\n",
       "      <td>NaN</td>\n",
       "      <td>NaN</td>\n",
       "      <td>NaN</td>\n",
       "    </tr>\n",
       "    <tr>\n",
       "      <th>2023-09-26 Mallorca-Barcelona</th>\n",
       "      <td>1734726</td>\n",
       "      <td>FirstHalf</td>\n",
       "      <td>0</td>\n",
       "      <td>1.0</td>\n",
       "      <td>0</td>\n",
       "      <td>Pass</td>\n",
       "      <td>Successful</td>\n",
       "      <td>65</td>\n",
       "      <td>Barcelona</td>\n",
       "      <td>422937.0</td>\n",
       "      <td>...</td>\n",
       "      <td>NaN</td>\n",
       "      <td>NaN</td>\n",
       "      <td>NaN</td>\n",
       "      <td>[{'type': {'displayName': 'Length', 'value': 2...</td>\n",
       "      <td>True</td>\n",
       "      <td>NaN</td>\n",
       "      <td>NaN</td>\n",
       "      <td>NaN</td>\n",
       "      <td>NaN</td>\n",
       "      <td>NaN</td>\n",
       "    </tr>\n",
       "    <tr>\n",
       "      <th>2023-09-26 Mallorca-Barcelona</th>\n",
       "      <td>1734726</td>\n",
       "      <td>FirstHalf</td>\n",
       "      <td>0</td>\n",
       "      <td>4.0</td>\n",
       "      <td>0</td>\n",
       "      <td>Pass</td>\n",
       "      <td>Successful</td>\n",
       "      <td>65</td>\n",
       "      <td>Barcelona</td>\n",
       "      <td>422938.0</td>\n",
       "      <td>...</td>\n",
       "      <td>NaN</td>\n",
       "      <td>NaN</td>\n",
       "      <td>NaN</td>\n",
       "      <td>[{'type': {'displayName': 'Length', 'value': 2...</td>\n",
       "      <td>True</td>\n",
       "      <td>NaN</td>\n",
       "      <td>NaN</td>\n",
       "      <td>NaN</td>\n",
       "      <td>NaN</td>\n",
       "      <td>NaN</td>\n",
       "    </tr>\n",
       "  </tbody>\n",
       "</table>\n",
       "<p>5 rows × 26 columns</p>\n",
       "</div>"
      ],
      "text/plain": [
       "                                                  game_id     period  minute  \\\n",
       "league      season game                                                        \n",
       "ESP-La Liga 2324   2023-09-26 Mallorca-Barcelona  1734726  FirstHalf       0   \n",
       "                   2023-09-26 Mallorca-Barcelona  1734726  FirstHalf       0   \n",
       "                   2023-09-26 Mallorca-Barcelona  1734726  FirstHalf       0   \n",
       "                   2023-09-26 Mallorca-Barcelona  1734726  FirstHalf       0   \n",
       "                   2023-09-26 Mallorca-Barcelona  1734726  FirstHalf       0   \n",
       "\n",
       "                                                  second  expanded_minute  \\\n",
       "league      season game                                                     \n",
       "ESP-La Liga 2324   2023-09-26 Mallorca-Barcelona     0.0                0   \n",
       "                   2023-09-26 Mallorca-Barcelona     0.0                0   \n",
       "                   2023-09-26 Mallorca-Barcelona     0.0                0   \n",
       "                   2023-09-26 Mallorca-Barcelona     1.0                0   \n",
       "                   2023-09-26 Mallorca-Barcelona     4.0                0   \n",
       "\n",
       "                                                   type outcome_type  team_id  \\\n",
       "league      season game                                                         \n",
       "ESP-La Liga 2324   2023-09-26 Mallorca-Barcelona  Start   Successful       51   \n",
       "                   2023-09-26 Mallorca-Barcelona  Start   Successful       65   \n",
       "                   2023-09-26 Mallorca-Barcelona   Pass   Successful       65   \n",
       "                   2023-09-26 Mallorca-Barcelona   Pass   Successful       65   \n",
       "                   2023-09-26 Mallorca-Barcelona   Pass   Successful       65   \n",
       "\n",
       "                                                       team  player_id  ...  \\\n",
       "league      season game                                                 ...   \n",
       "ESP-La Liga 2324   2023-09-26 Mallorca-Barcelona   Mallorca        NaN  ...   \n",
       "                   2023-09-26 Mallorca-Barcelona  Barcelona        NaN  ...   \n",
       "                   2023-09-26 Mallorca-Barcelona  Barcelona    77464.0  ...   \n",
       "                   2023-09-26 Mallorca-Barcelona  Barcelona   422937.0  ...   \n",
       "                   2023-09-26 Mallorca-Barcelona  Barcelona   422938.0  ...   \n",
       "\n",
       "                                                 goal_mouth_z  blocked_x  \\\n",
       "league      season game                                                    \n",
       "ESP-La Liga 2324   2023-09-26 Mallorca-Barcelona          NaN        NaN   \n",
       "                   2023-09-26 Mallorca-Barcelona          NaN        NaN   \n",
       "                   2023-09-26 Mallorca-Barcelona          NaN        NaN   \n",
       "                   2023-09-26 Mallorca-Barcelona          NaN        NaN   \n",
       "                   2023-09-26 Mallorca-Barcelona          NaN        NaN   \n",
       "\n",
       "                                                  blocked_y  \\\n",
       "league      season game                                       \n",
       "ESP-La Liga 2324   2023-09-26 Mallorca-Barcelona        NaN   \n",
       "                   2023-09-26 Mallorca-Barcelona        NaN   \n",
       "                   2023-09-26 Mallorca-Barcelona        NaN   \n",
       "                   2023-09-26 Mallorca-Barcelona        NaN   \n",
       "                   2023-09-26 Mallorca-Barcelona        NaN   \n",
       "\n",
       "                                                                                         qualifiers  \\\n",
       "league      season game                                                                               \n",
       "ESP-La Liga 2324   2023-09-26 Mallorca-Barcelona                                                 []   \n",
       "                   2023-09-26 Mallorca-Barcelona                                                 []   \n",
       "                   2023-09-26 Mallorca-Barcelona  [{'type': {'displayName': 'Angle', 'value': 21...   \n",
       "                   2023-09-26 Mallorca-Barcelona  [{'type': {'displayName': 'Length', 'value': 2...   \n",
       "                   2023-09-26 Mallorca-Barcelona  [{'type': {'displayName': 'Length', 'value': 2...   \n",
       "\n",
       "                                                  is_touch  is_shot  is_goal  \\\n",
       "league      season game                                                        \n",
       "ESP-La Liga 2324   2023-09-26 Mallorca-Barcelona     False      NaN      NaN   \n",
       "                   2023-09-26 Mallorca-Barcelona     False      NaN      NaN   \n",
       "                   2023-09-26 Mallorca-Barcelona      True      NaN      NaN   \n",
       "                   2023-09-26 Mallorca-Barcelona      True      NaN      NaN   \n",
       "                   2023-09-26 Mallorca-Barcelona      True      NaN      NaN   \n",
       "\n",
       "                                                  card_type  related_event_id  \\\n",
       "league      season game                                                         \n",
       "ESP-La Liga 2324   2023-09-26 Mallorca-Barcelona        NaN               NaN   \n",
       "                   2023-09-26 Mallorca-Barcelona        NaN               NaN   \n",
       "                   2023-09-26 Mallorca-Barcelona        NaN               NaN   \n",
       "                   2023-09-26 Mallorca-Barcelona        NaN               NaN   \n",
       "                   2023-09-26 Mallorca-Barcelona        NaN               NaN   \n",
       "\n",
       "                                                 related_player_id  \n",
       "league      season game                                             \n",
       "ESP-La Liga 2324   2023-09-26 Mallorca-Barcelona               NaN  \n",
       "                   2023-09-26 Mallorca-Barcelona               NaN  \n",
       "                   2023-09-26 Mallorca-Barcelona               NaN  \n",
       "                   2023-09-26 Mallorca-Barcelona               NaN  \n",
       "                   2023-09-26 Mallorca-Barcelona               NaN  \n",
       "\n",
       "[5 rows x 26 columns]"
      ]
     },
     "metadata": {},
     "output_type": "display_data"
    },
    {
     "name": "stdout",
     "output_type": "stream",
     "text": [
      "Next run in 2025-02-18 16:28:46.077947\n"
     ]
    }
   ],
   "source": [
    "#Loop it\n",
    "import os\n",
    "from time import sleep\n",
    "from datetime import datetime, timedelta\n",
    "\n",
    "wait_time = 1800 #seconds\n",
    "\n",
    "folder_path = f\"C:\\\\Users\\\\USER\\\\soccerdata\\\\data\\\\WhoScored\\\\events\\\\{leagues}_{seasons.replace('-', '')}\"\n",
    "while 1:\n",
    "    print(f\"Starting at {datetime.now().isoformat()}\")\n",
    "    \n",
    "    # List all files in the folder\n",
    "    cached_games = os.listdir(folder_path)\n",
    "    cached_games = [int(os.path.splitext(filename)[0]) for filename in cached_games]\n",
    "\n",
    "    print(f\"Games in calendar: {len(available_games)}\")\n",
    "    print(f\"Games in cache: {len(cached_games)}\")\n",
    "\n",
    "    missing = [id for id in available_games if id not in cached_games]\n",
    "\n",
    "    print(f\"Games missing: {len(missing)}\")\n",
    "\n",
    "    print(f\"Match id to scrape: {missing[0]}\")\n",
    "\n",
    "    events = ws.read_events(match_id=missing[0])\n",
    "    display(events.head())\n",
    "\n",
    "    print(f\"Next run at {datetime.now() + timedelta(seconds=wait_time)}\")\n",
    "    sleep(wait_time)\n",
    "\n"
   ]
  },
  {
   "cell_type": "markdown",
   "id": "d5d813f4",
   "metadata": {},
   "source": [
    "Manual version"
   ]
  },
  {
   "cell_type": "code",
   "execution_count": 25,
   "id": "821c79f2",
   "metadata": {},
   "outputs": [
    {
     "name": "stdout",
     "output_type": "stream",
     "text": [
      "Games in calendar: 380\n",
      "Games in cache: 58\n",
      "Games missing: 322\n",
      "1734713\n"
     ]
    }
   ],
   "source": [
    "import os\n",
    "\n",
    "\n",
    "folder_path = f\"C:\\\\Users\\\\USER\\\\soccerdata\\\\data\\\\WhoScored\\\\events\\\\{leagues}_{seasons.replace('-', '')}\"\n",
    "\n",
    "# List all files in the folder\n",
    "cached_games = os.listdir(folder_path)\n",
    "cached_games = [int(os.path.splitext(filename)[0]) for filename in cached_games]\n",
    "\n",
    "print(f\"Games in calendar: {len(available_games)}\")\n",
    "print(f\"Games in cache: {len(cached_games)}\")\n",
    "\n",
    "missing = [id for id in available_games if id not in cached_games]\n",
    "\n",
    "print(f\"Games missing: {len(missing)}\")\n",
    "\n",
    "print(missing[0])\n",
    "\n"
   ]
  },
  {
   "cell_type": "markdown",
   "id": "bbaa2e7f",
   "metadata": {},
   "source": [
    "This is the scrapping bit, please don't run it several times or you can get IP blocked."
   ]
  },
  {
   "cell_type": "code",
   "execution_count": 19,
   "id": "6be96395",
   "metadata": {
    "tags": []
   },
   "outputs": [
    {
     "data": {
      "text/html": [
       "<pre style=\"white-space:pre;overflow-x:auto;line-height:normal;font-family:Menlo,'DejaVu Sans Mono',consolas,'Courier New',monospace\"><span style=\"color: #7fbfbf; text-decoration-color: #7fbfbf\">[02/18/25 15:49:52] </span><span style=\"color: #000080; text-decoration-color: #000080\">INFO    </span> Retrieving calendar for ESP-La Liga <span style=\"color: #008080; text-decoration-color: #008080; font-weight: bold\">2324</span>                              <span style=\"color: #7f7f7f; text-decoration-color: #7f7f7f\">whoscored.py:374</span>\n",
       "</pre>\n"
      ],
      "text/plain": [
       "\u001b[2;36m[02/18/25 15:49:52]\u001b[0m\u001b[2;36m \u001b[0m\u001b[34mINFO    \u001b[0m Retrieving calendar for ESP-La Liga \u001b[1;36m2324\u001b[0m                              \u001b[2mwhoscored.py\u001b[0m\u001b[2m:\u001b[0m\u001b[2m374\u001b[0m\n"
      ]
     },
     "metadata": {},
     "output_type": "display_data"
    },
    {
     "data": {
      "text/html": [
       "<pre style=\"white-space:pre;overflow-x:auto;line-height:normal;font-family:Menlo,'DejaVu Sans Mono',consolas,'Courier New',monospace\"><span style=\"color: #7fbfbf; text-decoration-color: #7fbfbf\">                    </span><span style=\"color: #000080; text-decoration-color: #000080\">INFO    </span> <span style=\"font-weight: bold\">[</span><span style=\"color: #008080; text-decoration-color: #008080; font-weight: bold\">1</span>/<span style=\"color: #008080; text-decoration-color: #008080; font-weight: bold\">10</span><span style=\"font-weight: bold\">]</span> Retrieving fixtures for ESP-La Liga <span style=\"color: #008080; text-decoration-color: #008080; font-weight: bold\">2324</span>                       <span style=\"color: #7f7f7f; text-decoration-color: #7f7f7f\">whoscored.py:403</span>\n",
       "</pre>\n"
      ],
      "text/plain": [
       "\u001b[2;36m                   \u001b[0m\u001b[2;36m \u001b[0m\u001b[34mINFO    \u001b[0m \u001b[1m[\u001b[0m\u001b[1;36m1\u001b[0m/\u001b[1;36m10\u001b[0m\u001b[1m]\u001b[0m Retrieving fixtures for ESP-La Liga \u001b[1;36m2324\u001b[0m                       \u001b[2mwhoscored.py\u001b[0m\u001b[2m:\u001b[0m\u001b[2m403\u001b[0m\n"
      ]
     },
     "metadata": {},
     "output_type": "display_data"
    },
    {
     "data": {
      "text/html": [
       "<pre style=\"white-space:pre;overflow-x:auto;line-height:normal;font-family:Menlo,'DejaVu Sans Mono',consolas,'Courier New',monospace\"><span style=\"color: #7fbfbf; text-decoration-color: #7fbfbf\">                    </span><span style=\"color: #000080; text-decoration-color: #000080\">INFO    </span> <span style=\"font-weight: bold\">[</span><span style=\"color: #008080; text-decoration-color: #008080; font-weight: bold\">2</span>/<span style=\"color: #008080; text-decoration-color: #008080; font-weight: bold\">10</span><span style=\"font-weight: bold\">]</span> Retrieving fixtures for ESP-La Liga <span style=\"color: #008080; text-decoration-color: #008080; font-weight: bold\">2324</span>                       <span style=\"color: #7f7f7f; text-decoration-color: #7f7f7f\">whoscored.py:403</span>\n",
       "</pre>\n"
      ],
      "text/plain": [
       "\u001b[2;36m                   \u001b[0m\u001b[2;36m \u001b[0m\u001b[34mINFO    \u001b[0m \u001b[1m[\u001b[0m\u001b[1;36m2\u001b[0m/\u001b[1;36m10\u001b[0m\u001b[1m]\u001b[0m Retrieving fixtures for ESP-La Liga \u001b[1;36m2324\u001b[0m                       \u001b[2mwhoscored.py\u001b[0m\u001b[2m:\u001b[0m\u001b[2m403\u001b[0m\n"
      ]
     },
     "metadata": {},
     "output_type": "display_data"
    },
    {
     "data": {
      "text/html": [
       "<pre style=\"white-space:pre;overflow-x:auto;line-height:normal;font-family:Menlo,'DejaVu Sans Mono',consolas,'Courier New',monospace\"><span style=\"color: #7fbfbf; text-decoration-color: #7fbfbf\">                    </span><span style=\"color: #000080; text-decoration-color: #000080\">INFO    </span> <span style=\"font-weight: bold\">[</span><span style=\"color: #008080; text-decoration-color: #008080; font-weight: bold\">3</span>/<span style=\"color: #008080; text-decoration-color: #008080; font-weight: bold\">10</span><span style=\"font-weight: bold\">]</span> Retrieving fixtures for ESP-La Liga <span style=\"color: #008080; text-decoration-color: #008080; font-weight: bold\">2324</span>                       <span style=\"color: #7f7f7f; text-decoration-color: #7f7f7f\">whoscored.py:403</span>\n",
       "</pre>\n"
      ],
      "text/plain": [
       "\u001b[2;36m                   \u001b[0m\u001b[2;36m \u001b[0m\u001b[34mINFO    \u001b[0m \u001b[1m[\u001b[0m\u001b[1;36m3\u001b[0m/\u001b[1;36m10\u001b[0m\u001b[1m]\u001b[0m Retrieving fixtures for ESP-La Liga \u001b[1;36m2324\u001b[0m                       \u001b[2mwhoscored.py\u001b[0m\u001b[2m:\u001b[0m\u001b[2m403\u001b[0m\n"
      ]
     },
     "metadata": {},
     "output_type": "display_data"
    },
    {
     "data": {
      "text/html": [
       "<pre style=\"white-space:pre;overflow-x:auto;line-height:normal;font-family:Menlo,'DejaVu Sans Mono',consolas,'Courier New',monospace\"><span style=\"color: #7fbfbf; text-decoration-color: #7fbfbf\">                    </span><span style=\"color: #000080; text-decoration-color: #000080\">INFO    </span> <span style=\"font-weight: bold\">[</span><span style=\"color: #008080; text-decoration-color: #008080; font-weight: bold\">4</span>/<span style=\"color: #008080; text-decoration-color: #008080; font-weight: bold\">10</span><span style=\"font-weight: bold\">]</span> Retrieving fixtures for ESP-La Liga <span style=\"color: #008080; text-decoration-color: #008080; font-weight: bold\">2324</span>                       <span style=\"color: #7f7f7f; text-decoration-color: #7f7f7f\">whoscored.py:403</span>\n",
       "</pre>\n"
      ],
      "text/plain": [
       "\u001b[2;36m                   \u001b[0m\u001b[2;36m \u001b[0m\u001b[34mINFO    \u001b[0m \u001b[1m[\u001b[0m\u001b[1;36m4\u001b[0m/\u001b[1;36m10\u001b[0m\u001b[1m]\u001b[0m Retrieving fixtures for ESP-La Liga \u001b[1;36m2324\u001b[0m                       \u001b[2mwhoscored.py\u001b[0m\u001b[2m:\u001b[0m\u001b[2m403\u001b[0m\n"
      ]
     },
     "metadata": {},
     "output_type": "display_data"
    },
    {
     "data": {
      "text/html": [
       "<pre style=\"white-space:pre;overflow-x:auto;line-height:normal;font-family:Menlo,'DejaVu Sans Mono',consolas,'Courier New',monospace\"><span style=\"color: #7fbfbf; text-decoration-color: #7fbfbf\">                    </span><span style=\"color: #000080; text-decoration-color: #000080\">INFO    </span> <span style=\"font-weight: bold\">[</span><span style=\"color: #008080; text-decoration-color: #008080; font-weight: bold\">5</span>/<span style=\"color: #008080; text-decoration-color: #008080; font-weight: bold\">10</span><span style=\"font-weight: bold\">]</span> Retrieving fixtures for ESP-La Liga <span style=\"color: #008080; text-decoration-color: #008080; font-weight: bold\">2324</span>                       <span style=\"color: #7f7f7f; text-decoration-color: #7f7f7f\">whoscored.py:403</span>\n",
       "</pre>\n"
      ],
      "text/plain": [
       "\u001b[2;36m                   \u001b[0m\u001b[2;36m \u001b[0m\u001b[34mINFO    \u001b[0m \u001b[1m[\u001b[0m\u001b[1;36m5\u001b[0m/\u001b[1;36m10\u001b[0m\u001b[1m]\u001b[0m Retrieving fixtures for ESP-La Liga \u001b[1;36m2324\u001b[0m                       \u001b[2mwhoscored.py\u001b[0m\u001b[2m:\u001b[0m\u001b[2m403\u001b[0m\n"
      ]
     },
     "metadata": {},
     "output_type": "display_data"
    },
    {
     "data": {
      "text/html": [
       "<pre style=\"white-space:pre;overflow-x:auto;line-height:normal;font-family:Menlo,'DejaVu Sans Mono',consolas,'Courier New',monospace\"><span style=\"color: #7fbfbf; text-decoration-color: #7fbfbf\">                    </span><span style=\"color: #000080; text-decoration-color: #000080\">INFO    </span> <span style=\"font-weight: bold\">[</span><span style=\"color: #008080; text-decoration-color: #008080; font-weight: bold\">6</span>/<span style=\"color: #008080; text-decoration-color: #008080; font-weight: bold\">10</span><span style=\"font-weight: bold\">]</span> Retrieving fixtures for ESP-La Liga <span style=\"color: #008080; text-decoration-color: #008080; font-weight: bold\">2324</span>                       <span style=\"color: #7f7f7f; text-decoration-color: #7f7f7f\">whoscored.py:403</span>\n",
       "</pre>\n"
      ],
      "text/plain": [
       "\u001b[2;36m                   \u001b[0m\u001b[2;36m \u001b[0m\u001b[34mINFO    \u001b[0m \u001b[1m[\u001b[0m\u001b[1;36m6\u001b[0m/\u001b[1;36m10\u001b[0m\u001b[1m]\u001b[0m Retrieving fixtures for ESP-La Liga \u001b[1;36m2324\u001b[0m                       \u001b[2mwhoscored.py\u001b[0m\u001b[2m:\u001b[0m\u001b[2m403\u001b[0m\n"
      ]
     },
     "metadata": {},
     "output_type": "display_data"
    },
    {
     "data": {
      "text/html": [
       "<pre style=\"white-space:pre;overflow-x:auto;line-height:normal;font-family:Menlo,'DejaVu Sans Mono',consolas,'Courier New',monospace\"><span style=\"color: #7fbfbf; text-decoration-color: #7fbfbf\">                    </span><span style=\"color: #000080; text-decoration-color: #000080\">INFO    </span> <span style=\"font-weight: bold\">[</span><span style=\"color: #008080; text-decoration-color: #008080; font-weight: bold\">7</span>/<span style=\"color: #008080; text-decoration-color: #008080; font-weight: bold\">10</span><span style=\"font-weight: bold\">]</span> Retrieving fixtures for ESP-La Liga <span style=\"color: #008080; text-decoration-color: #008080; font-weight: bold\">2324</span>                       <span style=\"color: #7f7f7f; text-decoration-color: #7f7f7f\">whoscored.py:403</span>\n",
       "</pre>\n"
      ],
      "text/plain": [
       "\u001b[2;36m                   \u001b[0m\u001b[2;36m \u001b[0m\u001b[34mINFO    \u001b[0m \u001b[1m[\u001b[0m\u001b[1;36m7\u001b[0m/\u001b[1;36m10\u001b[0m\u001b[1m]\u001b[0m Retrieving fixtures for ESP-La Liga \u001b[1;36m2324\u001b[0m                       \u001b[2mwhoscored.py\u001b[0m\u001b[2m:\u001b[0m\u001b[2m403\u001b[0m\n"
      ]
     },
     "metadata": {},
     "output_type": "display_data"
    },
    {
     "data": {
      "text/html": [
       "<pre style=\"white-space:pre;overflow-x:auto;line-height:normal;font-family:Menlo,'DejaVu Sans Mono',consolas,'Courier New',monospace\"><span style=\"color: #7fbfbf; text-decoration-color: #7fbfbf\">                    </span><span style=\"color: #000080; text-decoration-color: #000080\">INFO    </span> <span style=\"font-weight: bold\">[</span><span style=\"color: #008080; text-decoration-color: #008080; font-weight: bold\">8</span>/<span style=\"color: #008080; text-decoration-color: #008080; font-weight: bold\">10</span><span style=\"font-weight: bold\">]</span> Retrieving fixtures for ESP-La Liga <span style=\"color: #008080; text-decoration-color: #008080; font-weight: bold\">2324</span>                       <span style=\"color: #7f7f7f; text-decoration-color: #7f7f7f\">whoscored.py:403</span>\n",
       "</pre>\n"
      ],
      "text/plain": [
       "\u001b[2;36m                   \u001b[0m\u001b[2;36m \u001b[0m\u001b[34mINFO    \u001b[0m \u001b[1m[\u001b[0m\u001b[1;36m8\u001b[0m/\u001b[1;36m10\u001b[0m\u001b[1m]\u001b[0m Retrieving fixtures for ESP-La Liga \u001b[1;36m2324\u001b[0m                       \u001b[2mwhoscored.py\u001b[0m\u001b[2m:\u001b[0m\u001b[2m403\u001b[0m\n"
      ]
     },
     "metadata": {},
     "output_type": "display_data"
    },
    {
     "data": {
      "text/html": [
       "<pre style=\"white-space:pre;overflow-x:auto;line-height:normal;font-family:Menlo,'DejaVu Sans Mono',consolas,'Courier New',monospace\"><span style=\"color: #7fbfbf; text-decoration-color: #7fbfbf\">                    </span><span style=\"color: #000080; text-decoration-color: #000080\">INFO    </span> <span style=\"font-weight: bold\">[</span><span style=\"color: #008080; text-decoration-color: #008080; font-weight: bold\">9</span>/<span style=\"color: #008080; text-decoration-color: #008080; font-weight: bold\">10</span><span style=\"font-weight: bold\">]</span> Retrieving fixtures for ESP-La Liga <span style=\"color: #008080; text-decoration-color: #008080; font-weight: bold\">2324</span>                       <span style=\"color: #7f7f7f; text-decoration-color: #7f7f7f\">whoscored.py:403</span>\n",
       "</pre>\n"
      ],
      "text/plain": [
       "\u001b[2;36m                   \u001b[0m\u001b[2;36m \u001b[0m\u001b[34mINFO    \u001b[0m \u001b[1m[\u001b[0m\u001b[1;36m9\u001b[0m/\u001b[1;36m10\u001b[0m\u001b[1m]\u001b[0m Retrieving fixtures for ESP-La Liga \u001b[1;36m2324\u001b[0m                       \u001b[2mwhoscored.py\u001b[0m\u001b[2m:\u001b[0m\u001b[2m403\u001b[0m\n"
      ]
     },
     "metadata": {},
     "output_type": "display_data"
    },
    {
     "data": {
      "text/html": [
       "<pre style=\"white-space:pre;overflow-x:auto;line-height:normal;font-family:Menlo,'DejaVu Sans Mono',consolas,'Courier New',monospace\"><span style=\"color: #7fbfbf; text-decoration-color: #7fbfbf\">                    </span><span style=\"color: #000080; text-decoration-color: #000080\">INFO    </span> <span style=\"font-weight: bold\">[</span><span style=\"color: #008080; text-decoration-color: #008080; font-weight: bold\">10</span>/<span style=\"color: #008080; text-decoration-color: #008080; font-weight: bold\">10</span><span style=\"font-weight: bold\">]</span> Retrieving fixtures for ESP-La Liga <span style=\"color: #008080; text-decoration-color: #008080; font-weight: bold\">2324</span>                      <span style=\"color: #7f7f7f; text-decoration-color: #7f7f7f\">whoscored.py:403</span>\n",
       "</pre>\n"
      ],
      "text/plain": [
       "\u001b[2;36m                   \u001b[0m\u001b[2;36m \u001b[0m\u001b[34mINFO    \u001b[0m \u001b[1m[\u001b[0m\u001b[1;36m10\u001b[0m/\u001b[1;36m10\u001b[0m\u001b[1m]\u001b[0m Retrieving fixtures for ESP-La Liga \u001b[1;36m2324\u001b[0m                      \u001b[2mwhoscored.py\u001b[0m\u001b[2m:\u001b[0m\u001b[2m403\u001b[0m\n"
      ]
     },
     "metadata": {},
     "output_type": "display_data"
    },
    {
     "data": {
      "text/html": [
       "<pre style=\"white-space:pre;overflow-x:auto;line-height:normal;font-family:Menlo,'DejaVu Sans Mono',consolas,'Courier New',monospace\"><span style=\"color: #7fbfbf; text-decoration-color: #7fbfbf\">                    </span><span style=\"color: #000080; text-decoration-color: #000080\">INFO    </span> <span style=\"font-weight: bold\">[</span><span style=\"color: #008080; text-decoration-color: #008080; font-weight: bold\">1</span>/<span style=\"color: #008080; text-decoration-color: #008080; font-weight: bold\">1</span><span style=\"font-weight: bold\">]</span> Retrieving game with <span style=\"color: #808000; text-decoration-color: #808000\">id</span>=<span style=\"color: #008080; text-decoration-color: #008080; font-weight: bold\">1734703</span>                                 <span style=\"color: #7f7f7f; text-decoration-color: #7f7f7f\">whoscored.py:695</span>\n",
       "</pre>\n"
      ],
      "text/plain": [
       "\u001b[2;36m                   \u001b[0m\u001b[2;36m \u001b[0m\u001b[34mINFO    \u001b[0m \u001b[1m[\u001b[0m\u001b[1;36m1\u001b[0m/\u001b[1;36m1\u001b[0m\u001b[1m]\u001b[0m Retrieving game with \u001b[33mid\u001b[0m=\u001b[1;36m1734703\u001b[0m                                 \u001b[2mwhoscored.py\u001b[0m\u001b[2m:\u001b[0m\u001b[2m695\u001b[0m\n"
      ]
     },
     "metadata": {},
     "output_type": "display_data"
    },
    {
     "data": {
      "text/html": [
       "<div>\n",
       "<style scoped>\n",
       "    .dataframe tbody tr th:only-of-type {\n",
       "        vertical-align: middle;\n",
       "    }\n",
       "\n",
       "    .dataframe tbody tr th {\n",
       "        vertical-align: top;\n",
       "    }\n",
       "\n",
       "    .dataframe thead th {\n",
       "        text-align: right;\n",
       "    }\n",
       "</style>\n",
       "<table border=\"1\" class=\"dataframe\">\n",
       "  <thead>\n",
       "    <tr style=\"text-align: right;\">\n",
       "      <th></th>\n",
       "      <th></th>\n",
       "      <th></th>\n",
       "      <th>game_id</th>\n",
       "      <th>period</th>\n",
       "      <th>minute</th>\n",
       "      <th>second</th>\n",
       "      <th>expanded_minute</th>\n",
       "      <th>type</th>\n",
       "      <th>outcome_type</th>\n",
       "      <th>team_id</th>\n",
       "      <th>team</th>\n",
       "      <th>player_id</th>\n",
       "      <th>...</th>\n",
       "      <th>goal_mouth_z</th>\n",
       "      <th>blocked_x</th>\n",
       "      <th>blocked_y</th>\n",
       "      <th>qualifiers</th>\n",
       "      <th>is_touch</th>\n",
       "      <th>is_shot</th>\n",
       "      <th>is_goal</th>\n",
       "      <th>card_type</th>\n",
       "      <th>related_event_id</th>\n",
       "      <th>related_player_id</th>\n",
       "    </tr>\n",
       "    <tr>\n",
       "      <th>league</th>\n",
       "      <th>season</th>\n",
       "      <th>game</th>\n",
       "      <th></th>\n",
       "      <th></th>\n",
       "      <th></th>\n",
       "      <th></th>\n",
       "      <th></th>\n",
       "      <th></th>\n",
       "      <th></th>\n",
       "      <th></th>\n",
       "      <th></th>\n",
       "      <th></th>\n",
       "      <th></th>\n",
       "      <th></th>\n",
       "      <th></th>\n",
       "      <th></th>\n",
       "      <th></th>\n",
       "      <th></th>\n",
       "      <th></th>\n",
       "      <th></th>\n",
       "      <th></th>\n",
       "      <th></th>\n",
       "      <th></th>\n",
       "    </tr>\n",
       "  </thead>\n",
       "  <tbody>\n",
       "    <tr>\n",
       "      <th rowspan=\"5\" valign=\"top\">ESP-La Liga</th>\n",
       "      <th rowspan=\"5\" valign=\"top\">2324</th>\n",
       "      <th>2023-09-24 Real Betis-Cadiz</th>\n",
       "      <td>1734703</td>\n",
       "      <td>FirstHalf</td>\n",
       "      <td>0</td>\n",
       "      <td>NaN</td>\n",
       "      <td>0</td>\n",
       "      <td>OffsideGiven</td>\n",
       "      <td>Unsuccessful</td>\n",
       "      <td>1354</td>\n",
       "      <td>Cadiz</td>\n",
       "      <td>280027.0</td>\n",
       "      <td>...</td>\n",
       "      <td>NaN</td>\n",
       "      <td>NaN</td>\n",
       "      <td>NaN</td>\n",
       "      <td>[]</td>\n",
       "      <td>False</td>\n",
       "      <td>NaN</td>\n",
       "      <td>NaN</td>\n",
       "      <td>NaN</td>\n",
       "      <td>NaN</td>\n",
       "      <td>NaN</td>\n",
       "    </tr>\n",
       "    <tr>\n",
       "      <th>2023-09-24 Real Betis-Cadiz</th>\n",
       "      <td>1734703</td>\n",
       "      <td>FirstHalf</td>\n",
       "      <td>0</td>\n",
       "      <td>0.0</td>\n",
       "      <td>0</td>\n",
       "      <td>Start</td>\n",
       "      <td>Successful</td>\n",
       "      <td>54</td>\n",
       "      <td>Real Betis</td>\n",
       "      <td>NaN</td>\n",
       "      <td>...</td>\n",
       "      <td>NaN</td>\n",
       "      <td>NaN</td>\n",
       "      <td>NaN</td>\n",
       "      <td>[]</td>\n",
       "      <td>False</td>\n",
       "      <td>NaN</td>\n",
       "      <td>NaN</td>\n",
       "      <td>NaN</td>\n",
       "      <td>NaN</td>\n",
       "      <td>NaN</td>\n",
       "    </tr>\n",
       "    <tr>\n",
       "      <th>2023-09-24 Real Betis-Cadiz</th>\n",
       "      <td>1734703</td>\n",
       "      <td>FirstHalf</td>\n",
       "      <td>0</td>\n",
       "      <td>0.0</td>\n",
       "      <td>0</td>\n",
       "      <td>Start</td>\n",
       "      <td>Successful</td>\n",
       "      <td>1354</td>\n",
       "      <td>Cadiz</td>\n",
       "      <td>NaN</td>\n",
       "      <td>...</td>\n",
       "      <td>NaN</td>\n",
       "      <td>NaN</td>\n",
       "      <td>NaN</td>\n",
       "      <td>[]</td>\n",
       "      <td>False</td>\n",
       "      <td>NaN</td>\n",
       "      <td>NaN</td>\n",
       "      <td>NaN</td>\n",
       "      <td>NaN</td>\n",
       "      <td>NaN</td>\n",
       "    </tr>\n",
       "    <tr>\n",
       "      <th>2023-09-24 Real Betis-Cadiz</th>\n",
       "      <td>1734703</td>\n",
       "      <td>FirstHalf</td>\n",
       "      <td>0</td>\n",
       "      <td>0.0</td>\n",
       "      <td>0</td>\n",
       "      <td>Pass</td>\n",
       "      <td>Successful</td>\n",
       "      <td>54</td>\n",
       "      <td>Real Betis</td>\n",
       "      <td>77636.0</td>\n",
       "      <td>...</td>\n",
       "      <td>NaN</td>\n",
       "      <td>NaN</td>\n",
       "      <td>NaN</td>\n",
       "      <td>[{'type': {'displayName': 'StandingSave', 'val...</td>\n",
       "      <td>True</td>\n",
       "      <td>NaN</td>\n",
       "      <td>NaN</td>\n",
       "      <td>NaN</td>\n",
       "      <td>NaN</td>\n",
       "      <td>NaN</td>\n",
       "    </tr>\n",
       "    <tr>\n",
       "      <th>2023-09-24 Real Betis-Cadiz</th>\n",
       "      <td>1734703</td>\n",
       "      <td>FirstHalf</td>\n",
       "      <td>0</td>\n",
       "      <td>1.0</td>\n",
       "      <td>0</td>\n",
       "      <td>Pass</td>\n",
       "      <td>Successful</td>\n",
       "      <td>54</td>\n",
       "      <td>Real Betis</td>\n",
       "      <td>82989.0</td>\n",
       "      <td>...</td>\n",
       "      <td>NaN</td>\n",
       "      <td>NaN</td>\n",
       "      <td>NaN</td>\n",
       "      <td>[{'type': {'displayName': 'StandingSave', 'val...</td>\n",
       "      <td>True</td>\n",
       "      <td>NaN</td>\n",
       "      <td>NaN</td>\n",
       "      <td>NaN</td>\n",
       "      <td>NaN</td>\n",
       "      <td>NaN</td>\n",
       "    </tr>\n",
       "  </tbody>\n",
       "</table>\n",
       "<p>5 rows × 26 columns</p>\n",
       "</div>"
      ],
      "text/plain": [
       "                                                game_id     period  minute  \\\n",
       "league      season game                                                      \n",
       "ESP-La Liga 2324   2023-09-24 Real Betis-Cadiz  1734703  FirstHalf       0   \n",
       "                   2023-09-24 Real Betis-Cadiz  1734703  FirstHalf       0   \n",
       "                   2023-09-24 Real Betis-Cadiz  1734703  FirstHalf       0   \n",
       "                   2023-09-24 Real Betis-Cadiz  1734703  FirstHalf       0   \n",
       "                   2023-09-24 Real Betis-Cadiz  1734703  FirstHalf       0   \n",
       "\n",
       "                                                second  expanded_minute  \\\n",
       "league      season game                                                   \n",
       "ESP-La Liga 2324   2023-09-24 Real Betis-Cadiz     NaN                0   \n",
       "                   2023-09-24 Real Betis-Cadiz     0.0                0   \n",
       "                   2023-09-24 Real Betis-Cadiz     0.0                0   \n",
       "                   2023-09-24 Real Betis-Cadiz     0.0                0   \n",
       "                   2023-09-24 Real Betis-Cadiz     1.0                0   \n",
       "\n",
       "                                                        type  outcome_type  \\\n",
       "league      season game                                                      \n",
       "ESP-La Liga 2324   2023-09-24 Real Betis-Cadiz  OffsideGiven  Unsuccessful   \n",
       "                   2023-09-24 Real Betis-Cadiz         Start    Successful   \n",
       "                   2023-09-24 Real Betis-Cadiz         Start    Successful   \n",
       "                   2023-09-24 Real Betis-Cadiz          Pass    Successful   \n",
       "                   2023-09-24 Real Betis-Cadiz          Pass    Successful   \n",
       "\n",
       "                                                team_id        team  \\\n",
       "league      season game                                               \n",
       "ESP-La Liga 2324   2023-09-24 Real Betis-Cadiz     1354       Cadiz   \n",
       "                   2023-09-24 Real Betis-Cadiz       54  Real Betis   \n",
       "                   2023-09-24 Real Betis-Cadiz     1354       Cadiz   \n",
       "                   2023-09-24 Real Betis-Cadiz       54  Real Betis   \n",
       "                   2023-09-24 Real Betis-Cadiz       54  Real Betis   \n",
       "\n",
       "                                                player_id  ... goal_mouth_z  \\\n",
       "league      season game                                    ...                \n",
       "ESP-La Liga 2324   2023-09-24 Real Betis-Cadiz   280027.0  ...          NaN   \n",
       "                   2023-09-24 Real Betis-Cadiz        NaN  ...          NaN   \n",
       "                   2023-09-24 Real Betis-Cadiz        NaN  ...          NaN   \n",
       "                   2023-09-24 Real Betis-Cadiz    77636.0  ...          NaN   \n",
       "                   2023-09-24 Real Betis-Cadiz    82989.0  ...          NaN   \n",
       "\n",
       "                                                blocked_x  blocked_y  \\\n",
       "league      season game                                                \n",
       "ESP-La Liga 2324   2023-09-24 Real Betis-Cadiz        NaN        NaN   \n",
       "                   2023-09-24 Real Betis-Cadiz        NaN        NaN   \n",
       "                   2023-09-24 Real Betis-Cadiz        NaN        NaN   \n",
       "                   2023-09-24 Real Betis-Cadiz        NaN        NaN   \n",
       "                   2023-09-24 Real Betis-Cadiz        NaN        NaN   \n",
       "\n",
       "                                                                                       qualifiers  \\\n",
       "league      season game                                                                             \n",
       "ESP-La Liga 2324   2023-09-24 Real Betis-Cadiz                                                 []   \n",
       "                   2023-09-24 Real Betis-Cadiz                                                 []   \n",
       "                   2023-09-24 Real Betis-Cadiz                                                 []   \n",
       "                   2023-09-24 Real Betis-Cadiz  [{'type': {'displayName': 'StandingSave', 'val...   \n",
       "                   2023-09-24 Real Betis-Cadiz  [{'type': {'displayName': 'StandingSave', 'val...   \n",
       "\n",
       "                                                is_touch  is_shot  is_goal  \\\n",
       "league      season game                                                      \n",
       "ESP-La Liga 2324   2023-09-24 Real Betis-Cadiz     False      NaN      NaN   \n",
       "                   2023-09-24 Real Betis-Cadiz     False      NaN      NaN   \n",
       "                   2023-09-24 Real Betis-Cadiz     False      NaN      NaN   \n",
       "                   2023-09-24 Real Betis-Cadiz      True      NaN      NaN   \n",
       "                   2023-09-24 Real Betis-Cadiz      True      NaN      NaN   \n",
       "\n",
       "                                                card_type  related_event_id  \\\n",
       "league      season game                                                       \n",
       "ESP-La Liga 2324   2023-09-24 Real Betis-Cadiz        NaN               NaN   \n",
       "                   2023-09-24 Real Betis-Cadiz        NaN               NaN   \n",
       "                   2023-09-24 Real Betis-Cadiz        NaN               NaN   \n",
       "                   2023-09-24 Real Betis-Cadiz        NaN               NaN   \n",
       "                   2023-09-24 Real Betis-Cadiz        NaN               NaN   \n",
       "\n",
       "                                               related_player_id  \n",
       "league      season game                                           \n",
       "ESP-La Liga 2324   2023-09-24 Real Betis-Cadiz               NaN  \n",
       "                   2023-09-24 Real Betis-Cadiz               NaN  \n",
       "                   2023-09-24 Real Betis-Cadiz               NaN  \n",
       "                   2023-09-24 Real Betis-Cadiz               NaN  \n",
       "                   2023-09-24 Real Betis-Cadiz               NaN  \n",
       "\n",
       "[5 rows x 26 columns]"
      ]
     },
     "execution_count": 19,
     "metadata": {},
     "output_type": "execute_result"
    }
   ],
   "source": [
    "events = ws.read_events(match_id=missing[0])\n",
    "events.head()"
   ]
  },
  {
   "cell_type": "code",
   "execution_count": 20,
   "id": "63851d82",
   "metadata": {
    "scrolled": true
   },
   "outputs": [
    {
     "name": "stdout",
     "output_type": "stream",
     "text": [
      "Index(['game_id', 'period', 'minute', 'second', 'expanded_minute', 'type',\n",
      "       'outcome_type', 'team_id', 'team', 'player_id', 'player', 'x', 'y',\n",
      "       'end_x', 'end_y', 'goal_mouth_y', 'goal_mouth_z', 'blocked_x',\n",
      "       'blocked_y', 'qualifiers', 'is_touch', 'is_shot', 'is_goal',\n",
      "       'card_type', 'related_event_id', 'related_player_id'],\n",
      "      dtype='object')\n",
      "Shots for Cadiz: 5\n",
      "Goals for Cadiz: 1\n",
      "\n",
      "Shots for Real Betis: 21\n",
      "Goals for Real Betis: 1\n",
      "\n"
     ]
    },
    {
     "data": {
      "text/html": [
       "<div>\n",
       "<style scoped>\n",
       "    .dataframe tbody tr th:only-of-type {\n",
       "        vertical-align: middle;\n",
       "    }\n",
       "\n",
       "    .dataframe tbody tr th {\n",
       "        vertical-align: top;\n",
       "    }\n",
       "\n",
       "    .dataframe thead th {\n",
       "        text-align: right;\n",
       "    }\n",
       "</style>\n",
       "<table border=\"1\" class=\"dataframe\">\n",
       "  <thead>\n",
       "    <tr style=\"text-align: right;\">\n",
       "      <th></th>\n",
       "      <th></th>\n",
       "      <th></th>\n",
       "      <th>team</th>\n",
       "      <th>minute</th>\n",
       "      <th>player</th>\n",
       "      <th>is_shot</th>\n",
       "      <th>is_goal</th>\n",
       "    </tr>\n",
       "    <tr>\n",
       "      <th>league</th>\n",
       "      <th>season</th>\n",
       "      <th>game</th>\n",
       "      <th></th>\n",
       "      <th></th>\n",
       "      <th></th>\n",
       "      <th></th>\n",
       "      <th></th>\n",
       "    </tr>\n",
       "  </thead>\n",
       "  <tbody>\n",
       "    <tr>\n",
       "      <th rowspan=\"26\" valign=\"top\">ESP-La Liga</th>\n",
       "      <th rowspan=\"26\" valign=\"top\">2324</th>\n",
       "      <th>2023-09-24 Real Betis-Cadiz</th>\n",
       "      <td>Real Betis</td>\n",
       "      <td>11</td>\n",
       "      <td>Rodri</td>\n",
       "      <td>True</td>\n",
       "      <td>NaN</td>\n",
       "    </tr>\n",
       "    <tr>\n",
       "      <th>2023-09-24 Real Betis-Cadiz</th>\n",
       "      <td>Real Betis</td>\n",
       "      <td>25</td>\n",
       "      <td>Rodri</td>\n",
       "      <td>True</td>\n",
       "      <td>NaN</td>\n",
       "    </tr>\n",
       "    <tr>\n",
       "      <th>2023-09-24 Real Betis-Cadiz</th>\n",
       "      <td>Real Betis</td>\n",
       "      <td>26</td>\n",
       "      <td>Ayoze Pérez</td>\n",
       "      <td>True</td>\n",
       "      <td>NaN</td>\n",
       "    </tr>\n",
       "    <tr>\n",
       "      <th>2023-09-24 Real Betis-Cadiz</th>\n",
       "      <td>Real Betis</td>\n",
       "      <td>35</td>\n",
       "      <td>Willian José</td>\n",
       "      <td>True</td>\n",
       "      <td>NaN</td>\n",
       "    </tr>\n",
       "    <tr>\n",
       "      <th>2023-09-24 Real Betis-Cadiz</th>\n",
       "      <td>Cadiz</td>\n",
       "      <td>40</td>\n",
       "      <td>Chris Ramos</td>\n",
       "      <td>True</td>\n",
       "      <td>True</td>\n",
       "    </tr>\n",
       "    <tr>\n",
       "      <th>2023-09-24 Real Betis-Cadiz</th>\n",
       "      <td>Real Betis</td>\n",
       "      <td>44</td>\n",
       "      <td>Germán Pezzella</td>\n",
       "      <td>True</td>\n",
       "      <td>NaN</td>\n",
       "    </tr>\n",
       "    <tr>\n",
       "      <th>2023-09-24 Real Betis-Cadiz</th>\n",
       "      <td>Cadiz</td>\n",
       "      <td>45</td>\n",
       "      <td>Gonzalo Escalante</td>\n",
       "      <td>True</td>\n",
       "      <td>NaN</td>\n",
       "    </tr>\n",
       "    <tr>\n",
       "      <th>2023-09-24 Real Betis-Cadiz</th>\n",
       "      <td>Real Betis</td>\n",
       "      <td>47</td>\n",
       "      <td>Isco</td>\n",
       "      <td>True</td>\n",
       "      <td>NaN</td>\n",
       "    </tr>\n",
       "    <tr>\n",
       "      <th>2023-09-24 Real Betis-Cadiz</th>\n",
       "      <td>Real Betis</td>\n",
       "      <td>50</td>\n",
       "      <td>Isco</td>\n",
       "      <td>True</td>\n",
       "      <td>NaN</td>\n",
       "    </tr>\n",
       "    <tr>\n",
       "      <th>2023-09-24 Real Betis-Cadiz</th>\n",
       "      <td>Real Betis</td>\n",
       "      <td>50</td>\n",
       "      <td>Abde Ezzalzouli</td>\n",
       "      <td>True</td>\n",
       "      <td>NaN</td>\n",
       "    </tr>\n",
       "    <tr>\n",
       "      <th>2023-09-24 Real Betis-Cadiz</th>\n",
       "      <td>Real Betis</td>\n",
       "      <td>52</td>\n",
       "      <td>Marc Roca</td>\n",
       "      <td>True</td>\n",
       "      <td>NaN</td>\n",
       "    </tr>\n",
       "    <tr>\n",
       "      <th>2023-09-24 Real Betis-Cadiz</th>\n",
       "      <td>Real Betis</td>\n",
       "      <td>53</td>\n",
       "      <td>Abde Ezzalzouli</td>\n",
       "      <td>True</td>\n",
       "      <td>NaN</td>\n",
       "    </tr>\n",
       "    <tr>\n",
       "      <th>2023-09-24 Real Betis-Cadiz</th>\n",
       "      <td>Real Betis</td>\n",
       "      <td>55</td>\n",
       "      <td>Isco</td>\n",
       "      <td>True</td>\n",
       "      <td>NaN</td>\n",
       "    </tr>\n",
       "    <tr>\n",
       "      <th>2023-09-24 Real Betis-Cadiz</th>\n",
       "      <td>Real Betis</td>\n",
       "      <td>59</td>\n",
       "      <td>Guido Rodríguez</td>\n",
       "      <td>True</td>\n",
       "      <td>True</td>\n",
       "    </tr>\n",
       "    <tr>\n",
       "      <th>2023-09-24 Real Betis-Cadiz</th>\n",
       "      <td>Real Betis</td>\n",
       "      <td>64</td>\n",
       "      <td>Marc Bartra</td>\n",
       "      <td>True</td>\n",
       "      <td>NaN</td>\n",
       "    </tr>\n",
       "    <tr>\n",
       "      <th>2023-09-24 Real Betis-Cadiz</th>\n",
       "      <td>Real Betis</td>\n",
       "      <td>70</td>\n",
       "      <td>Abde Ezzalzouli</td>\n",
       "      <td>True</td>\n",
       "      <td>NaN</td>\n",
       "    </tr>\n",
       "    <tr>\n",
       "      <th>2023-09-24 Real Betis-Cadiz</th>\n",
       "      <td>Real Betis</td>\n",
       "      <td>70</td>\n",
       "      <td>Ayoze Pérez</td>\n",
       "      <td>True</td>\n",
       "      <td>NaN</td>\n",
       "    </tr>\n",
       "    <tr>\n",
       "      <th>2023-09-24 Real Betis-Cadiz</th>\n",
       "      <td>Cadiz</td>\n",
       "      <td>76</td>\n",
       "      <td>Roger Martí</td>\n",
       "      <td>True</td>\n",
       "      <td>NaN</td>\n",
       "    </tr>\n",
       "    <tr>\n",
       "      <th>2023-09-24 Real Betis-Cadiz</th>\n",
       "      <td>Real Betis</td>\n",
       "      <td>81</td>\n",
       "      <td>Germán Pezzella</td>\n",
       "      <td>True</td>\n",
       "      <td>NaN</td>\n",
       "    </tr>\n",
       "    <tr>\n",
       "      <th>2023-09-24 Real Betis-Cadiz</th>\n",
       "      <td>Cadiz</td>\n",
       "      <td>82</td>\n",
       "      <td>Chris Ramos</td>\n",
       "      <td>True</td>\n",
       "      <td>NaN</td>\n",
       "    </tr>\n",
       "    <tr>\n",
       "      <th>2023-09-24 Real Betis-Cadiz</th>\n",
       "      <td>Real Betis</td>\n",
       "      <td>82</td>\n",
       "      <td>Ayoze Pérez</td>\n",
       "      <td>True</td>\n",
       "      <td>NaN</td>\n",
       "    </tr>\n",
       "    <tr>\n",
       "      <th>2023-09-24 Real Betis-Cadiz</th>\n",
       "      <td>Real Betis</td>\n",
       "      <td>88</td>\n",
       "      <td>Ayoze Pérez</td>\n",
       "      <td>True</td>\n",
       "      <td>NaN</td>\n",
       "    </tr>\n",
       "    <tr>\n",
       "      <th>2023-09-24 Real Betis-Cadiz</th>\n",
       "      <td>Cadiz</td>\n",
       "      <td>90</td>\n",
       "      <td>Chris Ramos</td>\n",
       "      <td>True</td>\n",
       "      <td>NaN</td>\n",
       "    </tr>\n",
       "    <tr>\n",
       "      <th>2023-09-24 Real Betis-Cadiz</th>\n",
       "      <td>Real Betis</td>\n",
       "      <td>92</td>\n",
       "      <td>Isco</td>\n",
       "      <td>True</td>\n",
       "      <td>NaN</td>\n",
       "    </tr>\n",
       "    <tr>\n",
       "      <th>2023-09-24 Real Betis-Cadiz</th>\n",
       "      <td>Real Betis</td>\n",
       "      <td>93</td>\n",
       "      <td>Ayoze Pérez</td>\n",
       "      <td>True</td>\n",
       "      <td>NaN</td>\n",
       "    </tr>\n",
       "    <tr>\n",
       "      <th>2023-09-24 Real Betis-Cadiz</th>\n",
       "      <td>Real Betis</td>\n",
       "      <td>96</td>\n",
       "      <td>Isco</td>\n",
       "      <td>True</td>\n",
       "      <td>NaN</td>\n",
       "    </tr>\n",
       "  </tbody>\n",
       "</table>\n",
       "</div>"
      ],
      "text/plain": [
       "                                                      team  minute  \\\n",
       "league      season game                                              \n",
       "ESP-La Liga 2324   2023-09-24 Real Betis-Cadiz  Real Betis      11   \n",
       "                   2023-09-24 Real Betis-Cadiz  Real Betis      25   \n",
       "                   2023-09-24 Real Betis-Cadiz  Real Betis      26   \n",
       "                   2023-09-24 Real Betis-Cadiz  Real Betis      35   \n",
       "                   2023-09-24 Real Betis-Cadiz       Cadiz      40   \n",
       "                   2023-09-24 Real Betis-Cadiz  Real Betis      44   \n",
       "                   2023-09-24 Real Betis-Cadiz       Cadiz      45   \n",
       "                   2023-09-24 Real Betis-Cadiz  Real Betis      47   \n",
       "                   2023-09-24 Real Betis-Cadiz  Real Betis      50   \n",
       "                   2023-09-24 Real Betis-Cadiz  Real Betis      50   \n",
       "                   2023-09-24 Real Betis-Cadiz  Real Betis      52   \n",
       "                   2023-09-24 Real Betis-Cadiz  Real Betis      53   \n",
       "                   2023-09-24 Real Betis-Cadiz  Real Betis      55   \n",
       "                   2023-09-24 Real Betis-Cadiz  Real Betis      59   \n",
       "                   2023-09-24 Real Betis-Cadiz  Real Betis      64   \n",
       "                   2023-09-24 Real Betis-Cadiz  Real Betis      70   \n",
       "                   2023-09-24 Real Betis-Cadiz  Real Betis      70   \n",
       "                   2023-09-24 Real Betis-Cadiz       Cadiz      76   \n",
       "                   2023-09-24 Real Betis-Cadiz  Real Betis      81   \n",
       "                   2023-09-24 Real Betis-Cadiz       Cadiz      82   \n",
       "                   2023-09-24 Real Betis-Cadiz  Real Betis      82   \n",
       "                   2023-09-24 Real Betis-Cadiz  Real Betis      88   \n",
       "                   2023-09-24 Real Betis-Cadiz       Cadiz      90   \n",
       "                   2023-09-24 Real Betis-Cadiz  Real Betis      92   \n",
       "                   2023-09-24 Real Betis-Cadiz  Real Betis      93   \n",
       "                   2023-09-24 Real Betis-Cadiz  Real Betis      96   \n",
       "\n",
       "                                                           player is_shot  \\\n",
       "league      season game                                                     \n",
       "ESP-La Liga 2324   2023-09-24 Real Betis-Cadiz              Rodri    True   \n",
       "                   2023-09-24 Real Betis-Cadiz              Rodri    True   \n",
       "                   2023-09-24 Real Betis-Cadiz        Ayoze Pérez    True   \n",
       "                   2023-09-24 Real Betis-Cadiz       Willian José    True   \n",
       "                   2023-09-24 Real Betis-Cadiz        Chris Ramos    True   \n",
       "                   2023-09-24 Real Betis-Cadiz    Germán Pezzella    True   \n",
       "                   2023-09-24 Real Betis-Cadiz  Gonzalo Escalante    True   \n",
       "                   2023-09-24 Real Betis-Cadiz               Isco    True   \n",
       "                   2023-09-24 Real Betis-Cadiz               Isco    True   \n",
       "                   2023-09-24 Real Betis-Cadiz    Abde Ezzalzouli    True   \n",
       "                   2023-09-24 Real Betis-Cadiz          Marc Roca    True   \n",
       "                   2023-09-24 Real Betis-Cadiz    Abde Ezzalzouli    True   \n",
       "                   2023-09-24 Real Betis-Cadiz               Isco    True   \n",
       "                   2023-09-24 Real Betis-Cadiz    Guido Rodríguez    True   \n",
       "                   2023-09-24 Real Betis-Cadiz        Marc Bartra    True   \n",
       "                   2023-09-24 Real Betis-Cadiz    Abde Ezzalzouli    True   \n",
       "                   2023-09-24 Real Betis-Cadiz        Ayoze Pérez    True   \n",
       "                   2023-09-24 Real Betis-Cadiz        Roger Martí    True   \n",
       "                   2023-09-24 Real Betis-Cadiz    Germán Pezzella    True   \n",
       "                   2023-09-24 Real Betis-Cadiz        Chris Ramos    True   \n",
       "                   2023-09-24 Real Betis-Cadiz        Ayoze Pérez    True   \n",
       "                   2023-09-24 Real Betis-Cadiz        Ayoze Pérez    True   \n",
       "                   2023-09-24 Real Betis-Cadiz        Chris Ramos    True   \n",
       "                   2023-09-24 Real Betis-Cadiz               Isco    True   \n",
       "                   2023-09-24 Real Betis-Cadiz        Ayoze Pérez    True   \n",
       "                   2023-09-24 Real Betis-Cadiz               Isco    True   \n",
       "\n",
       "                                               is_goal  \n",
       "league      season game                                 \n",
       "ESP-La Liga 2324   2023-09-24 Real Betis-Cadiz     NaN  \n",
       "                   2023-09-24 Real Betis-Cadiz     NaN  \n",
       "                   2023-09-24 Real Betis-Cadiz     NaN  \n",
       "                   2023-09-24 Real Betis-Cadiz     NaN  \n",
       "                   2023-09-24 Real Betis-Cadiz    True  \n",
       "                   2023-09-24 Real Betis-Cadiz     NaN  \n",
       "                   2023-09-24 Real Betis-Cadiz     NaN  \n",
       "                   2023-09-24 Real Betis-Cadiz     NaN  \n",
       "                   2023-09-24 Real Betis-Cadiz     NaN  \n",
       "                   2023-09-24 Real Betis-Cadiz     NaN  \n",
       "                   2023-09-24 Real Betis-Cadiz     NaN  \n",
       "                   2023-09-24 Real Betis-Cadiz     NaN  \n",
       "                   2023-09-24 Real Betis-Cadiz     NaN  \n",
       "                   2023-09-24 Real Betis-Cadiz    True  \n",
       "                   2023-09-24 Real Betis-Cadiz     NaN  \n",
       "                   2023-09-24 Real Betis-Cadiz     NaN  \n",
       "                   2023-09-24 Real Betis-Cadiz     NaN  \n",
       "                   2023-09-24 Real Betis-Cadiz     NaN  \n",
       "                   2023-09-24 Real Betis-Cadiz     NaN  \n",
       "                   2023-09-24 Real Betis-Cadiz     NaN  \n",
       "                   2023-09-24 Real Betis-Cadiz     NaN  \n",
       "                   2023-09-24 Real Betis-Cadiz     NaN  \n",
       "                   2023-09-24 Real Betis-Cadiz     NaN  \n",
       "                   2023-09-24 Real Betis-Cadiz     NaN  \n",
       "                   2023-09-24 Real Betis-Cadiz     NaN  \n",
       "                   2023-09-24 Real Betis-Cadiz     NaN  "
      ]
     },
     "execution_count": 20,
     "metadata": {},
     "output_type": "execute_result"
    }
   ],
   "source": [
    "print(events.columns)\n",
    "#events.head()\n",
    "#[(data, type(data)) for data in events[\"is_shot\"].unique()]\n",
    "#print(events[\"is_shot\"].unique())\n",
    "\n",
    "#events[events[\"is_shot\"] == True]\n",
    "\n",
    "df = events[['game_id', 'period', 'minute', 'second', 'expanded_minute', 'type',\n",
    "       'outcome_type', 'team_id', 'team', 'player_id', 'player', 'x', 'y',\n",
    "       'end_x', 'end_y', 'goal_mouth_y', 'goal_mouth_z', 'blocked_x',\n",
    "       'blocked_y', 'qualifiers', 'is_touch', 'is_shot', 'is_goal',\n",
    "       'card_type', 'related_event_id', 'related_player_id']]\n",
    "\n",
    "teams = df[\"team\"].unique()\n",
    "\n",
    "df = df[df['is_shot'] == True]\n",
    "df = df[['team', 'minute', 'player', 'is_shot','is_goal']]\n",
    "goals = df[df['is_goal'] == True]\n",
    "for team in teams:\n",
    "       print(f\"Shots for {team}: {len(df[df['team'] == team])}\")\n",
    "       print(f\"Goals for {team}: {len(goals[goals['team'] == team])}\\n\")\n",
    "       \n",
    "\n",
    "df"
   ]
  },
  {
   "cell_type": "markdown",
   "id": "ac20435d",
   "metadata": {},
   "source": [
    "Save raw data to .csv"
   ]
  },
  {
   "cell_type": "code",
   "execution_count": 59,
   "id": "e342e27f",
   "metadata": {},
   "outputs": [],
   "source": [
    "league = events.index[0][0]\n",
    "season = events.index[0][1]\n",
    "match = events.index[0][2].split()[1]\n",
    "\n",
    "match_name = f'{season}_{league}_{match}.csv'\n",
    "\n",
    "events.to_csv(match_name)"
   ]
  },
  {
   "cell_type": "markdown",
   "id": "d275cb7e",
   "metadata": {},
   "source": [
    "## Cleaning of data"
   ]
  },
  {
   "cell_type": "code",
   "execution_count": 104,
   "id": "5512c246",
   "metadata": {},
   "outputs": [],
   "source": [
    "events = pd.read_csv(match_name)\n",
    "import pandas as pd\n",
    "\n",
    "# events = pd.read_csv('2324_ESP-La Liga_Atletico Madrid-Barcelona.csv')"
   ]
  },
  {
   "cell_type": "code",
   "execution_count": 105,
   "id": "71410460",
   "metadata": {},
   "outputs": [
    {
     "data": {
      "text/html": [
       "<div>\n",
       "<style scoped>\n",
       "    .dataframe tbody tr th:only-of-type {\n",
       "        vertical-align: middle;\n",
       "    }\n",
       "\n",
       "    .dataframe tbody tr th {\n",
       "        vertical-align: top;\n",
       "    }\n",
       "\n",
       "    .dataframe thead th {\n",
       "        text-align: right;\n",
       "    }\n",
       "</style>\n",
       "<table border=\"1\" class=\"dataframe\">\n",
       "  <thead>\n",
       "    <tr style=\"text-align: right;\">\n",
       "      <th></th>\n",
       "      <th>league</th>\n",
       "      <th>season</th>\n",
       "      <th>game</th>\n",
       "      <th>id</th>\n",
       "      <th>game_id</th>\n",
       "      <th>period</th>\n",
       "      <th>minute</th>\n",
       "      <th>second</th>\n",
       "      <th>expanded_minute</th>\n",
       "      <th>type</th>\n",
       "      <th>...</th>\n",
       "      <th>goal_mouth_z</th>\n",
       "      <th>blocked_x</th>\n",
       "      <th>blocked_y</th>\n",
       "      <th>qualifiers</th>\n",
       "      <th>is_touch</th>\n",
       "      <th>is_shot</th>\n",
       "      <th>is_goal</th>\n",
       "      <th>card_type</th>\n",
       "      <th>related_event_id</th>\n",
       "      <th>related_player_id</th>\n",
       "    </tr>\n",
       "  </thead>\n",
       "  <tbody>\n",
       "    <tr>\n",
       "      <th>0</th>\n",
       "      <td>ENG-Premier League</td>\n",
       "      <td>2324</td>\n",
       "      <td>2024-03-09 Manchester United-Everton</td>\n",
       "      <td>2656477849</td>\n",
       "      <td>1729401</td>\n",
       "      <td>PreMatch</td>\n",
       "      <td>0</td>\n",
       "      <td>0.0</td>\n",
       "      <td>0</td>\n",
       "      <td>FormationSet</td>\n",
       "      <td>...</td>\n",
       "      <td>NaN</td>\n",
       "      <td>NaN</td>\n",
       "      <td>NaN</td>\n",
       "      <td>[{'type': {'displayName': 'TeamPlayerFormation...</td>\n",
       "      <td>False</td>\n",
       "      <td>NaN</td>\n",
       "      <td>NaN</td>\n",
       "      <td>NaN</td>\n",
       "      <td>NaN</td>\n",
       "      <td>NaN</td>\n",
       "    </tr>\n",
       "    <tr>\n",
       "      <th>1</th>\n",
       "      <td>ENG-Premier League</td>\n",
       "      <td>2324</td>\n",
       "      <td>2024-03-09 Manchester United-Everton</td>\n",
       "      <td>2656477865</td>\n",
       "      <td>1729401</td>\n",
       "      <td>PreMatch</td>\n",
       "      <td>0</td>\n",
       "      <td>0.0</td>\n",
       "      <td>0</td>\n",
       "      <td>FormationSet</td>\n",
       "      <td>...</td>\n",
       "      <td>NaN</td>\n",
       "      <td>NaN</td>\n",
       "      <td>NaN</td>\n",
       "      <td>[{'type': {'displayName': 'InvolvedPlayers', '...</td>\n",
       "      <td>False</td>\n",
       "      <td>NaN</td>\n",
       "      <td>NaN</td>\n",
       "      <td>NaN</td>\n",
       "      <td>NaN</td>\n",
       "      <td>NaN</td>\n",
       "    </tr>\n",
       "    <tr>\n",
       "      <th>2</th>\n",
       "      <td>ENG-Premier League</td>\n",
       "      <td>2324</td>\n",
       "      <td>2024-03-09 Manchester United-Everton</td>\n",
       "      <td>2656521235</td>\n",
       "      <td>1729401</td>\n",
       "      <td>FirstHalf</td>\n",
       "      <td>0</td>\n",
       "      <td>0.0</td>\n",
       "      <td>0</td>\n",
       "      <td>Start</td>\n",
       "      <td>...</td>\n",
       "      <td>NaN</td>\n",
       "      <td>NaN</td>\n",
       "      <td>NaN</td>\n",
       "      <td>[]</td>\n",
       "      <td>False</td>\n",
       "      <td>NaN</td>\n",
       "      <td>NaN</td>\n",
       "      <td>NaN</td>\n",
       "      <td>NaN</td>\n",
       "      <td>NaN</td>\n",
       "    </tr>\n",
       "    <tr>\n",
       "      <th>3</th>\n",
       "      <td>ENG-Premier League</td>\n",
       "      <td>2324</td>\n",
       "      <td>2024-03-09 Manchester United-Everton</td>\n",
       "      <td>2656521251</td>\n",
       "      <td>1729401</td>\n",
       "      <td>FirstHalf</td>\n",
       "      <td>0</td>\n",
       "      <td>0.0</td>\n",
       "      <td>0</td>\n",
       "      <td>Start</td>\n",
       "      <td>...</td>\n",
       "      <td>NaN</td>\n",
       "      <td>NaN</td>\n",
       "      <td>NaN</td>\n",
       "      <td>[]</td>\n",
       "      <td>False</td>\n",
       "      <td>NaN</td>\n",
       "      <td>NaN</td>\n",
       "      <td>NaN</td>\n",
       "      <td>NaN</td>\n",
       "      <td>NaN</td>\n",
       "    </tr>\n",
       "    <tr>\n",
       "      <th>4</th>\n",
       "      <td>ENG-Premier League</td>\n",
       "      <td>2324</td>\n",
       "      <td>2024-03-09 Manchester United-Everton</td>\n",
       "      <td>2656521299</td>\n",
       "      <td>1729401</td>\n",
       "      <td>FirstHalf</td>\n",
       "      <td>0</td>\n",
       "      <td>0.0</td>\n",
       "      <td>0</td>\n",
       "      <td>Pass</td>\n",
       "      <td>...</td>\n",
       "      <td>NaN</td>\n",
       "      <td>NaN</td>\n",
       "      <td>NaN</td>\n",
       "      <td>[{'type': {'displayName': 'Angle', 'value': 21...</td>\n",
       "      <td>True</td>\n",
       "      <td>NaN</td>\n",
       "      <td>NaN</td>\n",
       "      <td>NaN</td>\n",
       "      <td>NaN</td>\n",
       "      <td>NaN</td>\n",
       "    </tr>\n",
       "  </tbody>\n",
       "</table>\n",
       "<p>5 rows × 30 columns</p>\n",
       "</div>"
      ],
      "text/plain": [
       "               league  season                                  game  \\\n",
       "0  ENG-Premier League    2324  2024-03-09 Manchester United-Everton   \n",
       "1  ENG-Premier League    2324  2024-03-09 Manchester United-Everton   \n",
       "2  ENG-Premier League    2324  2024-03-09 Manchester United-Everton   \n",
       "3  ENG-Premier League    2324  2024-03-09 Manchester United-Everton   \n",
       "4  ENG-Premier League    2324  2024-03-09 Manchester United-Everton   \n",
       "\n",
       "           id  game_id     period  minute  second  expanded_minute  \\\n",
       "0  2656477849  1729401   PreMatch       0     0.0                0   \n",
       "1  2656477865  1729401   PreMatch       0     0.0                0   \n",
       "2  2656521235  1729401  FirstHalf       0     0.0                0   \n",
       "3  2656521251  1729401  FirstHalf       0     0.0                0   \n",
       "4  2656521299  1729401  FirstHalf       0     0.0                0   \n",
       "\n",
       "           type  ... goal_mouth_z  blocked_x blocked_y  \\\n",
       "0  FormationSet  ...          NaN        NaN       NaN   \n",
       "1  FormationSet  ...          NaN        NaN       NaN   \n",
       "2         Start  ...          NaN        NaN       NaN   \n",
       "3         Start  ...          NaN        NaN       NaN   \n",
       "4          Pass  ...          NaN        NaN       NaN   \n",
       "\n",
       "                                          qualifiers is_touch  is_shot  \\\n",
       "0  [{'type': {'displayName': 'TeamPlayerFormation...    False      NaN   \n",
       "1  [{'type': {'displayName': 'InvolvedPlayers', '...    False      NaN   \n",
       "2                                                 []    False      NaN   \n",
       "3                                                 []    False      NaN   \n",
       "4  [{'type': {'displayName': 'Angle', 'value': 21...     True      NaN   \n",
       "\n",
       "   is_goal  card_type  related_event_id  related_player_id  \n",
       "0      NaN        NaN               NaN                NaN  \n",
       "1      NaN        NaN               NaN                NaN  \n",
       "2      NaN        NaN               NaN                NaN  \n",
       "3      NaN        NaN               NaN                NaN  \n",
       "4      NaN        NaN               NaN                NaN  \n",
       "\n",
       "[5 rows x 30 columns]"
      ]
     },
     "execution_count": 105,
     "metadata": {},
     "output_type": "execute_result"
    }
   ],
   "source": [
    "events.head()"
   ]
  },
  {
   "cell_type": "markdown",
   "id": "c78620a5",
   "metadata": {},
   "source": [
    "### Split 'game' column"
   ]
  },
  {
   "cell_type": "code",
   "execution_count": 106,
   "id": "66b81b00",
   "metadata": {},
   "outputs": [
    {
     "data": {
      "text/html": [
       "<div>\n",
       "<style scoped>\n",
       "    .dataframe tbody tr th:only-of-type {\n",
       "        vertical-align: middle;\n",
       "    }\n",
       "\n",
       "    .dataframe tbody tr th {\n",
       "        vertical-align: top;\n",
       "    }\n",
       "\n",
       "    .dataframe thead th {\n",
       "        text-align: right;\n",
       "    }\n",
       "</style>\n",
       "<table border=\"1\" class=\"dataframe\">\n",
       "  <thead>\n",
       "    <tr style=\"text-align: right;\">\n",
       "      <th></th>\n",
       "      <th>0</th>\n",
       "      <th>1</th>\n",
       "    </tr>\n",
       "  </thead>\n",
       "  <tbody>\n",
       "    <tr>\n",
       "      <th>0</th>\n",
       "      <td>2024-03-09</td>\n",
       "      <td>Manchester United-Everton</td>\n",
       "    </tr>\n",
       "    <tr>\n",
       "      <th>1</th>\n",
       "      <td>2024-03-09</td>\n",
       "      <td>Manchester United-Everton</td>\n",
       "    </tr>\n",
       "    <tr>\n",
       "      <th>2</th>\n",
       "      <td>2024-03-09</td>\n",
       "      <td>Manchester United-Everton</td>\n",
       "    </tr>\n",
       "    <tr>\n",
       "      <th>3</th>\n",
       "      <td>2024-03-09</td>\n",
       "      <td>Manchester United-Everton</td>\n",
       "    </tr>\n",
       "    <tr>\n",
       "      <th>4</th>\n",
       "      <td>2024-03-09</td>\n",
       "      <td>Manchester United-Everton</td>\n",
       "    </tr>\n",
       "  </tbody>\n",
       "</table>\n",
       "</div>"
      ],
      "text/plain": [
       "            0                          1\n",
       "0  2024-03-09  Manchester United-Everton\n",
       "1  2024-03-09  Manchester United-Everton\n",
       "2  2024-03-09  Manchester United-Everton\n",
       "3  2024-03-09  Manchester United-Everton\n",
       "4  2024-03-09  Manchester United-Everton"
      ]
     },
     "execution_count": 106,
     "metadata": {},
     "output_type": "execute_result"
    }
   ],
   "source": [
    "events.game.str.split(' ', n=1, expand=True).head()"
   ]
  },
  {
   "cell_type": "code",
   "execution_count": 107,
   "id": "b7e1dfb9",
   "metadata": {},
   "outputs": [
    {
     "data": {
      "text/plain": [
       "0    2024-03-09\n",
       "1    2024-03-09\n",
       "2    2024-03-09\n",
       "3    2024-03-09\n",
       "4    2024-03-09\n",
       "Name: 0, dtype: object"
      ]
     },
     "execution_count": 107,
     "metadata": {},
     "output_type": "execute_result"
    }
   ],
   "source": [
    "game_df = events.game.str.split(' ', n=1, expand=True)\n",
    "\n",
    "date = game_df.loc[:, 0]\n",
    "date.head()"
   ]
  },
  {
   "cell_type": "code",
   "execution_count": 108,
   "id": "97924778",
   "metadata": {},
   "outputs": [
    {
     "data": {
      "text/plain": [
       "0    Manchester United\n",
       "1    Manchester United\n",
       "2    Manchester United\n",
       "3    Manchester United\n",
       "4    Manchester United\n",
       "Name: 0, dtype: object"
      ]
     },
     "execution_count": 108,
     "metadata": {},
     "output_type": "execute_result"
    }
   ],
   "source": [
    "home = game_df.loc[:, 1].str.split('-', expand=True).loc[:,0]\n",
    "home.head()"
   ]
  },
  {
   "cell_type": "code",
   "execution_count": 109,
   "id": "509b6e5d",
   "metadata": {},
   "outputs": [
    {
     "data": {
      "text/plain": [
       "0    Everton\n",
       "1    Everton\n",
       "2    Everton\n",
       "3    Everton\n",
       "4    Everton\n",
       "Name: 1, dtype: object"
      ]
     },
     "execution_count": 109,
     "metadata": {},
     "output_type": "execute_result"
    }
   ],
   "source": [
    "away = game_df.loc[:, 1].str.split('-', expand=True).loc[:,1]\n",
    "away.head()"
   ]
  },
  {
   "cell_type": "code",
   "execution_count": 110,
   "id": "db79c82d",
   "metadata": {},
   "outputs": [
    {
     "data": {
      "text/html": [
       "<div>\n",
       "<style scoped>\n",
       "    .dataframe tbody tr th:only-of-type {\n",
       "        vertical-align: middle;\n",
       "    }\n",
       "\n",
       "    .dataframe tbody tr th {\n",
       "        vertical-align: top;\n",
       "    }\n",
       "\n",
       "    .dataframe thead th {\n",
       "        text-align: right;\n",
       "    }\n",
       "</style>\n",
       "<table border=\"1\" class=\"dataframe\">\n",
       "  <thead>\n",
       "    <tr style=\"text-align: right;\">\n",
       "      <th></th>\n",
       "      <th>league</th>\n",
       "      <th>season</th>\n",
       "      <th>date</th>\n",
       "      <th>home</th>\n",
       "      <th>away</th>\n",
       "      <th>id</th>\n",
       "      <th>game_id</th>\n",
       "      <th>period</th>\n",
       "      <th>minute</th>\n",
       "      <th>second</th>\n",
       "      <th>...</th>\n",
       "      <th>goal_mouth_z</th>\n",
       "      <th>blocked_x</th>\n",
       "      <th>blocked_y</th>\n",
       "      <th>qualifiers</th>\n",
       "      <th>is_touch</th>\n",
       "      <th>is_shot</th>\n",
       "      <th>is_goal</th>\n",
       "      <th>card_type</th>\n",
       "      <th>related_event_id</th>\n",
       "      <th>related_player_id</th>\n",
       "    </tr>\n",
       "  </thead>\n",
       "  <tbody>\n",
       "    <tr>\n",
       "      <th>0</th>\n",
       "      <td>ENG-Premier League</td>\n",
       "      <td>2324</td>\n",
       "      <td>2024-03-09</td>\n",
       "      <td>Manchester United</td>\n",
       "      <td>Everton</td>\n",
       "      <td>2656477849</td>\n",
       "      <td>1729401</td>\n",
       "      <td>PreMatch</td>\n",
       "      <td>0</td>\n",
       "      <td>0.0</td>\n",
       "      <td>...</td>\n",
       "      <td>NaN</td>\n",
       "      <td>NaN</td>\n",
       "      <td>NaN</td>\n",
       "      <td>[{'type': {'displayName': 'TeamPlayerFormation...</td>\n",
       "      <td>False</td>\n",
       "      <td>NaN</td>\n",
       "      <td>NaN</td>\n",
       "      <td>NaN</td>\n",
       "      <td>NaN</td>\n",
       "      <td>NaN</td>\n",
       "    </tr>\n",
       "    <tr>\n",
       "      <th>1</th>\n",
       "      <td>ENG-Premier League</td>\n",
       "      <td>2324</td>\n",
       "      <td>2024-03-09</td>\n",
       "      <td>Manchester United</td>\n",
       "      <td>Everton</td>\n",
       "      <td>2656477865</td>\n",
       "      <td>1729401</td>\n",
       "      <td>PreMatch</td>\n",
       "      <td>0</td>\n",
       "      <td>0.0</td>\n",
       "      <td>...</td>\n",
       "      <td>NaN</td>\n",
       "      <td>NaN</td>\n",
       "      <td>NaN</td>\n",
       "      <td>[{'type': {'displayName': 'InvolvedPlayers', '...</td>\n",
       "      <td>False</td>\n",
       "      <td>NaN</td>\n",
       "      <td>NaN</td>\n",
       "      <td>NaN</td>\n",
       "      <td>NaN</td>\n",
       "      <td>NaN</td>\n",
       "    </tr>\n",
       "    <tr>\n",
       "      <th>2</th>\n",
       "      <td>ENG-Premier League</td>\n",
       "      <td>2324</td>\n",
       "      <td>2024-03-09</td>\n",
       "      <td>Manchester United</td>\n",
       "      <td>Everton</td>\n",
       "      <td>2656521235</td>\n",
       "      <td>1729401</td>\n",
       "      <td>FirstHalf</td>\n",
       "      <td>0</td>\n",
       "      <td>0.0</td>\n",
       "      <td>...</td>\n",
       "      <td>NaN</td>\n",
       "      <td>NaN</td>\n",
       "      <td>NaN</td>\n",
       "      <td>[]</td>\n",
       "      <td>False</td>\n",
       "      <td>NaN</td>\n",
       "      <td>NaN</td>\n",
       "      <td>NaN</td>\n",
       "      <td>NaN</td>\n",
       "      <td>NaN</td>\n",
       "    </tr>\n",
       "    <tr>\n",
       "      <th>3</th>\n",
       "      <td>ENG-Premier League</td>\n",
       "      <td>2324</td>\n",
       "      <td>2024-03-09</td>\n",
       "      <td>Manchester United</td>\n",
       "      <td>Everton</td>\n",
       "      <td>2656521251</td>\n",
       "      <td>1729401</td>\n",
       "      <td>FirstHalf</td>\n",
       "      <td>0</td>\n",
       "      <td>0.0</td>\n",
       "      <td>...</td>\n",
       "      <td>NaN</td>\n",
       "      <td>NaN</td>\n",
       "      <td>NaN</td>\n",
       "      <td>[]</td>\n",
       "      <td>False</td>\n",
       "      <td>NaN</td>\n",
       "      <td>NaN</td>\n",
       "      <td>NaN</td>\n",
       "      <td>NaN</td>\n",
       "      <td>NaN</td>\n",
       "    </tr>\n",
       "    <tr>\n",
       "      <th>4</th>\n",
       "      <td>ENG-Premier League</td>\n",
       "      <td>2324</td>\n",
       "      <td>2024-03-09</td>\n",
       "      <td>Manchester United</td>\n",
       "      <td>Everton</td>\n",
       "      <td>2656521299</td>\n",
       "      <td>1729401</td>\n",
       "      <td>FirstHalf</td>\n",
       "      <td>0</td>\n",
       "      <td>0.0</td>\n",
       "      <td>...</td>\n",
       "      <td>NaN</td>\n",
       "      <td>NaN</td>\n",
       "      <td>NaN</td>\n",
       "      <td>[{'type': {'displayName': 'Angle', 'value': 21...</td>\n",
       "      <td>True</td>\n",
       "      <td>NaN</td>\n",
       "      <td>NaN</td>\n",
       "      <td>NaN</td>\n",
       "      <td>NaN</td>\n",
       "      <td>NaN</td>\n",
       "    </tr>\n",
       "  </tbody>\n",
       "</table>\n",
       "<p>5 rows × 32 columns</p>\n",
       "</div>"
      ],
      "text/plain": [
       "               league  season        date               home     away  \\\n",
       "0  ENG-Premier League    2324  2024-03-09  Manchester United  Everton   \n",
       "1  ENG-Premier League    2324  2024-03-09  Manchester United  Everton   \n",
       "2  ENG-Premier League    2324  2024-03-09  Manchester United  Everton   \n",
       "3  ENG-Premier League    2324  2024-03-09  Manchester United  Everton   \n",
       "4  ENG-Premier League    2324  2024-03-09  Manchester United  Everton   \n",
       "\n",
       "           id  game_id     period  minute  second  ...  goal_mouth_z  \\\n",
       "0  2656477849  1729401   PreMatch       0     0.0  ...           NaN   \n",
       "1  2656477865  1729401   PreMatch       0     0.0  ...           NaN   \n",
       "2  2656521235  1729401  FirstHalf       0     0.0  ...           NaN   \n",
       "3  2656521251  1729401  FirstHalf       0     0.0  ...           NaN   \n",
       "4  2656521299  1729401  FirstHalf       0     0.0  ...           NaN   \n",
       "\n",
       "  blocked_x blocked_y                                         qualifiers  \\\n",
       "0       NaN       NaN  [{'type': {'displayName': 'TeamPlayerFormation...   \n",
       "1       NaN       NaN  [{'type': {'displayName': 'InvolvedPlayers', '...   \n",
       "2       NaN       NaN                                                 []   \n",
       "3       NaN       NaN                                                 []   \n",
       "4       NaN       NaN  [{'type': {'displayName': 'Angle', 'value': 21...   \n",
       "\n",
       "  is_touch  is_shot is_goal  card_type  related_event_id  related_player_id  \n",
       "0    False      NaN     NaN        NaN               NaN                NaN  \n",
       "1    False      NaN     NaN        NaN               NaN                NaN  \n",
       "2    False      NaN     NaN        NaN               NaN                NaN  \n",
       "3    False      NaN     NaN        NaN               NaN                NaN  \n",
       "4     True      NaN     NaN        NaN               NaN                NaN  \n",
       "\n",
       "[5 rows x 32 columns]"
      ]
     },
     "execution_count": 110,
     "metadata": {},
     "output_type": "execute_result"
    }
   ],
   "source": [
    "events.pop('game')\n",
    "events.insert(2, \"date\", date)\n",
    "events.insert(3, \"home\", home)\n",
    "events.insert(4, \"away\", away)\n",
    "\n",
    "events.head()"
   ]
  },
  {
   "cell_type": "markdown",
   "id": "39771db4",
   "metadata": {},
   "source": [
    "### Fix team names"
   ]
  },
  {
   "cell_type": "code",
   "execution_count": 111,
   "id": "56fd361d",
   "metadata": {},
   "outputs": [
    {
     "data": {
      "text/plain": [
       "array(['Man Utd', 'Everton'], dtype=object)"
      ]
     },
     "execution_count": 111,
     "metadata": {},
     "output_type": "execute_result"
    }
   ],
   "source": [
    "events.team.unique()"
   ]
  },
  {
   "cell_type": "markdown",
   "id": "d0464908",
   "metadata": {},
   "source": [
    "#### This dictionary can be updated in the future with different team names"
   ]
  },
  {
   "cell_type": "code",
   "execution_count": 112,
   "id": "39e8d7d4",
   "metadata": {},
   "outputs": [],
   "source": [
    "team_names = {\n",
    "    'Man City': 'Manchester City',\n",
    "    'Man Utd': 'Mancheser United',\n",
    "}"
   ]
  },
  {
   "cell_type": "code",
   "execution_count": 113,
   "id": "3406f6d0",
   "metadata": {},
   "outputs": [
    {
     "data": {
      "text/plain": [
       "array(['Mancheser United', 'Everton'], dtype=object)"
      ]
     },
     "execution_count": 113,
     "metadata": {},
     "output_type": "execute_result"
    }
   ],
   "source": [
    "events.loc[:,'team'] = events.team.replace(team_names)\n",
    "events.team.unique()"
   ]
  },
  {
   "cell_type": "code",
   "execution_count": 114,
   "id": "d023ae52",
   "metadata": {},
   "outputs": [
    {
     "data": {
      "text/html": [
       "<div>\n",
       "<style scoped>\n",
       "    .dataframe tbody tr th:only-of-type {\n",
       "        vertical-align: middle;\n",
       "    }\n",
       "\n",
       "    .dataframe tbody tr th {\n",
       "        vertical-align: top;\n",
       "    }\n",
       "\n",
       "    .dataframe thead th {\n",
       "        text-align: right;\n",
       "    }\n",
       "</style>\n",
       "<table border=\"1\" class=\"dataframe\">\n",
       "  <thead>\n",
       "    <tr style=\"text-align: right;\">\n",
       "      <th></th>\n",
       "      <th>league</th>\n",
       "      <th>season</th>\n",
       "      <th>date</th>\n",
       "      <th>home</th>\n",
       "      <th>away</th>\n",
       "      <th>id</th>\n",
       "      <th>game_id</th>\n",
       "      <th>period</th>\n",
       "      <th>minute</th>\n",
       "      <th>second</th>\n",
       "      <th>...</th>\n",
       "      <th>goal_mouth_z</th>\n",
       "      <th>blocked_x</th>\n",
       "      <th>blocked_y</th>\n",
       "      <th>qualifiers</th>\n",
       "      <th>is_touch</th>\n",
       "      <th>is_shot</th>\n",
       "      <th>is_goal</th>\n",
       "      <th>card_type</th>\n",
       "      <th>related_event_id</th>\n",
       "      <th>related_player_id</th>\n",
       "    </tr>\n",
       "  </thead>\n",
       "  <tbody>\n",
       "    <tr>\n",
       "      <th>0</th>\n",
       "      <td>ENG-Premier League</td>\n",
       "      <td>2324</td>\n",
       "      <td>2024-03-09</td>\n",
       "      <td>Manchester United</td>\n",
       "      <td>Everton</td>\n",
       "      <td>2656477849</td>\n",
       "      <td>1729401</td>\n",
       "      <td>PreMatch</td>\n",
       "      <td>0</td>\n",
       "      <td>0.0</td>\n",
       "      <td>...</td>\n",
       "      <td>NaN</td>\n",
       "      <td>NaN</td>\n",
       "      <td>NaN</td>\n",
       "      <td>[{'type': {'displayName': 'TeamPlayerFormation...</td>\n",
       "      <td>False</td>\n",
       "      <td>NaN</td>\n",
       "      <td>NaN</td>\n",
       "      <td>NaN</td>\n",
       "      <td>NaN</td>\n",
       "      <td>NaN</td>\n",
       "    </tr>\n",
       "    <tr>\n",
       "      <th>1</th>\n",
       "      <td>ENG-Premier League</td>\n",
       "      <td>2324</td>\n",
       "      <td>2024-03-09</td>\n",
       "      <td>Manchester United</td>\n",
       "      <td>Everton</td>\n",
       "      <td>2656477865</td>\n",
       "      <td>1729401</td>\n",
       "      <td>PreMatch</td>\n",
       "      <td>0</td>\n",
       "      <td>0.0</td>\n",
       "      <td>...</td>\n",
       "      <td>NaN</td>\n",
       "      <td>NaN</td>\n",
       "      <td>NaN</td>\n",
       "      <td>[{'type': {'displayName': 'InvolvedPlayers', '...</td>\n",
       "      <td>False</td>\n",
       "      <td>NaN</td>\n",
       "      <td>NaN</td>\n",
       "      <td>NaN</td>\n",
       "      <td>NaN</td>\n",
       "      <td>NaN</td>\n",
       "    </tr>\n",
       "    <tr>\n",
       "      <th>2</th>\n",
       "      <td>ENG-Premier League</td>\n",
       "      <td>2324</td>\n",
       "      <td>2024-03-09</td>\n",
       "      <td>Manchester United</td>\n",
       "      <td>Everton</td>\n",
       "      <td>2656521235</td>\n",
       "      <td>1729401</td>\n",
       "      <td>FirstHalf</td>\n",
       "      <td>0</td>\n",
       "      <td>0.0</td>\n",
       "      <td>...</td>\n",
       "      <td>NaN</td>\n",
       "      <td>NaN</td>\n",
       "      <td>NaN</td>\n",
       "      <td>[]</td>\n",
       "      <td>False</td>\n",
       "      <td>NaN</td>\n",
       "      <td>NaN</td>\n",
       "      <td>NaN</td>\n",
       "      <td>NaN</td>\n",
       "      <td>NaN</td>\n",
       "    </tr>\n",
       "    <tr>\n",
       "      <th>3</th>\n",
       "      <td>ENG-Premier League</td>\n",
       "      <td>2324</td>\n",
       "      <td>2024-03-09</td>\n",
       "      <td>Manchester United</td>\n",
       "      <td>Everton</td>\n",
       "      <td>2656521251</td>\n",
       "      <td>1729401</td>\n",
       "      <td>FirstHalf</td>\n",
       "      <td>0</td>\n",
       "      <td>0.0</td>\n",
       "      <td>...</td>\n",
       "      <td>NaN</td>\n",
       "      <td>NaN</td>\n",
       "      <td>NaN</td>\n",
       "      <td>[]</td>\n",
       "      <td>False</td>\n",
       "      <td>NaN</td>\n",
       "      <td>NaN</td>\n",
       "      <td>NaN</td>\n",
       "      <td>NaN</td>\n",
       "      <td>NaN</td>\n",
       "    </tr>\n",
       "    <tr>\n",
       "      <th>4</th>\n",
       "      <td>ENG-Premier League</td>\n",
       "      <td>2324</td>\n",
       "      <td>2024-03-09</td>\n",
       "      <td>Manchester United</td>\n",
       "      <td>Everton</td>\n",
       "      <td>2656521299</td>\n",
       "      <td>1729401</td>\n",
       "      <td>FirstHalf</td>\n",
       "      <td>0</td>\n",
       "      <td>0.0</td>\n",
       "      <td>...</td>\n",
       "      <td>NaN</td>\n",
       "      <td>NaN</td>\n",
       "      <td>NaN</td>\n",
       "      <td>[{'type': {'displayName': 'Angle', 'value': 21...</td>\n",
       "      <td>True</td>\n",
       "      <td>NaN</td>\n",
       "      <td>NaN</td>\n",
       "      <td>NaN</td>\n",
       "      <td>NaN</td>\n",
       "      <td>NaN</td>\n",
       "    </tr>\n",
       "  </tbody>\n",
       "</table>\n",
       "<p>5 rows × 32 columns</p>\n",
       "</div>"
      ],
      "text/plain": [
       "               league  season        date               home     away  \\\n",
       "0  ENG-Premier League    2324  2024-03-09  Manchester United  Everton   \n",
       "1  ENG-Premier League    2324  2024-03-09  Manchester United  Everton   \n",
       "2  ENG-Premier League    2324  2024-03-09  Manchester United  Everton   \n",
       "3  ENG-Premier League    2324  2024-03-09  Manchester United  Everton   \n",
       "4  ENG-Premier League    2324  2024-03-09  Manchester United  Everton   \n",
       "\n",
       "           id  game_id     period  minute  second  ...  goal_mouth_z  \\\n",
       "0  2656477849  1729401   PreMatch       0     0.0  ...           NaN   \n",
       "1  2656477865  1729401   PreMatch       0     0.0  ...           NaN   \n",
       "2  2656521235  1729401  FirstHalf       0     0.0  ...           NaN   \n",
       "3  2656521251  1729401  FirstHalf       0     0.0  ...           NaN   \n",
       "4  2656521299  1729401  FirstHalf       0     0.0  ...           NaN   \n",
       "\n",
       "  blocked_x blocked_y                                         qualifiers  \\\n",
       "0       NaN       NaN  [{'type': {'displayName': 'TeamPlayerFormation...   \n",
       "1       NaN       NaN  [{'type': {'displayName': 'InvolvedPlayers', '...   \n",
       "2       NaN       NaN                                                 []   \n",
       "3       NaN       NaN                                                 []   \n",
       "4       NaN       NaN  [{'type': {'displayName': 'Angle', 'value': 21...   \n",
       "\n",
       "  is_touch  is_shot is_goal  card_type  related_event_id  related_player_id  \n",
       "0    False      NaN     NaN        NaN               NaN                NaN  \n",
       "1    False      NaN     NaN        NaN               NaN                NaN  \n",
       "2    False      NaN     NaN        NaN               NaN                NaN  \n",
       "3    False      NaN     NaN        NaN               NaN                NaN  \n",
       "4     True      NaN     NaN        NaN               NaN                NaN  \n",
       "\n",
       "[5 rows x 32 columns]"
      ]
     },
     "execution_count": 114,
     "metadata": {},
     "output_type": "execute_result"
    }
   ],
   "source": [
    "events.head()"
   ]
  },
  {
   "cell_type": "markdown",
   "id": "cb2e1c45",
   "metadata": {},
   "source": [
    "### Fill NAs"
   ]
  },
  {
   "cell_type": "code",
   "execution_count": 115,
   "id": "9455e106",
   "metadata": {},
   "outputs": [
    {
     "data": {
      "text/plain": [
       "Index(['league', 'season', 'date', 'home', 'away', 'id', 'game_id', 'period',\n",
       "       'minute', 'second', 'expanded_minute', 'type', 'outcome_type',\n",
       "       'team_id', 'team', 'player_id', 'player', 'x', 'y', 'end_x', 'end_y',\n",
       "       'goal_mouth_y', 'goal_mouth_z', 'blocked_x', 'blocked_y', 'qualifiers',\n",
       "       'is_touch', 'is_shot', 'is_goal', 'card_type', 'related_event_id',\n",
       "       'related_player_id'],\n",
       "      dtype='object')"
      ]
     },
     "execution_count": 115,
     "metadata": {},
     "output_type": "execute_result"
    }
   ],
   "source": [
    "events.columns"
   ]
  },
  {
   "cell_type": "code",
   "execution_count": 116,
   "id": "12e32109",
   "metadata": {},
   "outputs": [
    {
     "data": {
      "text/plain": [
       "array([nan, True], dtype=object)"
      ]
     },
     "execution_count": 116,
     "metadata": {},
     "output_type": "execute_result"
    }
   ],
   "source": [
    "events.is_shot.unique()"
   ]
  },
  {
   "cell_type": "code",
   "execution_count": 117,
   "id": "9fbe7f98",
   "metadata": {},
   "outputs": [],
   "source": [
    "events_to_fill = ['is_shot', 'is_goal', ]"
   ]
  },
  {
   "cell_type": "code",
   "execution_count": 118,
   "id": "7b325afb",
   "metadata": {
    "tags": []
   },
   "outputs": [
    {
     "data": {
      "text/html": [
       "<div>\n",
       "<style scoped>\n",
       "    .dataframe tbody tr th:only-of-type {\n",
       "        vertical-align: middle;\n",
       "    }\n",
       "\n",
       "    .dataframe tbody tr th {\n",
       "        vertical-align: top;\n",
       "    }\n",
       "\n",
       "    .dataframe thead th {\n",
       "        text-align: right;\n",
       "    }\n",
       "</style>\n",
       "<table border=\"1\" class=\"dataframe\">\n",
       "  <thead>\n",
       "    <tr style=\"text-align: right;\">\n",
       "      <th></th>\n",
       "      <th>league</th>\n",
       "      <th>season</th>\n",
       "      <th>date</th>\n",
       "      <th>home</th>\n",
       "      <th>away</th>\n",
       "      <th>id</th>\n",
       "      <th>game_id</th>\n",
       "      <th>period</th>\n",
       "      <th>minute</th>\n",
       "      <th>second</th>\n",
       "      <th>...</th>\n",
       "      <th>goal_mouth_z</th>\n",
       "      <th>blocked_x</th>\n",
       "      <th>blocked_y</th>\n",
       "      <th>qualifiers</th>\n",
       "      <th>is_touch</th>\n",
       "      <th>is_shot</th>\n",
       "      <th>is_goal</th>\n",
       "      <th>card_type</th>\n",
       "      <th>related_event_id</th>\n",
       "      <th>related_player_id</th>\n",
       "    </tr>\n",
       "  </thead>\n",
       "  <tbody>\n",
       "    <tr>\n",
       "      <th>0</th>\n",
       "      <td>ENG-Premier League</td>\n",
       "      <td>2324</td>\n",
       "      <td>2024-03-09</td>\n",
       "      <td>Manchester United</td>\n",
       "      <td>Everton</td>\n",
       "      <td>2656477849</td>\n",
       "      <td>1729401</td>\n",
       "      <td>PreMatch</td>\n",
       "      <td>0</td>\n",
       "      <td>0.0</td>\n",
       "      <td>...</td>\n",
       "      <td>NaN</td>\n",
       "      <td>NaN</td>\n",
       "      <td>NaN</td>\n",
       "      <td>[{'type': {'displayName': 'TeamPlayerFormation...</td>\n",
       "      <td>False</td>\n",
       "      <td>True</td>\n",
       "      <td>True</td>\n",
       "      <td>NaN</td>\n",
       "      <td>NaN</td>\n",
       "      <td>NaN</td>\n",
       "    </tr>\n",
       "    <tr>\n",
       "      <th>1</th>\n",
       "      <td>ENG-Premier League</td>\n",
       "      <td>2324</td>\n",
       "      <td>2024-03-09</td>\n",
       "      <td>Manchester United</td>\n",
       "      <td>Everton</td>\n",
       "      <td>2656477865</td>\n",
       "      <td>1729401</td>\n",
       "      <td>PreMatch</td>\n",
       "      <td>0</td>\n",
       "      <td>0.0</td>\n",
       "      <td>...</td>\n",
       "      <td>NaN</td>\n",
       "      <td>NaN</td>\n",
       "      <td>NaN</td>\n",
       "      <td>[{'type': {'displayName': 'InvolvedPlayers', '...</td>\n",
       "      <td>False</td>\n",
       "      <td>True</td>\n",
       "      <td>True</td>\n",
       "      <td>NaN</td>\n",
       "      <td>NaN</td>\n",
       "      <td>NaN</td>\n",
       "    </tr>\n",
       "    <tr>\n",
       "      <th>2</th>\n",
       "      <td>ENG-Premier League</td>\n",
       "      <td>2324</td>\n",
       "      <td>2024-03-09</td>\n",
       "      <td>Manchester United</td>\n",
       "      <td>Everton</td>\n",
       "      <td>2656521235</td>\n",
       "      <td>1729401</td>\n",
       "      <td>FirstHalf</td>\n",
       "      <td>0</td>\n",
       "      <td>0.0</td>\n",
       "      <td>...</td>\n",
       "      <td>NaN</td>\n",
       "      <td>NaN</td>\n",
       "      <td>NaN</td>\n",
       "      <td>[]</td>\n",
       "      <td>False</td>\n",
       "      <td>True</td>\n",
       "      <td>True</td>\n",
       "      <td>NaN</td>\n",
       "      <td>NaN</td>\n",
       "      <td>NaN</td>\n",
       "    </tr>\n",
       "    <tr>\n",
       "      <th>3</th>\n",
       "      <td>ENG-Premier League</td>\n",
       "      <td>2324</td>\n",
       "      <td>2024-03-09</td>\n",
       "      <td>Manchester United</td>\n",
       "      <td>Everton</td>\n",
       "      <td>2656521251</td>\n",
       "      <td>1729401</td>\n",
       "      <td>FirstHalf</td>\n",
       "      <td>0</td>\n",
       "      <td>0.0</td>\n",
       "      <td>...</td>\n",
       "      <td>NaN</td>\n",
       "      <td>NaN</td>\n",
       "      <td>NaN</td>\n",
       "      <td>[]</td>\n",
       "      <td>False</td>\n",
       "      <td>True</td>\n",
       "      <td>True</td>\n",
       "      <td>NaN</td>\n",
       "      <td>NaN</td>\n",
       "      <td>NaN</td>\n",
       "    </tr>\n",
       "    <tr>\n",
       "      <th>4</th>\n",
       "      <td>ENG-Premier League</td>\n",
       "      <td>2324</td>\n",
       "      <td>2024-03-09</td>\n",
       "      <td>Manchester United</td>\n",
       "      <td>Everton</td>\n",
       "      <td>2656521299</td>\n",
       "      <td>1729401</td>\n",
       "      <td>FirstHalf</td>\n",
       "      <td>0</td>\n",
       "      <td>0.0</td>\n",
       "      <td>...</td>\n",
       "      <td>NaN</td>\n",
       "      <td>NaN</td>\n",
       "      <td>NaN</td>\n",
       "      <td>[{'type': {'displayName': 'Angle', 'value': 21...</td>\n",
       "      <td>True</td>\n",
       "      <td>True</td>\n",
       "      <td>True</td>\n",
       "      <td>NaN</td>\n",
       "      <td>NaN</td>\n",
       "      <td>NaN</td>\n",
       "    </tr>\n",
       "  </tbody>\n",
       "</table>\n",
       "<p>5 rows × 32 columns</p>\n",
       "</div>"
      ],
      "text/plain": [
       "               league  season        date               home     away  \\\n",
       "0  ENG-Premier League    2324  2024-03-09  Manchester United  Everton   \n",
       "1  ENG-Premier League    2324  2024-03-09  Manchester United  Everton   \n",
       "2  ENG-Premier League    2324  2024-03-09  Manchester United  Everton   \n",
       "3  ENG-Premier League    2324  2024-03-09  Manchester United  Everton   \n",
       "4  ENG-Premier League    2324  2024-03-09  Manchester United  Everton   \n",
       "\n",
       "           id  game_id     period  minute  second  ...  goal_mouth_z  \\\n",
       "0  2656477849  1729401   PreMatch       0     0.0  ...           NaN   \n",
       "1  2656477865  1729401   PreMatch       0     0.0  ...           NaN   \n",
       "2  2656521235  1729401  FirstHalf       0     0.0  ...           NaN   \n",
       "3  2656521251  1729401  FirstHalf       0     0.0  ...           NaN   \n",
       "4  2656521299  1729401  FirstHalf       0     0.0  ...           NaN   \n",
       "\n",
       "  blocked_x blocked_y                                         qualifiers  \\\n",
       "0       NaN       NaN  [{'type': {'displayName': 'TeamPlayerFormation...   \n",
       "1       NaN       NaN  [{'type': {'displayName': 'InvolvedPlayers', '...   \n",
       "2       NaN       NaN                                                 []   \n",
       "3       NaN       NaN                                                 []   \n",
       "4       NaN       NaN  [{'type': {'displayName': 'Angle', 'value': 21...   \n",
       "\n",
       "  is_touch  is_shot is_goal  card_type  related_event_id  related_player_id  \n",
       "0    False     True    True        NaN               NaN                NaN  \n",
       "1    False     True    True        NaN               NaN                NaN  \n",
       "2    False     True    True        NaN               NaN                NaN  \n",
       "3    False     True    True        NaN               NaN                NaN  \n",
       "4     True     True    True        NaN               NaN                NaN  \n",
       "\n",
       "[5 rows x 32 columns]"
      ]
     },
     "execution_count": 118,
     "metadata": {},
     "output_type": "execute_result"
    }
   ],
   "source": [
    "for event in events_to_fill:\n",
    "    events.loc[:, event] = events[event].astype(bool).fillna(0)\n",
    "    events.loc[:, event] = events[event].replace(0, False)\n",
    "    \n",
    "events.head()"
   ]
  },
  {
   "cell_type": "code",
   "execution_count": 92,
   "id": "399b832b",
   "metadata": {},
   "outputs": [
    {
     "data": {
      "text/html": [
       "<div>\n",
       "<style scoped>\n",
       "    .dataframe tbody tr th:only-of-type {\n",
       "        vertical-align: middle;\n",
       "    }\n",
       "\n",
       "    .dataframe tbody tr th {\n",
       "        vertical-align: top;\n",
       "    }\n",
       "\n",
       "    .dataframe thead th {\n",
       "        text-align: right;\n",
       "    }\n",
       "</style>\n",
       "<table border=\"1\" class=\"dataframe\">\n",
       "  <thead>\n",
       "    <tr style=\"text-align: right;\">\n",
       "      <th></th>\n",
       "      <th>value</th>\n",
       "      <th>type.displayName</th>\n",
       "      <th>type.value</th>\n",
       "    </tr>\n",
       "  </thead>\n",
       "  <tbody>\n",
       "    <tr>\n",
       "      <th>0</th>\n",
       "      <td>1, 2, 3, 4, 5, 6, 7, 8, 9, 10, 11, 0, 0, 0, 0,...</td>\n",
       "      <td>TeamPlayerFormation</td>\n",
       "      <td>131</td>\n",
       "    </tr>\n",
       "    <tr>\n",
       "      <th>1</th>\n",
       "      <td>24, 20, 2, 37, 35, 19, 17, 18, 39, 8, 10, 1, 4...</td>\n",
       "      <td>JerseyNumber</td>\n",
       "      <td>59</td>\n",
       "    </tr>\n",
       "    <tr>\n",
       "      <th>2</th>\n",
       "      <td>123761</td>\n",
       "      <td>CaptainPlayerId</td>\n",
       "      <td>194</td>\n",
       "    </tr>\n",
       "    <tr>\n",
       "      <th>3</th>\n",
       "      <td>260843,353418,100008,460260,22079,93206,437022...</td>\n",
       "      <td>InvolvedPlayers</td>\n",
       "      <td>30</td>\n",
       "    </tr>\n",
       "    <tr>\n",
       "      <th>4</th>\n",
       "      <td>22</td>\n",
       "      <td>TeamFormation</td>\n",
       "      <td>130</td>\n",
       "    </tr>\n",
       "    <tr>\n",
       "      <th>5</th>\n",
       "      <td>1, 2, 2, 3, 2, 2, 3, 3, 3, 3, 3, 5, 5, 5, 5, 5...</td>\n",
       "      <td>PlayerPosition</td>\n",
       "      <td>44</td>\n",
       "    </tr>\n",
       "  </tbody>\n",
       "</table>\n",
       "</div>"
      ],
      "text/plain": [
       "                                               value     type.displayName  \\\n",
       "0  1, 2, 3, 4, 5, 6, 7, 8, 9, 10, 11, 0, 0, 0, 0,...  TeamPlayerFormation   \n",
       "1  24, 20, 2, 37, 35, 19, 17, 18, 39, 8, 10, 1, 4...         JerseyNumber   \n",
       "2                                             123761      CaptainPlayerId   \n",
       "3  260843,353418,100008,460260,22079,93206,437022...      InvolvedPlayers   \n",
       "4                                                 22        TeamFormation   \n",
       "5  1, 2, 2, 3, 2, 2, 3, 3, 3, 3, 3, 5, 5, 5, 5, 5...       PlayerPosition   \n",
       "\n",
       "   type.value  \n",
       "0         131  \n",
       "1          59  \n",
       "2         194  \n",
       "3          30  \n",
       "4         130  \n",
       "5          44  "
      ]
     },
     "execution_count": 92,
     "metadata": {},
     "output_type": "execute_result"
    }
   ],
   "source": [
    "from ast import literal_eval\n",
    "\n",
    "# pd.json_normalize(literal_eval(events['qualifiers'].loc[0]))\n",
    "# for i, json in events['qualifiers'].loc[0:2].items():\n",
    "#     print(i)\n",
    "#     print(json.split(','))"
   ]
  },
  {
   "cell_type": "code",
   "execution_count": 93,
   "id": "d1a1bcc4",
   "metadata": {},
   "outputs": [
    {
     "ename": "NotImplementedError",
     "evalue": "",
     "output_type": "error",
     "traceback": [
      "\u001b[0;31m---------------------------------------------------------------------------\u001b[0m",
      "\u001b[0;31mNotImplementedError\u001b[0m                       Traceback (most recent call last)",
      "Cell \u001b[0;32mIn[93], line 1\u001b[0m\n\u001b[0;32m----> 1\u001b[0m \u001b[43mpd\u001b[49m\u001b[38;5;241;43m.\u001b[39;49m\u001b[43mjson_normalize\u001b[49m\u001b[43m(\u001b[49m\u001b[43mevents\u001b[49m\u001b[38;5;241;43m.\u001b[39;49m\u001b[43mqualifiers\u001b[49m\u001b[38;5;241;43m.\u001b[39;49m\u001b[43mloc\u001b[49m\u001b[43m[\u001b[49m\u001b[38;5;241;43m0\u001b[39;49m\u001b[43m]\u001b[49m\u001b[43m[\u001b[49m\u001b[38;5;241;43m1\u001b[39;49m\u001b[43m:\u001b[49m\u001b[38;5;241;43m-\u001b[39;49m\u001b[38;5;241;43m1\u001b[39;49m\u001b[43m]\u001b[49m\u001b[43m)\u001b[49m\n",
      "File \u001b[0;32m~/anaconda3/lib/python3.10/site-packages/pandas/io/json/_normalize.py:445\u001b[0m, in \u001b[0;36mjson_normalize\u001b[0;34m(data, record_path, meta, meta_prefix, record_prefix, errors, sep, max_level)\u001b[0m\n\u001b[1;32m    443\u001b[0m     data \u001b[38;5;241m=\u001b[39m \u001b[38;5;28mlist\u001b[39m(data)\n\u001b[1;32m    444\u001b[0m \u001b[38;5;28;01melse\u001b[39;00m:\n\u001b[0;32m--> 445\u001b[0m     \u001b[38;5;28;01mraise\u001b[39;00m \u001b[38;5;167;01mNotImplementedError\u001b[39;00m\n\u001b[1;32m    447\u001b[0m \u001b[38;5;66;03m# check to see if a simple recursive function is possible to\u001b[39;00m\n\u001b[1;32m    448\u001b[0m \u001b[38;5;66;03m# improve performance (see #15621) but only for cases such\u001b[39;00m\n\u001b[1;32m    449\u001b[0m \u001b[38;5;66;03m# as pd.Dataframe(data) or pd.Dataframe(data, sep)\u001b[39;00m\n\u001b[1;32m    450\u001b[0m \u001b[38;5;28;01mif\u001b[39;00m (\n\u001b[1;32m    451\u001b[0m     record_path \u001b[38;5;129;01mis\u001b[39;00m \u001b[38;5;28;01mNone\u001b[39;00m\n\u001b[1;32m    452\u001b[0m     \u001b[38;5;129;01mand\u001b[39;00m meta \u001b[38;5;129;01mis\u001b[39;00m \u001b[38;5;28;01mNone\u001b[39;00m\n\u001b[0;32m   (...)\u001b[0m\n\u001b[1;32m    455\u001b[0m     \u001b[38;5;129;01mand\u001b[39;00m max_level \u001b[38;5;129;01mis\u001b[39;00m \u001b[38;5;28;01mNone\u001b[39;00m\n\u001b[1;32m    456\u001b[0m ):\n",
      "\u001b[0;31mNotImplementedError\u001b[0m: "
     ]
    }
   ],
   "source": [
    "# pd.json_normalize(events.qualifiers.loc[0][1:-1])"
   ]
  },
  {
   "cell_type": "markdown",
   "id": "44bdb26a",
   "metadata": {},
   "source": [
    "## Save File"
   ]
  },
  {
   "cell_type": "code",
   "execution_count": 119,
   "id": "2a7d4b15",
   "metadata": {},
   "outputs": [],
   "source": [
    "league = events.loc[0, 'league']\n",
    "season = events.loc[0, 'season']\n",
    "home = events.loc[0, 'home']\n",
    "away = events.loc[0, 'away']\n",
    "\n",
    "match_name = f'{season}_{league}_{home}-{away}_clean.csv'\n",
    "\n",
    "events.to_csv(match_name)"
   ]
  }
 ],
 "metadata": {
  "kernelspec": {
   "display_name": ".venv",
   "language": "python",
   "name": "python3"
  },
  "language_info": {
   "codemirror_mode": {
    "name": "ipython",
    "version": 3
   },
   "file_extension": ".py",
   "mimetype": "text/x-python",
   "name": "python",
   "nbconvert_exporter": "python",
   "pygments_lexer": "ipython3",
   "version": "3.10.11"
  }
 },
 "nbformat": 4,
 "nbformat_minor": 5
}
