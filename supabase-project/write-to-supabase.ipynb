{
 "cells": [
  {
   "cell_type": "code",
   "execution_count": 1,
   "metadata": {},
   "outputs": [],
   "source": [
    "import os\n",
    "from supabase import create_client, Client\n",
    "\n",
    "url = os.environ.get(\"SUPABASE_URL\")\n",
    "key = os.environ.get(\"SUPABASE_KEY\")\n",
    "supabase = create_client(url, key)\n"
   ]
  },
  {
   "cell_type": "code",
   "execution_count": 3,
   "metadata": {},
   "outputs": [
    {
     "name": "stdout",
     "output_type": "stream",
     "text": [
      "{'code': '23505', 'details': 'Key (id)=(1) already exists.', 'hint': None, 'message': 'duplicate key value violates unique constraint \"test_table_pkey\"'}\n"
     ]
    }
   ],
   "source": [
    "try:\n",
    "  response = supabase.table(\"test_table\")\\\n",
    "  .insert([\n",
    "      { \"id\": 1, \"name\": \"Frodo\", \"date\": \"2020-01-01\" },\n",
    "      { \"id\": 2, \"name\": \"Sam\", \"date\": \"2020-01-02\" },\n",
    "    ])\\\n",
    "    .execute()\n",
    "except Exception as exception:\n",
    "  response = exception\n",
    "\n",
    "print(response)\n"
   ]
  },
  {
   "cell_type": "code",
   "execution_count": null,
   "metadata": {},
   "outputs": [],
   "source": []
  }
 ],
 "metadata": {
  "kernelspec": {
   "display_name": ".venv",
   "language": "python",
   "name": "python3"
  },
  "language_info": {
   "codemirror_mode": {
    "name": "ipython",
    "version": 3
   },
   "file_extension": ".py",
   "mimetype": "text/x-python",
   "name": "python",
   "nbconvert_exporter": "python",
   "pygments_lexer": "ipython3",
   "version": "3.10.11"
  }
 },
 "nbformat": 4,
 "nbformat_minor": 2
}
