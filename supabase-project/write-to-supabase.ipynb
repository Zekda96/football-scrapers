{
 "cells": [
  {
   "cell_type": "markdown",
   "metadata": {},
   "source": [
    "Need to get one match of events from cache and test write to supabase table"
   ]
  },
  {
   "cell_type": "code",
   "execution_count": null,
   "metadata": {},
   "outputs": [],
   "source": [
    "import soccerdata as sd\n",
    "from supabase_lib import write_to_supabase\n",
    "from clean_dataframe import clean_df\n",
    "\n",
    "leagues = 'ESP-La Liga'\n",
    "seasons = '23-24'\n",
    "ws = sd.WhoScored(leagues=leagues, seasons=seasons)\n",
    "events = ws.read_events(match_id=1734708, force_cache=True)\n",
    "\n",
    "df = clean_df(events)\n",
    "response = write_to_supabase(\"ESP-La_Liga_23-24\", df, \"upsert\")\n",
    "\n",
    "response"
   ]
  }
 ],
 "metadata": {
  "kernelspec": {
   "display_name": ".venv",
   "language": "python",
   "name": "python3"
  },
  "language_info": {
   "codemirror_mode": {
    "name": "ipython",
    "version": 3
   },
   "file_extension": ".py",
   "mimetype": "text/x-python",
   "name": "python",
   "nbconvert_exporter": "python",
   "pygments_lexer": "ipython3",
   "version": "3.10.11"
  }
 },
 "nbformat": 4,
 "nbformat_minor": 2
}
